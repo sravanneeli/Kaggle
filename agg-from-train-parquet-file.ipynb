{
 "cells": [
  {
   "cell_type": "code",
   "execution_count": 1,
   "id": "cb7406a3",
   "metadata": {
    "_cell_guid": "b1076dfc-b9ad-4769-8c92-a6c4dae69d19",
    "_kg_hide-output": true,
    "_uuid": "8f2839f25d086af736a60e9eeb907d3b93b6e0e5",
    "execution": {
     "iopub.execute_input": "2022-06-01T08:58:35.738641Z",
     "iopub.status.busy": "2022-06-01T08:58:35.738193Z",
     "iopub.status.idle": "2022-06-01T08:58:35.803693Z",
     "shell.execute_reply": "2022-06-01T08:58:35.803065Z"
    },
    "papermill": {
     "duration": 0.080539,
     "end_time": "2022-06-01T08:58:35.805846",
     "exception": false,
     "start_time": "2022-06-01T08:58:35.725307",
     "status": "completed"
    },
    "scrolled": true,
    "tags": []
   },
   "outputs": [
    {
     "name": "stdout",
     "output_type": "stream",
     "text": [
      "/kaggle/input/amex-default-prediction-parquet-files/test_file_23.pqt\n",
      "/kaggle/input/amex-default-prediction-parquet-files/test_file_72.pqt\n",
      "/kaggle/input/amex-default-prediction-parquet-files/test_file_61.pqt\n",
      "/kaggle/input/amex-default-prediction-parquet-files/test_file_55.pqt\n",
      "/kaggle/input/amex-default-prediction-parquet-files/test_file_71.pqt\n",
      "/kaggle/input/amex-default-prediction-parquet-files/test_file_53.pqt\n",
      "/kaggle/input/amex-default-prediction-parquet-files/test_file_30.pqt\n",
      "/kaggle/input/amex-default-prediction-parquet-files/test_file_20.pqt\n",
      "/kaggle/input/amex-default-prediction-parquet-files/test_file_80.pqt\n",
      "/kaggle/input/amex-default-prediction-parquet-files/test_file_85.pqt\n",
      "/kaggle/input/amex-default-prediction-parquet-files/test_file_36.pqt\n",
      "/kaggle/input/amex-default-prediction-parquet-files/test_file_50.pqt\n",
      "/kaggle/input/amex-default-prediction-parquet-files/test_file_97.pqt\n",
      "/kaggle/input/amex-default-prediction-parquet-files/train_file_28.pqt\n",
      "/kaggle/input/amex-default-prediction-parquet-files/test_file_16.pqt\n",
      "/kaggle/input/amex-default-prediction-parquet-files/train_file_53.pqt\n",
      "/kaggle/input/amex-default-prediction-parquet-files/test_file_7.pqt\n",
      "/kaggle/input/amex-default-prediction-parquet-files/train_file_21.pqt\n",
      "/kaggle/input/amex-default-prediction-parquet-files/test_file_13.pqt\n",
      "/kaggle/input/amex-default-prediction-parquet-files/test_file_112.pqt\n",
      "/kaggle/input/amex-default-prediction-parquet-files/test_file_73.pqt\n",
      "/kaggle/input/amex-default-prediction-parquet-files/test_file_100.pqt\n",
      "/kaggle/input/amex-default-prediction-parquet-files/train_file_17.pqt\n",
      "/kaggle/input/amex-default-prediction-parquet-files/test_file_38.pqt\n",
      "/kaggle/input/amex-default-prediction-parquet-files/train_file_44.pqt\n",
      "/kaggle/input/amex-default-prediction-parquet-files/train_file_31.pqt\n",
      "/kaggle/input/amex-default-prediction-parquet-files/test_file_22.pqt\n",
      "/kaggle/input/amex-default-prediction-parquet-files/train_file_56.pqt\n",
      "/kaggle/input/amex-default-prediction-parquet-files/test_file_11.pqt\n",
      "/kaggle/input/amex-default-prediction-parquet-files/test_file_47.pqt\n",
      "/kaggle/input/amex-default-prediction-parquet-files/test_file_35.pqt\n",
      "/kaggle/input/amex-default-prediction-parquet-files/test_file_68.pqt\n",
      "/kaggle/input/amex-default-prediction-parquet-files/test_file_95.pqt\n",
      "/kaggle/input/amex-default-prediction-parquet-files/test_file_27.pqt\n",
      "/kaggle/input/amex-default-prediction-parquet-files/test_file_43.pqt\n",
      "/kaggle/input/amex-default-prediction-parquet-files/test_file_14.pqt\n",
      "/kaggle/input/amex-default-prediction-parquet-files/test_file_88.pqt\n",
      "/kaggle/input/amex-default-prediction-parquet-files/test_file_82.pqt\n",
      "/kaggle/input/amex-default-prediction-parquet-files/test_file_81.pqt\n",
      "/kaggle/input/amex-default-prediction-parquet-files/train_file_35.pqt\n",
      "/kaggle/input/amex-default-prediction-parquet-files/train_file_13.pqt\n",
      "/kaggle/input/amex-default-prediction-parquet-files/test_file_10.pqt\n",
      "/kaggle/input/amex-default-prediction-parquet-files/train_file_19.pqt\n",
      "/kaggle/input/amex-default-prediction-parquet-files/train_file_5.pqt\n",
      "/kaggle/input/amex-default-prediction-parquet-files/test_file_40.pqt\n",
      "/kaggle/input/amex-default-prediction-parquet-files/train_file_48.pqt\n",
      "/kaggle/input/amex-default-prediction-parquet-files/test_file_59.pqt\n",
      "/kaggle/input/amex-default-prediction-parquet-files/test_file_106.pqt\n",
      "/kaggle/input/amex-default-prediction-parquet-files/train_file_39.pqt\n",
      "/kaggle/input/amex-default-prediction-parquet-files/train_file_52.pqt\n",
      "/kaggle/input/amex-default-prediction-parquet-files/test_file_86.pqt\n",
      "/kaggle/input/amex-default-prediction-parquet-files/test_file_58.pqt\n",
      "/kaggle/input/amex-default-prediction-parquet-files/test_file_64.pqt\n",
      "/kaggle/input/amex-default-prediction-parquet-files/train_file_27.pqt\n",
      "/kaggle/input/amex-default-prediction-parquet-files/test_file_109.pqt\n",
      "/kaggle/input/amex-default-prediction-parquet-files/test_file_69.pqt\n",
      "/kaggle/input/amex-default-prediction-parquet-files/train_file_22.pqt\n",
      "/kaggle/input/amex-default-prediction-parquet-files/train_file_40.pqt\n",
      "/kaggle/input/amex-default-prediction-parquet-files/test_file_2.pqt\n",
      "/kaggle/input/amex-default-prediction-parquet-files/test_file_90.pqt\n",
      "/kaggle/input/amex-default-prediction-parquet-files/train_file_47.pqt\n",
      "/kaggle/input/amex-default-prediction-parquet-files/test_file_111.pqt\n",
      "/kaggle/input/amex-default-prediction-parquet-files/train_file_33.pqt\n",
      "/kaggle/input/amex-default-prediction-parquet-files/test_file_56.pqt\n",
      "/kaggle/input/amex-default-prediction-parquet-files/test_file_103.pqt\n",
      "/kaggle/input/amex-default-prediction-parquet-files/test_file_113.pqt\n",
      "/kaggle/input/amex-default-prediction-parquet-files/train_file_12.pqt\n",
      "/kaggle/input/amex-default-prediction-parquet-files/test_file_101.pqt\n",
      "/kaggle/input/amex-default-prediction-parquet-files/test_file_12.pqt\n",
      "/kaggle/input/amex-default-prediction-parquet-files/test_file_62.pqt\n",
      "/kaggle/input/amex-default-prediction-parquet-files/train_file_24.pqt\n",
      "/kaggle/input/amex-default-prediction-parquet-files/train_file_1.pqt\n",
      "/kaggle/input/amex-default-prediction-parquet-files/test_file_89.pqt\n",
      "/kaggle/input/amex-default-prediction-parquet-files/test_file_51.pqt\n",
      "/kaggle/input/amex-default-prediction-parquet-files/test_file_70.pqt\n",
      "/kaggle/input/amex-default-prediction-parquet-files/train_file_4.pqt\n",
      "/kaggle/input/amex-default-prediction-parquet-files/test_file_96.pqt\n",
      "/kaggle/input/amex-default-prediction-parquet-files/train_file_16.pqt\n",
      "/kaggle/input/amex-default-prediction-parquet-files/train_file_41.pqt\n",
      "/kaggle/input/amex-default-prediction-parquet-files/test_file_34.pqt\n",
      "/kaggle/input/amex-default-prediction-parquet-files/train_file_30.pqt\n",
      "/kaggle/input/amex-default-prediction-parquet-files/train_file_38.pqt\n",
      "/kaggle/input/amex-default-prediction-parquet-files/test_file_76.pqt\n",
      "/kaggle/input/amex-default-prediction-parquet-files/train_file_9.pqt\n",
      "/kaggle/input/amex-default-prediction-parquet-files/train_file_6.pqt\n",
      "/kaggle/input/amex-default-prediction-parquet-files/train_file_18.pqt\n",
      "/kaggle/input/amex-default-prediction-parquet-files/train_file_49.pqt\n",
      "/kaggle/input/amex-default-prediction-parquet-files/test_file_105.pqt\n",
      "/kaggle/input/amex-default-prediction-parquet-files/train_file_25.pqt\n",
      "/kaggle/input/amex-default-prediction-parquet-files/test_file_32.pqt\n",
      "/kaggle/input/amex-default-prediction-parquet-files/test_file_74.pqt\n",
      "/kaggle/input/amex-default-prediction-parquet-files/test_file_87.pqt\n",
      "/kaggle/input/amex-default-prediction-parquet-files/test_file_66.pqt\n",
      "/kaggle/input/amex-default-prediction-parquet-files/test_file_21.pqt\n",
      "/kaggle/input/amex-default-prediction-parquet-files/test_file_107.pqt\n",
      "/kaggle/input/amex-default-prediction-parquet-files/test_file_54.pqt\n",
      "/kaggle/input/amex-default-prediction-parquet-files/test_file_18.pqt\n",
      "/kaggle/input/amex-default-prediction-parquet-files/test_file_75.pqt\n",
      "/kaggle/input/amex-default-prediction-parquet-files/test_file_25.pqt\n",
      "/kaggle/input/amex-default-prediction-parquet-files/test_file_104.pqt\n",
      "/kaggle/input/amex-default-prediction-parquet-files/test_file_44.pqt\n",
      "/kaggle/input/amex-default-prediction-parquet-files/test_file_29.pqt\n",
      "/kaggle/input/amex-default-prediction-parquet-files/test_file_33.pqt\n",
      "/kaggle/input/amex-default-prediction-parquet-files/train_file_32.pqt\n",
      "/kaggle/input/amex-default-prediction-parquet-files/test_file_91.pqt\n",
      "/kaggle/input/amex-default-prediction-parquet-files/train_file_23.pqt\n",
      "/kaggle/input/amex-default-prediction-parquet-files/test_file_4.pqt\n",
      "/kaggle/input/amex-default-prediction-parquet-files/test_file_57.pqt\n",
      "/kaggle/input/amex-default-prediction-parquet-files/test_file_110.pqt\n",
      "/kaggle/input/amex-default-prediction-parquet-files/train_file_10.pqt\n",
      "/kaggle/input/amex-default-prediction-parquet-files/train_file_29.pqt\n",
      "/kaggle/input/amex-default-prediction-parquet-files/test_file_102.pqt\n",
      "/kaggle/input/amex-default-prediction-parquet-files/train_file_20.pqt\n",
      "/kaggle/input/amex-default-prediction-parquet-files/train_file_42.pqt\n",
      "/kaggle/input/amex-default-prediction-parquet-files/test_file_98.pqt\n",
      "/kaggle/input/amex-default-prediction-parquet-files/test_file_39.pqt\n",
      "/kaggle/input/amex-default-prediction-parquet-files/train_file_7.pqt\n",
      "/kaggle/input/amex-default-prediction-parquet-files/train_file_46.pqt\n",
      "/kaggle/input/amex-default-prediction-parquet-files/test_file_28.pqt\n",
      "/kaggle/input/amex-default-prediction-parquet-files/test_file_45.pqt\n",
      "/kaggle/input/amex-default-prediction-parquet-files/test_file_17.pqt\n",
      "/kaggle/input/amex-default-prediction-parquet-files/test_file_8.pqt\n",
      "/kaggle/input/amex-default-prediction-parquet-files/test_file_42.pqt\n",
      "/kaggle/input/amex-default-prediction-parquet-files/test_file_79.pqt\n",
      "/kaggle/input/amex-default-prediction-parquet-files/train_file_51.pqt\n",
      "/kaggle/input/amex-default-prediction-parquet-files/test_file_65.pqt\n",
      "/kaggle/input/amex-default-prediction-parquet-files/train_file_36.pqt\n",
      "/kaggle/input/amex-default-prediction-parquet-files/test_file_67.pqt\n",
      "/kaggle/input/amex-default-prediction-parquet-files/train_file_26.pqt\n",
      "/kaggle/input/amex-default-prediction-parquet-files/test_file_99.pqt\n",
      "/kaggle/input/amex-default-prediction-parquet-files/train_file_15.pqt\n",
      "/kaggle/input/amex-default-prediction-parquet-files/test_file_37.pqt\n",
      "/kaggle/input/amex-default-prediction-parquet-files/test_file_84.pqt\n",
      "/kaggle/input/amex-default-prediction-parquet-files/test_file_63.pqt\n",
      "/kaggle/input/amex-default-prediction-parquet-files/test_file_114.pqt\n",
      "/kaggle/input/amex-default-prediction-parquet-files/test_file_24.pqt\n",
      "/kaggle/input/amex-default-prediction-parquet-files/test_file_6.pqt\n",
      "/kaggle/input/amex-default-prediction-parquet-files/test_file_19.pqt\n",
      "/kaggle/input/amex-default-prediction-parquet-files/test_file_1.pqt\n",
      "/kaggle/input/amex-default-prediction-parquet-files/test_file_60.pqt\n",
      "/kaggle/input/amex-default-prediction-parquet-files/test_file_31.pqt\n",
      "/kaggle/input/amex-default-prediction-parquet-files/test_file_52.pqt\n",
      "/kaggle/input/amex-default-prediction-parquet-files/test_file_108.pqt\n",
      "/kaggle/input/amex-default-prediction-parquet-files/train_file_37.pqt\n",
      "/kaggle/input/amex-default-prediction-parquet-files/train_file_54.pqt\n",
      "/kaggle/input/amex-default-prediction-parquet-files/test_file_92.pqt\n",
      "/kaggle/input/amex-default-prediction-parquet-files/test_file_49.pqt\n",
      "/kaggle/input/amex-default-prediction-parquet-files/train_file_50.pqt\n",
      "/kaggle/input/amex-default-prediction-parquet-files/train_file_8.pqt\n",
      "/kaggle/input/amex-default-prediction-parquet-files/test_file_5.pqt\n",
      "/kaggle/input/amex-default-prediction-parquet-files/test_file_94.pqt\n",
      "/kaggle/input/amex-default-prediction-parquet-files/test_file_46.pqt\n",
      "/kaggle/input/amex-default-prediction-parquet-files/train_file_14.pqt\n",
      "/kaggle/input/amex-default-prediction-parquet-files/train_file_3.pqt\n",
      "/kaggle/input/amex-default-prediction-parquet-files/train_file_55.pqt\n",
      "/kaggle/input/amex-default-prediction-parquet-files/train_file_2.pqt\n",
      "/kaggle/input/amex-default-prediction-parquet-files/train_file_45.pqt\n",
      "/kaggle/input/amex-default-prediction-parquet-files/test_file_3.pqt\n",
      "/kaggle/input/amex-default-prediction-parquet-files/test_file_26.pqt\n",
      "/kaggle/input/amex-default-prediction-parquet-files/test_file_15.pqt\n",
      "/kaggle/input/amex-default-prediction-parquet-files/test_file_48.pqt\n",
      "/kaggle/input/amex-default-prediction-parquet-files/test_file_77.pqt\n",
      "/kaggle/input/amex-default-prediction-parquet-files/test_file_41.pqt\n",
      "/kaggle/input/amex-default-prediction-parquet-files/train_file_34.pqt\n",
      "/kaggle/input/amex-default-prediction-parquet-files/train_file_11.pqt\n",
      "/kaggle/input/amex-default-prediction-parquet-files/test_file_83.pqt\n",
      "/kaggle/input/amex-default-prediction-parquet-files/test_file_93.pqt\n",
      "/kaggle/input/amex-default-prediction-parquet-files/train_file_43.pqt\n",
      "/kaggle/input/amex-default-prediction-parquet-files/test_file_9.pqt\n",
      "/kaggle/input/amex-default-prediction-parquet-files/test_file_78.pqt\n",
      "/kaggle/input/amex-default-prediction/sample_submission.csv\n",
      "/kaggle/input/amex-default-prediction/train_data.csv\n",
      "/kaggle/input/amex-default-prediction/test_data.csv\n",
      "/kaggle/input/amex-default-prediction/train_labels.csv\n"
     ]
    }
   ],
   "source": [
    "# This Python 3 environment comes with many helpful analytics libraries installed\n",
    "# It is defined by the kaggle/python Docker image: https://github.com/kaggle/docker-python\n",
    "# For example, here's several helpful packages to load\n",
    "\n",
    "import numpy as np # linear algebra\n",
    "import pandas as pd # data processing, CSV file I/O (e.g. pd.read_csv)\n",
    "import gc\n",
    "# Input data files are available in the read-only \"../input/\" directory\n",
    "# For example, running this (by clicking run or pressing Shift+Enter) will list all files under the input directory\n",
    "\n",
    "import os\n",
    "for dirname, _, filenames in os.walk('/kaggle/input'):\n",
    "    for filename in filenames:\n",
    "        print(os.path.join(dirname, filename))\n",
    "\n",
    "# You can write up to 20GB to the current directory (/kaggle/working/) that gets preserved as output when you create a version using \"Save & Run All\" \n",
    "# You can also write temporary files to /kaggle/temp/, but they won't be saved outside of the current session"
   ]
  },
  {
   "cell_type": "markdown",
   "id": "fd4ca532",
   "metadata": {
    "papermill": {
     "duration": 0.006492,
     "end_time": "2022-06-01T08:58:35.819350",
     "exception": false,
     "start_time": "2022-06-01T08:58:35.812858",
     "status": "completed"
    },
    "tags": []
   },
   "source": [
    "## Please refer to [this](https://www.kaggle.com/code/sravanneeli/convert-train-and-test-multiple-parquet-files) notebook for creating train and test parquet files"
   ]
  },
  {
   "cell_type": "code",
   "execution_count": 2,
   "id": "0e44c043",
   "metadata": {
    "execution": {
     "iopub.execute_input": "2022-06-01T08:58:35.834827Z",
     "iopub.status.busy": "2022-06-01T08:58:35.834203Z",
     "iopub.status.idle": "2022-06-01T08:59:23.925826Z",
     "shell.execute_reply": "2022-06-01T08:59:23.924296Z"
    },
    "papermill": {
     "duration": 48.102733,
     "end_time": "2022-06-01T08:59:23.928956",
     "exception": false,
     "start_time": "2022-06-01T08:58:35.826223",
     "status": "completed"
    },
    "tags": []
   },
   "outputs": [
    {
     "name": "stdout",
     "output_type": "stream",
     "text": [
      "Collecting pyspark\r\n",
      "  Downloading pyspark-3.2.1.tar.gz (281.4 MB)\r\n",
      "\u001b[2K     \u001b[90m━━━━━━━━━━━━━━━━━━━━━━━━━━━━━━━━━━━━━━━\u001b[0m \u001b[32m281.4/281.4 MB\u001b[0m \u001b[31m4.4 MB/s\u001b[0m eta \u001b[36m0:00:00\u001b[0m\r\n",
      "\u001b[?25h  Preparing metadata (setup.py) ... \u001b[?25l-\b \b\\\b \bdone\r\n",
      "\u001b[?25hCollecting py4j==0.10.9.3\r\n",
      "  Downloading py4j-0.10.9.3-py2.py3-none-any.whl (198 kB)\r\n",
      "\u001b[2K     \u001b[90m━━━━━━━━━━━━━━━━━━━━━━━━━━━━━━━━━━━━━━\u001b[0m \u001b[32m199.0/199.0 kB\u001b[0m \u001b[31m12.6 MB/s\u001b[0m eta \u001b[36m0:00:00\u001b[0m\r\n",
      "\u001b[?25hBuilding wheels for collected packages: pyspark\r\n",
      "  Building wheel for pyspark (setup.py) ... \u001b[?25l-\b \b\\\b \b|\b \b/\b \b-\b \b\\\b \b|\b \b/\b \b-\b \b\\\b \b|\b \b/\b \b-\b \b\\\b \b|\b \b/\b \b-\b \b\\\b \b|\b \b/\b \b-\b \b\\\b \b|\b \b/\b \b-\b \b\\\b \b|\b \b/\b \b-\b \b\\\b \b|\b \b/\b \b-\b \b\\\b \b|\b \b/\b \b-\b \b\\\b \b|\b \b/\b \b-\b \b\\\b \b|\b \b/\b \b-\b \b\\\b \b|\b \b/\b \b-\b \b\\\b \b|\b \b/\b \b-\b \b\\\b \b|\b \b/\b \b-\b \bdone\r\n",
      "\u001b[?25h  Created wheel for pyspark: filename=pyspark-3.2.1-py2.py3-none-any.whl size=281853642 sha256=b8dd28e175e52fa32df8837cfd2757b0fbef2fac8c305865a1f089971f7abab1\r\n",
      "  Stored in directory: /root/.cache/pip/wheels/9f/f5/07/7cd8017084dce4e93e84e92efd1e1d5334db05f2e83bcef74f\r\n",
      "Successfully built pyspark\r\n",
      "Installing collected packages: py4j, pyspark\r\n",
      "  Attempting uninstall: py4j\r\n",
      "    Found existing installation: py4j 0.10.9.5\r\n",
      "    Uninstalling py4j-0.10.9.5:\r\n",
      "      Successfully uninstalled py4j-0.10.9.5\r\n",
      "Successfully installed py4j-0.10.9.3 pyspark-3.2.1\r\n",
      "\u001b[33mWARNING: Running pip as the 'root' user can result in broken permissions and conflicting behaviour with the system package manager. It is recommended to use a virtual environment instead: https://pip.pypa.io/warnings/venv\u001b[0m\u001b[33m\r\n",
      "\u001b[0m"
     ]
    }
   ],
   "source": [
    "!pip install pyspark"
   ]
  },
  {
   "cell_type": "code",
   "execution_count": 3,
   "id": "fce3456f",
   "metadata": {
    "execution": {
     "iopub.execute_input": "2022-06-01T08:59:23.978547Z",
     "iopub.status.busy": "2022-06-01T08:59:23.978090Z",
     "iopub.status.idle": "2022-06-01T08:59:29.882583Z",
     "shell.execute_reply": "2022-06-01T08:59:29.881674Z"
    },
    "papermill": {
     "duration": 5.931813,
     "end_time": "2022-06-01T08:59:29.884462",
     "exception": false,
     "start_time": "2022-06-01T08:59:23.952649",
     "status": "completed"
    },
    "tags": []
   },
   "outputs": [
    {
     "name": "stderr",
     "output_type": "stream",
     "text": [
      "WARNING: An illegal reflective access operation has occurred\n",
      "WARNING: Illegal reflective access by org.apache.spark.unsafe.Platform (file:/opt/conda/lib/python3.7/site-packages/pyspark/jars/spark-unsafe_2.12-3.2.1.jar) to constructor java.nio.DirectByteBuffer(long,int)\n",
      "WARNING: Please consider reporting this to the maintainers of org.apache.spark.unsafe.Platform\n",
      "WARNING: Use --illegal-access=warn to enable warnings of further illegal reflective access operations\n",
      "WARNING: All illegal access operations will be denied in a future release\n",
      "Using Spark's default log4j profile: org/apache/spark/log4j-defaults.properties\n",
      "Setting default log level to \"WARN\".\n",
      "To adjust logging level use sc.setLogLevel(newLevel). For SparkR, use setLogLevel(newLevel).\n",
      "22/06/01 08:59:26 WARN NativeCodeLoader: Unable to load native-hadoop library for your platform... using builtin-java classes where applicable\n"
     ]
    }
   ],
   "source": [
    "from pyspark.sql import SparkSession\n",
    " \n",
    "spark = SparkSession.builder \\\n",
    "    .master('local[*]') \\\n",
    "    .config(\"spark.driver.memory\", \"15g\") \\\n",
    "    .appName('amex-test') \\\n",
    "    .getOrCreate()"
   ]
  },
  {
   "cell_type": "code",
   "execution_count": 4,
   "id": "cb396eef",
   "metadata": {
    "execution": {
     "iopub.execute_input": "2022-06-01T08:59:29.916125Z",
     "iopub.status.busy": "2022-06-01T08:59:29.915480Z",
     "iopub.status.idle": "2022-06-01T08:59:34.794409Z",
     "shell.execute_reply": "2022-06-01T08:59:34.793778Z"
    },
    "papermill": {
     "duration": 4.897021,
     "end_time": "2022-06-01T08:59:34.796243",
     "exception": false,
     "start_time": "2022-06-01T08:59:29.899222",
     "status": "completed"
    },
    "tags": []
   },
   "outputs": [
    {
     "name": "stderr",
     "output_type": "stream",
     "text": [
      "                                                                                \r"
     ]
    }
   ],
   "source": [
    "train_df = spark.read.parquet('../input/amex-default-prediction-parquet-files/train*.pqt')"
   ]
  },
  {
   "cell_type": "code",
   "execution_count": 5,
   "id": "2225a51f",
   "metadata": {
    "_kg_hide-output": true,
    "execution": {
     "iopub.execute_input": "2022-06-01T08:59:34.829501Z",
     "iopub.status.busy": "2022-06-01T08:59:34.829095Z",
     "iopub.status.idle": "2022-06-01T08:59:34.862285Z",
     "shell.execute_reply": "2022-06-01T08:59:34.861587Z"
    },
    "papermill": {
     "duration": 0.053236,
     "end_time": "2022-06-01T08:59:34.864898",
     "exception": false,
     "start_time": "2022-06-01T08:59:34.811662",
     "status": "completed"
    },
    "scrolled": true,
    "tags": []
   },
   "outputs": [
    {
     "name": "stdout",
     "output_type": "stream",
     "text": [
      "root\n",
      " |-- customer_ID: binary (nullable = true)\n",
      " |-- S_2: timestamp (nullable = true)\n",
      " |-- P_2: float (nullable = true)\n",
      " |-- D_39: float (nullable = true)\n",
      " |-- B_1: float (nullable = true)\n",
      " |-- B_2: float (nullable = true)\n",
      " |-- R_1: float (nullable = true)\n",
      " |-- S_3: float (nullable = true)\n",
      " |-- D_41: float (nullable = true)\n",
      " |-- B_3: float (nullable = true)\n",
      " |-- D_42: float (nullable = true)\n",
      " |-- D_43: float (nullable = true)\n",
      " |-- D_44: float (nullable = true)\n",
      " |-- B_4: float (nullable = true)\n",
      " |-- D_45: float (nullable = true)\n",
      " |-- B_5: float (nullable = true)\n",
      " |-- R_2: float (nullable = true)\n",
      " |-- D_46: float (nullable = true)\n",
      " |-- D_47: float (nullable = true)\n",
      " |-- D_48: float (nullable = true)\n",
      " |-- D_49: float (nullable = true)\n",
      " |-- B_6: float (nullable = true)\n",
      " |-- B_7: float (nullable = true)\n",
      " |-- B_8: float (nullable = true)\n",
      " |-- D_50: float (nullable = true)\n",
      " |-- D_51: float (nullable = true)\n",
      " |-- B_9: float (nullable = true)\n",
      " |-- R_3: float (nullable = true)\n",
      " |-- D_52: float (nullable = true)\n",
      " |-- P_3: float (nullable = true)\n",
      " |-- B_10: float (nullable = true)\n",
      " |-- D_53: float (nullable = true)\n",
      " |-- S_5: float (nullable = true)\n",
      " |-- B_11: float (nullable = true)\n",
      " |-- S_6: float (nullable = true)\n",
      " |-- D_54: float (nullable = true)\n",
      " |-- R_4: float (nullable = true)\n",
      " |-- S_7: float (nullable = true)\n",
      " |-- B_12: float (nullable = true)\n",
      " |-- S_8: float (nullable = true)\n",
      " |-- D_55: float (nullable = true)\n",
      " |-- D_56: float (nullable = true)\n",
      " |-- B_13: float (nullable = true)\n",
      " |-- R_5: float (nullable = true)\n",
      " |-- D_58: float (nullable = true)\n",
      " |-- S_9: float (nullable = true)\n",
      " |-- B_14: float (nullable = true)\n",
      " |-- D_59: float (nullable = true)\n",
      " |-- D_60: float (nullable = true)\n",
      " |-- D_61: float (nullable = true)\n",
      " |-- B_15: float (nullable = true)\n",
      " |-- S_11: float (nullable = true)\n",
      " |-- D_62: float (nullable = true)\n",
      " |-- D_63: string (nullable = true)\n",
      " |-- D_64: string (nullable = true)\n",
      " |-- D_65: float (nullable = true)\n",
      " |-- B_16: float (nullable = true)\n",
      " |-- B_17: float (nullable = true)\n",
      " |-- B_18: float (nullable = true)\n",
      " |-- B_19: float (nullable = true)\n",
      " |-- D_66: float (nullable = true)\n",
      " |-- B_20: float (nullable = true)\n",
      " |-- D_68: float (nullable = true)\n",
      " |-- S_12: float (nullable = true)\n",
      " |-- R_6: float (nullable = true)\n",
      " |-- S_13: float (nullable = true)\n",
      " |-- B_21: float (nullable = true)\n",
      " |-- D_69: float (nullable = true)\n",
      " |-- B_22: float (nullable = true)\n",
      " |-- D_70: float (nullable = true)\n",
      " |-- D_71: float (nullable = true)\n",
      " |-- D_72: float (nullable = true)\n",
      " |-- S_15: float (nullable = true)\n",
      " |-- B_23: float (nullable = true)\n",
      " |-- D_73: float (nullable = true)\n",
      " |-- P_4: float (nullable = true)\n",
      " |-- D_74: float (nullable = true)\n",
      " |-- D_75: float (nullable = true)\n",
      " |-- D_76: float (nullable = true)\n",
      " |-- B_24: float (nullable = true)\n",
      " |-- R_7: float (nullable = true)\n",
      " |-- D_77: float (nullable = true)\n",
      " |-- B_25: float (nullable = true)\n",
      " |-- B_26: float (nullable = true)\n",
      " |-- D_78: float (nullable = true)\n",
      " |-- D_79: float (nullable = true)\n",
      " |-- R_8: float (nullable = true)\n",
      " |-- R_9: float (nullable = true)\n",
      " |-- S_16: float (nullable = true)\n",
      " |-- D_80: float (nullable = true)\n",
      " |-- R_10: float (nullable = true)\n",
      " |-- R_11: float (nullable = true)\n",
      " |-- B_27: float (nullable = true)\n",
      " |-- D_81: float (nullable = true)\n",
      " |-- D_82: float (nullable = true)\n",
      " |-- S_17: float (nullable = true)\n",
      " |-- R_12: float (nullable = true)\n",
      " |-- B_28: float (nullable = true)\n",
      " |-- R_13: float (nullable = true)\n",
      " |-- D_83: float (nullable = true)\n",
      " |-- R_14: float (nullable = true)\n",
      " |-- R_15: float (nullable = true)\n",
      " |-- D_84: float (nullable = true)\n",
      " |-- R_16: float (nullable = true)\n",
      " |-- B_29: float (nullable = true)\n",
      " |-- B_30: float (nullable = true)\n",
      " |-- S_18: float (nullable = true)\n",
      " |-- D_86: float (nullable = true)\n",
      " |-- D_87: float (nullable = true)\n",
      " |-- R_17: float (nullable = true)\n",
      " |-- R_18: float (nullable = true)\n",
      " |-- D_88: float (nullable = true)\n",
      " |-- B_31: long (nullable = true)\n",
      " |-- S_19: float (nullable = true)\n",
      " |-- R_19: float (nullable = true)\n",
      " |-- B_32: float (nullable = true)\n",
      " |-- S_20: float (nullable = true)\n",
      " |-- R_20: float (nullable = true)\n",
      " |-- R_21: float (nullable = true)\n",
      " |-- B_33: float (nullable = true)\n",
      " |-- D_89: float (nullable = true)\n",
      " |-- R_22: float (nullable = true)\n",
      " |-- R_23: float (nullable = true)\n",
      " |-- D_91: float (nullable = true)\n",
      " |-- D_92: float (nullable = true)\n",
      " |-- D_93: float (nullable = true)\n",
      " |-- D_94: float (nullable = true)\n",
      " |-- R_24: float (nullable = true)\n",
      " |-- R_25: float (nullable = true)\n",
      " |-- D_96: float (nullable = true)\n",
      " |-- S_22: float (nullable = true)\n",
      " |-- S_23: float (nullable = true)\n",
      " |-- S_24: float (nullable = true)\n",
      " |-- S_25: float (nullable = true)\n",
      " |-- S_26: float (nullable = true)\n",
      " |-- D_102: float (nullable = true)\n",
      " |-- D_103: float (nullable = true)\n",
      " |-- D_104: float (nullable = true)\n",
      " |-- D_105: float (nullable = true)\n",
      " |-- D_106: float (nullable = true)\n",
      " |-- D_107: float (nullable = true)\n",
      " |-- B_36: float (nullable = true)\n",
      " |-- B_37: float (nullable = true)\n",
      " |-- R_26: float (nullable = true)\n",
      " |-- R_27: float (nullable = true)\n",
      " |-- B_38: float (nullable = true)\n",
      " |-- D_108: float (nullable = true)\n",
      " |-- D_109: float (nullable = true)\n",
      " |-- D_110: float (nullable = true)\n",
      " |-- D_111: float (nullable = true)\n",
      " |-- B_39: float (nullable = true)\n",
      " |-- D_112: float (nullable = true)\n",
      " |-- B_40: float (nullable = true)\n",
      " |-- S_27: float (nullable = true)\n",
      " |-- D_113: float (nullable = true)\n",
      " |-- D_114: float (nullable = true)\n",
      " |-- D_115: float (nullable = true)\n",
      " |-- D_116: float (nullable = true)\n",
      " |-- D_117: float (nullable = true)\n",
      " |-- D_118: float (nullable = true)\n",
      " |-- D_119: float (nullable = true)\n",
      " |-- D_120: float (nullable = true)\n",
      " |-- D_121: float (nullable = true)\n",
      " |-- D_122: float (nullable = true)\n",
      " |-- D_123: float (nullable = true)\n",
      " |-- D_124: float (nullable = true)\n",
      " |-- D_125: float (nullable = true)\n",
      " |-- D_126: float (nullable = true)\n",
      " |-- D_127: float (nullable = true)\n",
      " |-- D_128: float (nullable = true)\n",
      " |-- D_129: float (nullable = true)\n",
      " |-- B_41: float (nullable = true)\n",
      " |-- B_42: float (nullable = true)\n",
      " |-- D_130: float (nullable = true)\n",
      " |-- D_131: float (nullable = true)\n",
      " |-- D_132: float (nullable = true)\n",
      " |-- D_133: float (nullable = true)\n",
      " |-- R_28: float (nullable = true)\n",
      " |-- D_134: float (nullable = true)\n",
      " |-- D_135: float (nullable = true)\n",
      " |-- D_136: float (nullable = true)\n",
      " |-- D_137: float (nullable = true)\n",
      " |-- D_138: float (nullable = true)\n",
      " |-- D_139: float (nullable = true)\n",
      " |-- D_140: float (nullable = true)\n",
      " |-- D_141: float (nullable = true)\n",
      " |-- D_142: float (nullable = true)\n",
      " |-- D_143: float (nullable = true)\n",
      " |-- D_144: float (nullable = true)\n",
      " |-- D_145: float (nullable = true)\n",
      "\n"
     ]
    }
   ],
   "source": [
    "train_df.printSchema()"
   ]
  },
  {
   "cell_type": "code",
   "execution_count": 6,
   "id": "00b0777c",
   "metadata": {
    "execution": {
     "iopub.execute_input": "2022-06-01T08:59:34.933630Z",
     "iopub.status.busy": "2022-06-01T08:59:34.932363Z",
     "iopub.status.idle": "2022-06-01T08:59:34.941648Z",
     "shell.execute_reply": "2022-06-01T08:59:34.940815Z"
    },
    "papermill": {
     "duration": 0.046361,
     "end_time": "2022-06-01T08:59:34.944361",
     "exception": false,
     "start_time": "2022-06-01T08:59:34.898000",
     "status": "completed"
    },
    "tags": []
   },
   "outputs": [],
   "source": [
    "from pyspark.sql.types import StringType, StructType\n",
    "import pyspark.sql.functions as func "
   ]
  },
  {
   "cell_type": "code",
   "execution_count": 7,
   "id": "47e67732",
   "metadata": {
    "execution": {
     "iopub.execute_input": "2022-06-01T08:59:35.008722Z",
     "iopub.status.busy": "2022-06-01T08:59:35.008215Z",
     "iopub.status.idle": "2022-06-01T08:59:35.235905Z",
     "shell.execute_reply": "2022-06-01T08:59:35.234678Z"
    },
    "papermill": {
     "duration": 0.262094,
     "end_time": "2022-06-01T08:59:35.238339",
     "exception": false,
     "start_time": "2022-06-01T08:59:34.976245",
     "status": "completed"
    },
    "tags": []
   },
   "outputs": [],
   "source": [
    "train_df = train_df.withColumn(\"customer_ID\",train_df[\"customer_ID\"].cast(StringType()))"
   ]
  },
  {
   "cell_type": "code",
   "execution_count": 8,
   "id": "e594d77d",
   "metadata": {
    "execution": {
     "iopub.execute_input": "2022-06-01T08:59:35.291805Z",
     "iopub.status.busy": "2022-06-01T08:59:35.291400Z",
     "iopub.status.idle": "2022-06-01T08:59:38.097726Z",
     "shell.execute_reply": "2022-06-01T08:59:38.097029Z"
    },
    "papermill": {
     "duration": 2.835224,
     "end_time": "2022-06-01T08:59:38.100124",
     "exception": false,
     "start_time": "2022-06-01T08:59:35.264900",
     "status": "completed"
    },
    "tags": []
   },
   "outputs": [
    {
     "name": "stderr",
     "output_type": "stream",
     "text": [
      "[Stage 2:===========================================>             (42 + 4) / 55]\r"
     ]
    },
    {
     "name": "stdout",
     "output_type": "stream",
     "text": [
      "Total number of rows: 5531451 and Tota number of cols: 190\n"
     ]
    },
    {
     "name": "stderr",
     "output_type": "stream",
     "text": [
      "                                                                                \r"
     ]
    }
   ],
   "source": [
    "print(f\"Total number of rows: {train_df.count()} and Tota number of cols: {len(train_df.columns)}\")"
   ]
  },
  {
   "cell_type": "code",
   "execution_count": 9,
   "id": "51c52d57",
   "metadata": {
    "execution": {
     "iopub.execute_input": "2022-06-01T08:59:38.152569Z",
     "iopub.status.busy": "2022-06-01T08:59:38.151950Z",
     "iopub.status.idle": "2022-06-01T08:59:38.155940Z",
     "shell.execute_reply": "2022-06-01T08:59:38.155339Z"
    },
    "papermill": {
     "duration": 0.032006,
     "end_time": "2022-06-01T08:59:38.157577",
     "exception": false,
     "start_time": "2022-06-01T08:59:38.125571",
     "status": "completed"
    },
    "tags": []
   },
   "outputs": [],
   "source": [
    "cat_cols = ['B_30', 'B_38', 'D_114', 'D_116', 'D_117', 'D_120', 'D_126', 'D_63', 'D_64', 'D_66', 'D_68']"
   ]
  },
  {
   "cell_type": "code",
   "execution_count": 10,
   "id": "c438fc74",
   "metadata": {
    "execution": {
     "iopub.execute_input": "2022-06-01T08:59:38.209174Z",
     "iopub.status.busy": "2022-06-01T08:59:38.208665Z",
     "iopub.status.idle": "2022-06-01T08:59:38.212357Z",
     "shell.execute_reply": "2022-06-01T08:59:38.211865Z"
    },
    "papermill": {
     "duration": 0.031775,
     "end_time": "2022-06-01T08:59:38.214401",
     "exception": false,
     "start_time": "2022-06-01T08:59:38.182626",
     "status": "completed"
    },
    "tags": []
   },
   "outputs": [],
   "source": [
    "num_cols = []\n",
    "for col in train_df.columns[2:]:\n",
    "    if col not in cat_cols:\n",
    "        num_cols.append(col)\n"
   ]
  },
  {
   "cell_type": "markdown",
   "id": "5958178b",
   "metadata": {
    "papermill": {
     "duration": 0.024319,
     "end_time": "2022-06-01T08:59:38.264083",
     "exception": false,
     "start_time": "2022-06-01T08:59:38.239764",
     "status": "completed"
    },
    "tags": []
   },
   "source": [
    "## Group By for each Individual Customer ID"
   ]
  },
  {
   "cell_type": "markdown",
   "id": "f0c624b0",
   "metadata": {
    "papermill": {
     "duration": 0.023875,
     "end_time": "2022-06-01T08:59:38.312737",
     "exception": false,
     "start_time": "2022-06-01T08:59:38.288862",
     "status": "completed"
    },
    "tags": []
   },
   "source": [
    "## The usage of pyspark\n",
    "* I observed in other notebook they where using feather data which was created by somebody but there was no proper source where that has been created.\n",
    "* So I though and first create parquet files from csv files which I attached above.\n",
    "* Once of we have parquet files we can now load `train` and `test` data using pyspark which will do aggregation with parallel manner with very less concumption RAM.\n",
    "* Order each pyspark dataframe with `customer_ID` and at the end convert them to pandas DataFrame and just concat them horizontally because all are sorted."
   ]
  },
  {
   "cell_type": "code",
   "execution_count": 11,
   "id": "693ebf59",
   "metadata": {
    "execution": {
     "iopub.execute_input": "2022-06-01T08:59:38.364183Z",
     "iopub.status.busy": "2022-06-01T08:59:38.363674Z",
     "iopub.status.idle": "2022-06-01T08:59:55.346423Z",
     "shell.execute_reply": "2022-06-01T08:59:55.345301Z"
    },
    "papermill": {
     "duration": 17.010769,
     "end_time": "2022-06-01T08:59:55.348456",
     "exception": false,
     "start_time": "2022-06-01T08:59:38.337687",
     "status": "completed"
    },
    "tags": []
   },
   "outputs": [
    {
     "name": "stderr",
     "output_type": "stream",
     "text": [
      "                                                                                \r"
     ]
    },
    {
     "name": "stdout",
     "output_type": "stream",
     "text": [
      "CPU times: user 5.75 s, sys: 140 ms, total: 5.89 s\n",
      "Wall time: 17 s\n"
     ]
    }
   ],
   "source": [
    "%%time\n",
    "count_exprs = {col: 'count' for col in cat_cols}\n",
    "cat_count_df = train_df.groupby('customer_ID').agg(count_exprs).orderBy('customer_ID', ascending=True).toPandas()"
   ]
  },
  {
   "cell_type": "code",
   "execution_count": 12,
   "id": "8b63eb7e",
   "metadata": {
    "execution": {
     "iopub.execute_input": "2022-06-01T08:59:55.383015Z",
     "iopub.status.busy": "2022-06-01T08:59:55.382658Z",
     "iopub.status.idle": "2022-06-01T08:59:55.398119Z",
     "shell.execute_reply": "2022-06-01T08:59:55.397174Z"
    },
    "papermill": {
     "duration": 0.035498,
     "end_time": "2022-06-01T08:59:55.400428",
     "exception": false,
     "start_time": "2022-06-01T08:59:55.364930",
     "status": "completed"
    },
    "tags": []
   },
   "outputs": [],
   "source": [
    "for col in cat_count_df.columns[1:]:\n",
    "    cat_count_df[col] = cat_count_df[col].astype('int8')"
   ]
  },
  {
   "cell_type": "code",
   "execution_count": 13,
   "id": "2e4fa03a",
   "metadata": {
    "execution": {
     "iopub.execute_input": "2022-06-01T08:59:55.455023Z",
     "iopub.status.busy": "2022-06-01T08:59:55.454427Z",
     "iopub.status.idle": "2022-06-01T08:59:55.462000Z",
     "shell.execute_reply": "2022-06-01T08:59:55.461432Z"
    },
    "papermill": {
     "duration": 0.037742,
     "end_time": "2022-06-01T08:59:55.464607",
     "exception": false,
     "start_time": "2022-06-01T08:59:55.426865",
     "status": "completed"
    },
    "tags": []
   },
   "outputs": [
    {
     "data": {
      "text/plain": [
       "(458913, 12)"
      ]
     },
     "execution_count": 13,
     "metadata": {},
     "output_type": "execute_result"
    }
   ],
   "source": [
    "cat_count_df.shape"
   ]
  },
  {
   "cell_type": "code",
   "execution_count": 14,
   "id": "0aab31c9",
   "metadata": {
    "execution": {
     "iopub.execute_input": "2022-06-01T08:59:55.521798Z",
     "iopub.status.busy": "2022-06-01T08:59:55.521360Z",
     "iopub.status.idle": "2022-06-01T08:59:55.666892Z",
     "shell.execute_reply": "2022-06-01T08:59:55.666069Z"
    },
    "papermill": {
     "duration": 0.175621,
     "end_time": "2022-06-01T08:59:55.668484",
     "exception": false,
     "start_time": "2022-06-01T08:59:55.492863",
     "status": "completed"
    },
    "tags": []
   },
   "outputs": [
    {
     "data": {
      "text/plain": [
       "79"
      ]
     },
     "execution_count": 14,
     "metadata": {},
     "output_type": "execute_result"
    }
   ],
   "source": [
    "gc.collect()"
   ]
  },
  {
   "cell_type": "code",
   "execution_count": 15,
   "id": "5ab5b472",
   "metadata": {
    "execution": {
     "iopub.execute_input": "2022-06-01T08:59:55.703208Z",
     "iopub.status.busy": "2022-06-01T08:59:55.702389Z",
     "iopub.status.idle": "2022-06-01T09:00:10.659599Z",
     "shell.execute_reply": "2022-06-01T09:00:10.657695Z"
    },
    "papermill": {
     "duration": 14.977349,
     "end_time": "2022-06-01T09:00:10.662240",
     "exception": false,
     "start_time": "2022-06-01T08:59:55.684891",
     "status": "completed"
    },
    "tags": []
   },
   "outputs": [
    {
     "name": "stderr",
     "output_type": "stream",
     "text": [
      "                                                                                \r"
     ]
    },
    {
     "name": "stdout",
     "output_type": "stream",
     "text": [
      "CPU times: user 4.61 s, sys: 156 ms, total: 4.77 s\n",
      "Wall time: 15 s\n"
     ]
    }
   ],
   "source": [
    "%%time\n",
    "last_exprs = {col: 'last' for col in cat_cols}\n",
    "cat_last_df = train_df.groupby('customer_ID').agg(last_exprs).orderBy('customer_ID', ascending=True).toPandas().drop('customer_ID', axis=1)"
   ]
  },
  {
   "cell_type": "code",
   "execution_count": 16,
   "id": "380533d9",
   "metadata": {
    "execution": {
     "iopub.execute_input": "2022-06-01T09:00:10.721074Z",
     "iopub.status.busy": "2022-06-01T09:00:10.720690Z",
     "iopub.status.idle": "2022-06-01T09:00:10.792300Z",
     "shell.execute_reply": "2022-06-01T09:00:10.790895Z"
    },
    "papermill": {
     "duration": 0.103396,
     "end_time": "2022-06-01T09:00:10.794343",
     "exception": false,
     "start_time": "2022-06-01T09:00:10.690947",
     "status": "completed"
    },
    "tags": []
   },
   "outputs": [],
   "source": [
    "for col in cat_last_df:\n",
    "    if cat_last_df[col].dtype == \"float32\":\n",
    "        cat_last_df[col] = cat_last_df[col].astype('float16')"
   ]
  },
  {
   "cell_type": "code",
   "execution_count": 17,
   "id": "1065d01a",
   "metadata": {
    "execution": {
     "iopub.execute_input": "2022-06-01T09:00:10.855243Z",
     "iopub.status.busy": "2022-06-01T09:00:10.854385Z",
     "iopub.status.idle": "2022-06-01T09:00:10.859841Z",
     "shell.execute_reply": "2022-06-01T09:00:10.859320Z"
    },
    "papermill": {
     "duration": 0.037195,
     "end_time": "2022-06-01T09:00:10.861447",
     "exception": false,
     "start_time": "2022-06-01T09:00:10.824252",
     "status": "completed"
    },
    "tags": []
   },
   "outputs": [
    {
     "data": {
      "text/plain": [
       "(458913, 11)"
      ]
     },
     "execution_count": 17,
     "metadata": {},
     "output_type": "execute_result"
    }
   ],
   "source": [
    "cat_last_df.shape"
   ]
  },
  {
   "cell_type": "code",
   "execution_count": 18,
   "id": "3a8d73f0",
   "metadata": {
    "execution": {
     "iopub.execute_input": "2022-06-01T09:00:10.898443Z",
     "iopub.status.busy": "2022-06-01T09:00:10.898075Z",
     "iopub.status.idle": "2022-06-01T09:00:11.051897Z",
     "shell.execute_reply": "2022-06-01T09:00:11.051150Z"
    },
    "papermill": {
     "duration": 0.174242,
     "end_time": "2022-06-01T09:00:11.053389",
     "exception": false,
     "start_time": "2022-06-01T09:00:10.879147",
     "status": "completed"
    },
    "tags": []
   },
   "outputs": [
    {
     "data": {
      "text/plain": [
       "79"
      ]
     },
     "execution_count": 18,
     "metadata": {},
     "output_type": "execute_result"
    }
   ],
   "source": [
    "gc.collect()"
   ]
  },
  {
   "cell_type": "code",
   "execution_count": 19,
   "id": "3304fdf0",
   "metadata": {
    "execution": {
     "iopub.execute_input": "2022-06-01T09:00:11.093085Z",
     "iopub.status.busy": "2022-06-01T09:00:11.091658Z",
     "iopub.status.idle": "2022-06-01T09:00:11.100279Z",
     "shell.execute_reply": "2022-06-01T09:00:11.098984Z"
    },
    "papermill": {
     "duration": 0.030393,
     "end_time": "2022-06-01T09:00:11.102514",
     "exception": false,
     "start_time": "2022-06-01T09:00:11.072121",
     "status": "completed"
    },
    "tags": []
   },
   "outputs": [],
   "source": [
    "def grp_unique_count(train_df):\n",
    "    agg_df = []\n",
    "    for col in cat_cols:\n",
    "        agg_df.append(train_df.groupby('customer_ID').agg(func.expr(f'count(distinct {col})').alias(f'nunique({col})')).orderBy('customer_ID', ascending=True).toPandas().drop('customer_ID', axis=1))\n",
    "    final_df = pd.concat(agg_df, axis=1).astype('int8')\n",
    "    gc.collect()\n",
    "    return final_df"
   ]
  },
  {
   "cell_type": "code",
   "execution_count": 20,
   "id": "65b26b3f",
   "metadata": {
    "execution": {
     "iopub.execute_input": "2022-06-01T09:00:11.140480Z",
     "iopub.status.busy": "2022-06-01T09:00:11.140180Z",
     "iopub.status.idle": "2022-06-01T09:01:27.621212Z",
     "shell.execute_reply": "2022-06-01T09:01:27.619348Z"
    },
    "papermill": {
     "duration": 76.502768,
     "end_time": "2022-06-01T09:01:27.623467",
     "exception": false,
     "start_time": "2022-06-01T09:00:11.120699",
     "status": "completed"
    },
    "tags": []
   },
   "outputs": [
    {
     "name": "stderr",
     "output_type": "stream",
     "text": [
      "                                                                                \r"
     ]
    },
    {
     "name": "stdout",
     "output_type": "stream",
     "text": [
      "CPU times: user 32.2 s, sys: 196 ms, total: 32.4 s\n",
      "Wall time: 1min 16s\n"
     ]
    }
   ],
   "source": [
    "%%time\n",
    "cat_nc_df = grp_unique_count(train_df)"
   ]
  },
  {
   "cell_type": "code",
   "execution_count": 21,
   "id": "cee5a1b5",
   "metadata": {
    "execution": {
     "iopub.execute_input": "2022-06-01T09:01:27.667500Z",
     "iopub.status.busy": "2022-06-01T09:01:27.667132Z",
     "iopub.status.idle": "2022-06-01T09:01:27.696755Z",
     "shell.execute_reply": "2022-06-01T09:01:27.695821Z"
    },
    "papermill": {
     "duration": 0.05339,
     "end_time": "2022-06-01T09:01:27.698699",
     "exception": false,
     "start_time": "2022-06-01T09:01:27.645309",
     "status": "completed"
    },
    "tags": []
   },
   "outputs": [],
   "source": [
    "cat_cols_df = pd.concat([cat_count_df, cat_last_df, cat_nc_df], axis=1)"
   ]
  },
  {
   "cell_type": "code",
   "execution_count": 22,
   "id": "27f355f7",
   "metadata": {
    "execution": {
     "iopub.execute_input": "2022-06-01T09:01:27.742855Z",
     "iopub.status.busy": "2022-06-01T09:01:27.741367Z",
     "iopub.status.idle": "2022-06-01T09:01:58.775472Z",
     "shell.execute_reply": "2022-06-01T09:01:58.774551Z"
    },
    "papermill": {
     "duration": 31.058536,
     "end_time": "2022-06-01T09:01:58.778024",
     "exception": false,
     "start_time": "2022-06-01T09:01:27.719488",
     "status": "completed"
    },
    "tags": []
   },
   "outputs": [],
   "source": [
    "cat_cols_df.to_pickle('cat_cols_df.pkl', compression='gzip')"
   ]
  },
  {
   "cell_type": "code",
   "execution_count": 23,
   "id": "0f57e587",
   "metadata": {
    "execution": {
     "iopub.execute_input": "2022-06-01T09:01:58.851371Z",
     "iopub.status.busy": "2022-06-01T09:01:58.851018Z",
     "iopub.status.idle": "2022-06-01T09:01:58.918546Z",
     "shell.execute_reply": "2022-06-01T09:01:58.917750Z"
    },
    "papermill": {
     "duration": 0.105942,
     "end_time": "2022-06-01T09:01:58.920761",
     "exception": false,
     "start_time": "2022-06-01T09:01:58.814819",
     "status": "completed"
    },
    "tags": []
   },
   "outputs": [],
   "source": [
    "del(cat_count_df)\n",
    "del(cat_last_df)\n",
    "del(cat_nc_df)\n",
    "del(cat_cols_df)"
   ]
  },
  {
   "cell_type": "code",
   "execution_count": 24,
   "id": "958b54de",
   "metadata": {
    "execution": {
     "iopub.execute_input": "2022-06-01T09:01:58.991484Z",
     "iopub.status.busy": "2022-06-01T09:01:58.990883Z",
     "iopub.status.idle": "2022-06-01T09:01:59.141542Z",
     "shell.execute_reply": "2022-06-01T09:01:59.140751Z"
    },
    "papermill": {
     "duration": 0.189,
     "end_time": "2022-06-01T09:01:59.143614",
     "exception": false,
     "start_time": "2022-06-01T09:01:58.954614",
     "status": "completed"
    },
    "tags": []
   },
   "outputs": [
    {
     "data": {
      "text/plain": [
       "84"
      ]
     },
     "execution_count": 24,
     "metadata": {},
     "output_type": "execute_result"
    }
   ],
   "source": [
    "gc.collect()"
   ]
  },
  {
   "cell_type": "code",
   "execution_count": 25,
   "id": "db79b847",
   "metadata": {
    "execution": {
     "iopub.execute_input": "2022-06-01T09:01:59.215862Z",
     "iopub.status.busy": "2022-06-01T09:01:59.215499Z",
     "iopub.status.idle": "2022-06-01T09:01:59.224396Z",
     "shell.execute_reply": "2022-06-01T09:01:59.223590Z"
    },
    "papermill": {
     "duration": 0.047132,
     "end_time": "2022-06-01T09:01:59.226251",
     "exception": false,
     "start_time": "2022-06-01T09:01:59.179119",
     "status": "completed"
    },
    "tags": []
   },
   "outputs": [],
   "source": [
    "def grp_num_cols(train_df):\n",
    "    def agg_num(agg_func):\n",
    "        agg_df = []\n",
    "        for i in range(0, len(num_cols), 20):\n",
    "            exprs = {col: agg_func for col in num_cols[i:i+20]}\n",
    "            agg_df.append(train_df.groupBy('customer_ID').agg(exprs).orderBy('customer_ID', ascending=True).toPandas().drop('customer_ID', axis=1))\n",
    "        final_df = pd.concat(agg_df, axis=1).astype('float16')\n",
    "        gc.collect()\n",
    "        return final_df\n",
    "    num_mean_df = agg_num(\"mean\")\n",
    "    num_std_df = agg_num(\"std\")\n",
    "    num_min_df = agg_num(\"min\")\n",
    "    num_max_df = agg_num(\"max\")\n",
    "    final_df = pd.concat([num_mean_df, num_std_df, num_min_df, num_max_df], axis=1)\n",
    "    return final_df"
   ]
  },
  {
   "cell_type": "code",
   "execution_count": 26,
   "id": "78fd91b5",
   "metadata": {
    "execution": {
     "iopub.execute_input": "2022-06-01T09:01:59.298358Z",
     "iopub.status.busy": "2022-06-01T09:01:59.297710Z",
     "iopub.status.idle": "2022-06-01T09:11:22.232939Z",
     "shell.execute_reply": "2022-06-01T09:11:22.231603Z"
    },
    "papermill": {
     "duration": 562.97518,
     "end_time": "2022-06-01T09:11:22.236932",
     "exception": false,
     "start_time": "2022-06-01T09:01:59.261752",
     "status": "completed"
    },
    "tags": []
   },
   "outputs": [
    {
     "name": "stderr",
     "output_type": "stream",
     "text": [
      "22/06/01 09:01:59 WARN package: Truncated the string representation of a plan since it was too large. This behavior can be adjusted by setting 'spark.sql.debug.maxToStringFields'.\n",
      "                                                                                \r"
     ]
    },
    {
     "name": "stdout",
     "output_type": "stream",
     "text": [
      "CPU times: user 4min, sys: 17.6 s, total: 4min 18s\n",
      "Wall time: 9min 22s\n"
     ]
    }
   ],
   "source": [
    "%%time\n",
    "num_cols_df = grp_num_cols(train_df)"
   ]
  },
  {
   "cell_type": "code",
   "execution_count": 27,
   "id": "cb794b90",
   "metadata": {
    "execution": {
     "iopub.execute_input": "2022-06-01T09:11:22.405334Z",
     "iopub.status.busy": "2022-06-01T09:11:22.404320Z",
     "iopub.status.idle": "2022-06-01T09:13:12.316012Z",
     "shell.execute_reply": "2022-06-01T09:13:12.314921Z"
    },
    "papermill": {
     "duration": 109.999675,
     "end_time": "2022-06-01T09:13:12.319426",
     "exception": false,
     "start_time": "2022-06-01T09:11:22.319751",
     "status": "completed"
    },
    "tags": []
   },
   "outputs": [],
   "source": [
    "num_cols_df.to_pickle('num_cols_df.pkl', compression='gzip')"
   ]
  },
  {
   "cell_type": "code",
   "execution_count": 28,
   "id": "80710ef3",
   "metadata": {
    "execution": {
     "iopub.execute_input": "2022-06-01T09:13:12.487163Z",
     "iopub.status.busy": "2022-06-01T09:13:12.486609Z",
     "iopub.status.idle": "2022-06-01T09:13:12.506375Z",
     "shell.execute_reply": "2022-06-01T09:13:12.505214Z"
    },
    "papermill": {
     "duration": 0.1062,
     "end_time": "2022-06-01T09:13:12.508643",
     "exception": false,
     "start_time": "2022-06-01T09:13:12.402443",
     "status": "completed"
    },
    "tags": []
   },
   "outputs": [],
   "source": [
    "del(num_cols_df)"
   ]
  },
  {
   "cell_type": "code",
   "execution_count": 29,
   "id": "6ce08e4e",
   "metadata": {
    "execution": {
     "iopub.execute_input": "2022-06-01T09:13:12.678189Z",
     "iopub.status.busy": "2022-06-01T09:13:12.677464Z",
     "iopub.status.idle": "2022-06-01T09:13:18.519328Z",
     "shell.execute_reply": "2022-06-01T09:13:18.518597Z"
    },
    "papermill": {
     "duration": 5.926958,
     "end_time": "2022-06-01T09:13:18.521329",
     "exception": false,
     "start_time": "2022-06-01T09:13:12.594371",
     "status": "completed"
    },
    "tags": []
   },
   "outputs": [],
   "source": [
    "cat_cols_df = pd.read_pickle('./cat_cols_df.pkl', compression='gzip')\n",
    "num_cols_df = pd.read_pickle('./num_cols_df.pkl', compression='gzip')\n",
    "final_train_df = pd.concat([cat_cols_df, num_cols_df], axis=1)"
   ]
  },
  {
   "cell_type": "code",
   "execution_count": 30,
   "id": "306ff87e",
   "metadata": {
    "execution": {
     "iopub.execute_input": "2022-06-01T09:13:18.622399Z",
     "iopub.status.busy": "2022-06-01T09:13:18.622089Z",
     "iopub.status.idle": "2022-06-01T09:13:18.782749Z",
     "shell.execute_reply": "2022-06-01T09:13:18.781100Z"
    },
    "papermill": {
     "duration": 0.212905,
     "end_time": "2022-06-01T09:13:18.784983",
     "exception": false,
     "start_time": "2022-06-01T09:13:18.572078",
     "status": "completed"
    },
    "tags": []
   },
   "outputs": [
    {
     "data": {
      "text/plain": [
       "21"
      ]
     },
     "execution_count": 30,
     "metadata": {},
     "output_type": "execute_result"
    }
   ],
   "source": [
    "del(cat_cols_df)\n",
    "del(num_cols_df)\n",
    "gc.collect()"
   ]
  },
  {
   "cell_type": "code",
   "execution_count": 31,
   "id": "57545235",
   "metadata": {
    "execution": {
     "iopub.execute_input": "2022-06-01T09:13:18.953329Z",
     "iopub.status.busy": "2022-06-01T09:13:18.952963Z",
     "iopub.status.idle": "2022-06-01T09:15:39.539714Z",
     "shell.execute_reply": "2022-06-01T09:15:39.538823Z"
    },
    "papermill": {
     "duration": 140.672691,
     "end_time": "2022-06-01T09:15:39.541619",
     "exception": false,
     "start_time": "2022-06-01T09:13:18.868928",
     "status": "completed"
    },
    "tags": []
   },
   "outputs": [],
   "source": [
    "final_train_df.to_pickle('train_agg.pkl', compression='gzip')"
   ]
  }
 ],
 "metadata": {
  "kernelspec": {
   "display_name": "Python 3",
   "language": "python",
   "name": "python3"
  },
  "language_info": {
   "codemirror_mode": {
    "name": "ipython",
    "version": 3
   },
   "file_extension": ".py",
   "mimetype": "text/x-python",
   "name": "python",
   "nbconvert_exporter": "python",
   "pygments_lexer": "ipython3",
   "version": "3.7.12"
  },
  "papermill": {
   "default_parameters": {},
   "duration": 1036.751021,
   "end_time": "2022-06-01T09:15:42.221904",
   "environment_variables": {},
   "exception": null,
   "input_path": "__notebook__.ipynb",
   "output_path": "__notebook__.ipynb",
   "parameters": {},
   "start_time": "2022-06-01T08:58:25.470883",
   "version": "2.3.4"
  }
 },
 "nbformat": 4,
 "nbformat_minor": 5
}
