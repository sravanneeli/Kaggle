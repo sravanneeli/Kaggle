{
 "cells": [
  {
   "cell_type": "code",
   "execution_count": 1,
   "id": "e0b3ae8b",
   "metadata": {
    "_cell_guid": "b1076dfc-b9ad-4769-8c92-a6c4dae69d19",
    "_kg_hide-output": true,
    "_uuid": "8f2839f25d086af736a60e9eeb907d3b93b6e0e5",
    "execution": {
     "iopub.execute_input": "2022-05-31T18:52:47.752559Z",
     "iopub.status.busy": "2022-05-31T18:52:47.751975Z",
     "iopub.status.idle": "2022-05-31T18:52:47.818724Z",
     "shell.execute_reply": "2022-05-31T18:52:47.817662Z"
    },
    "papermill": {
     "duration": 0.084517,
     "end_time": "2022-05-31T18:52:47.823844",
     "exception": false,
     "start_time": "2022-05-31T18:52:47.739327",
     "status": "completed"
    },
    "scrolled": true,
    "tags": []
   },
   "outputs": [
    {
     "name": "stdout",
     "output_type": "stream",
     "text": [
      "/kaggle/input/amex-default-prediction/sample_submission.csv\n",
      "/kaggle/input/amex-default-prediction/train_data.csv\n",
      "/kaggle/input/amex-default-prediction/test_data.csv\n",
      "/kaggle/input/amex-default-prediction/train_labels.csv\n",
      "/kaggle/input/amex-default-prediction-parquet-files/test_file_23.pqt\n",
      "/kaggle/input/amex-default-prediction-parquet-files/test_file_72.pqt\n",
      "/kaggle/input/amex-default-prediction-parquet-files/test_file_61.pqt\n",
      "/kaggle/input/amex-default-prediction-parquet-files/test_file_55.pqt\n",
      "/kaggle/input/amex-default-prediction-parquet-files/test_file_71.pqt\n",
      "/kaggle/input/amex-default-prediction-parquet-files/test_file_53.pqt\n",
      "/kaggle/input/amex-default-prediction-parquet-files/test_file_30.pqt\n",
      "/kaggle/input/amex-default-prediction-parquet-files/test_file_20.pqt\n",
      "/kaggle/input/amex-default-prediction-parquet-files/test_file_80.pqt\n",
      "/kaggle/input/amex-default-prediction-parquet-files/test_file_85.pqt\n",
      "/kaggle/input/amex-default-prediction-parquet-files/test_file_36.pqt\n",
      "/kaggle/input/amex-default-prediction-parquet-files/test_file_50.pqt\n",
      "/kaggle/input/amex-default-prediction-parquet-files/test_file_97.pqt\n",
      "/kaggle/input/amex-default-prediction-parquet-files/train_file_28.pqt\n",
      "/kaggle/input/amex-default-prediction-parquet-files/test_file_16.pqt\n",
      "/kaggle/input/amex-default-prediction-parquet-files/train_file_53.pqt\n",
      "/kaggle/input/amex-default-prediction-parquet-files/test_file_7.pqt\n",
      "/kaggle/input/amex-default-prediction-parquet-files/train_file_21.pqt\n",
      "/kaggle/input/amex-default-prediction-parquet-files/test_file_13.pqt\n",
      "/kaggle/input/amex-default-prediction-parquet-files/test_file_112.pqt\n",
      "/kaggle/input/amex-default-prediction-parquet-files/test_file_73.pqt\n",
      "/kaggle/input/amex-default-prediction-parquet-files/test_file_100.pqt\n",
      "/kaggle/input/amex-default-prediction-parquet-files/train_file_17.pqt\n",
      "/kaggle/input/amex-default-prediction-parquet-files/test_file_38.pqt\n",
      "/kaggle/input/amex-default-prediction-parquet-files/train_file_44.pqt\n",
      "/kaggle/input/amex-default-prediction-parquet-files/train_file_31.pqt\n",
      "/kaggle/input/amex-default-prediction-parquet-files/test_file_22.pqt\n",
      "/kaggle/input/amex-default-prediction-parquet-files/train_file_56.pqt\n",
      "/kaggle/input/amex-default-prediction-parquet-files/test_file_11.pqt\n",
      "/kaggle/input/amex-default-prediction-parquet-files/test_file_47.pqt\n",
      "/kaggle/input/amex-default-prediction-parquet-files/test_file_35.pqt\n",
      "/kaggle/input/amex-default-prediction-parquet-files/test_file_68.pqt\n",
      "/kaggle/input/amex-default-prediction-parquet-files/test_file_95.pqt\n",
      "/kaggle/input/amex-default-prediction-parquet-files/test_file_27.pqt\n",
      "/kaggle/input/amex-default-prediction-parquet-files/test_file_43.pqt\n",
      "/kaggle/input/amex-default-prediction-parquet-files/test_file_14.pqt\n",
      "/kaggle/input/amex-default-prediction-parquet-files/test_file_88.pqt\n",
      "/kaggle/input/amex-default-prediction-parquet-files/test_file_82.pqt\n",
      "/kaggle/input/amex-default-prediction-parquet-files/test_file_81.pqt\n",
      "/kaggle/input/amex-default-prediction-parquet-files/train_file_35.pqt\n",
      "/kaggle/input/amex-default-prediction-parquet-files/train_file_13.pqt\n",
      "/kaggle/input/amex-default-prediction-parquet-files/test_file_10.pqt\n",
      "/kaggle/input/amex-default-prediction-parquet-files/train_file_19.pqt\n",
      "/kaggle/input/amex-default-prediction-parquet-files/train_file_5.pqt\n",
      "/kaggle/input/amex-default-prediction-parquet-files/test_file_40.pqt\n",
      "/kaggle/input/amex-default-prediction-parquet-files/train_file_48.pqt\n",
      "/kaggle/input/amex-default-prediction-parquet-files/test_file_59.pqt\n",
      "/kaggle/input/amex-default-prediction-parquet-files/test_file_106.pqt\n",
      "/kaggle/input/amex-default-prediction-parquet-files/train_file_39.pqt\n",
      "/kaggle/input/amex-default-prediction-parquet-files/train_file_52.pqt\n",
      "/kaggle/input/amex-default-prediction-parquet-files/test_file_86.pqt\n",
      "/kaggle/input/amex-default-prediction-parquet-files/test_file_58.pqt\n",
      "/kaggle/input/amex-default-prediction-parquet-files/test_file_64.pqt\n",
      "/kaggle/input/amex-default-prediction-parquet-files/train_file_27.pqt\n",
      "/kaggle/input/amex-default-prediction-parquet-files/test_file_109.pqt\n",
      "/kaggle/input/amex-default-prediction-parquet-files/test_file_69.pqt\n",
      "/kaggle/input/amex-default-prediction-parquet-files/train_file_22.pqt\n",
      "/kaggle/input/amex-default-prediction-parquet-files/train_file_40.pqt\n",
      "/kaggle/input/amex-default-prediction-parquet-files/test_file_2.pqt\n",
      "/kaggle/input/amex-default-prediction-parquet-files/test_file_90.pqt\n",
      "/kaggle/input/amex-default-prediction-parquet-files/train_file_47.pqt\n",
      "/kaggle/input/amex-default-prediction-parquet-files/test_file_111.pqt\n",
      "/kaggle/input/amex-default-prediction-parquet-files/train_file_33.pqt\n",
      "/kaggle/input/amex-default-prediction-parquet-files/test_file_56.pqt\n",
      "/kaggle/input/amex-default-prediction-parquet-files/test_file_103.pqt\n",
      "/kaggle/input/amex-default-prediction-parquet-files/test_file_113.pqt\n",
      "/kaggle/input/amex-default-prediction-parquet-files/train_file_12.pqt\n",
      "/kaggle/input/amex-default-prediction-parquet-files/test_file_101.pqt\n",
      "/kaggle/input/amex-default-prediction-parquet-files/test_file_12.pqt\n",
      "/kaggle/input/amex-default-prediction-parquet-files/test_file_62.pqt\n",
      "/kaggle/input/amex-default-prediction-parquet-files/train_file_24.pqt\n",
      "/kaggle/input/amex-default-prediction-parquet-files/train_file_1.pqt\n",
      "/kaggle/input/amex-default-prediction-parquet-files/test_file_89.pqt\n",
      "/kaggle/input/amex-default-prediction-parquet-files/test_file_51.pqt\n",
      "/kaggle/input/amex-default-prediction-parquet-files/test_file_70.pqt\n",
      "/kaggle/input/amex-default-prediction-parquet-files/train_file_4.pqt\n",
      "/kaggle/input/amex-default-prediction-parquet-files/test_file_96.pqt\n",
      "/kaggle/input/amex-default-prediction-parquet-files/train_file_16.pqt\n",
      "/kaggle/input/amex-default-prediction-parquet-files/train_file_41.pqt\n",
      "/kaggle/input/amex-default-prediction-parquet-files/test_file_34.pqt\n",
      "/kaggle/input/amex-default-prediction-parquet-files/train_file_30.pqt\n",
      "/kaggle/input/amex-default-prediction-parquet-files/train_file_38.pqt\n",
      "/kaggle/input/amex-default-prediction-parquet-files/test_file_76.pqt\n",
      "/kaggle/input/amex-default-prediction-parquet-files/train_file_9.pqt\n",
      "/kaggle/input/amex-default-prediction-parquet-files/train_file_6.pqt\n",
      "/kaggle/input/amex-default-prediction-parquet-files/train_file_18.pqt\n",
      "/kaggle/input/amex-default-prediction-parquet-files/train_file_49.pqt\n",
      "/kaggle/input/amex-default-prediction-parquet-files/test_file_105.pqt\n",
      "/kaggle/input/amex-default-prediction-parquet-files/train_file_25.pqt\n",
      "/kaggle/input/amex-default-prediction-parquet-files/test_file_32.pqt\n",
      "/kaggle/input/amex-default-prediction-parquet-files/test_file_74.pqt\n",
      "/kaggle/input/amex-default-prediction-parquet-files/test_file_87.pqt\n",
      "/kaggle/input/amex-default-prediction-parquet-files/test_file_66.pqt\n",
      "/kaggle/input/amex-default-prediction-parquet-files/test_file_21.pqt\n",
      "/kaggle/input/amex-default-prediction-parquet-files/test_file_107.pqt\n",
      "/kaggle/input/amex-default-prediction-parquet-files/test_file_54.pqt\n",
      "/kaggle/input/amex-default-prediction-parquet-files/test_file_18.pqt\n",
      "/kaggle/input/amex-default-prediction-parquet-files/test_file_75.pqt\n",
      "/kaggle/input/amex-default-prediction-parquet-files/test_file_25.pqt\n",
      "/kaggle/input/amex-default-prediction-parquet-files/test_file_104.pqt\n",
      "/kaggle/input/amex-default-prediction-parquet-files/test_file_44.pqt\n",
      "/kaggle/input/amex-default-prediction-parquet-files/test_file_29.pqt\n",
      "/kaggle/input/amex-default-prediction-parquet-files/test_file_33.pqt\n",
      "/kaggle/input/amex-default-prediction-parquet-files/train_file_32.pqt\n",
      "/kaggle/input/amex-default-prediction-parquet-files/test_file_91.pqt\n",
      "/kaggle/input/amex-default-prediction-parquet-files/train_file_23.pqt\n",
      "/kaggle/input/amex-default-prediction-parquet-files/test_file_4.pqt\n",
      "/kaggle/input/amex-default-prediction-parquet-files/test_file_57.pqt\n",
      "/kaggle/input/amex-default-prediction-parquet-files/test_file_110.pqt\n",
      "/kaggle/input/amex-default-prediction-parquet-files/train_file_10.pqt\n",
      "/kaggle/input/amex-default-prediction-parquet-files/train_file_29.pqt\n",
      "/kaggle/input/amex-default-prediction-parquet-files/test_file_102.pqt\n",
      "/kaggle/input/amex-default-prediction-parquet-files/train_file_20.pqt\n",
      "/kaggle/input/amex-default-prediction-parquet-files/train_file_42.pqt\n",
      "/kaggle/input/amex-default-prediction-parquet-files/test_file_98.pqt\n",
      "/kaggle/input/amex-default-prediction-parquet-files/test_file_39.pqt\n",
      "/kaggle/input/amex-default-prediction-parquet-files/train_file_7.pqt\n",
      "/kaggle/input/amex-default-prediction-parquet-files/train_file_46.pqt\n",
      "/kaggle/input/amex-default-prediction-parquet-files/test_file_28.pqt\n",
      "/kaggle/input/amex-default-prediction-parquet-files/test_file_45.pqt\n",
      "/kaggle/input/amex-default-prediction-parquet-files/test_file_17.pqt\n",
      "/kaggle/input/amex-default-prediction-parquet-files/test_file_8.pqt\n",
      "/kaggle/input/amex-default-prediction-parquet-files/test_file_42.pqt\n",
      "/kaggle/input/amex-default-prediction-parquet-files/test_file_79.pqt\n",
      "/kaggle/input/amex-default-prediction-parquet-files/train_file_51.pqt\n",
      "/kaggle/input/amex-default-prediction-parquet-files/test_file_65.pqt\n",
      "/kaggle/input/amex-default-prediction-parquet-files/train_file_36.pqt\n",
      "/kaggle/input/amex-default-prediction-parquet-files/test_file_67.pqt\n",
      "/kaggle/input/amex-default-prediction-parquet-files/train_file_26.pqt\n",
      "/kaggle/input/amex-default-prediction-parquet-files/test_file_99.pqt\n",
      "/kaggle/input/amex-default-prediction-parquet-files/train_file_15.pqt\n",
      "/kaggle/input/amex-default-prediction-parquet-files/test_file_37.pqt\n",
      "/kaggle/input/amex-default-prediction-parquet-files/test_file_84.pqt\n",
      "/kaggle/input/amex-default-prediction-parquet-files/test_file_63.pqt\n",
      "/kaggle/input/amex-default-prediction-parquet-files/test_file_114.pqt\n",
      "/kaggle/input/amex-default-prediction-parquet-files/test_file_24.pqt\n",
      "/kaggle/input/amex-default-prediction-parquet-files/test_file_6.pqt\n",
      "/kaggle/input/amex-default-prediction-parquet-files/test_file_19.pqt\n",
      "/kaggle/input/amex-default-prediction-parquet-files/test_file_1.pqt\n",
      "/kaggle/input/amex-default-prediction-parquet-files/test_file_60.pqt\n",
      "/kaggle/input/amex-default-prediction-parquet-files/test_file_31.pqt\n",
      "/kaggle/input/amex-default-prediction-parquet-files/test_file_52.pqt\n",
      "/kaggle/input/amex-default-prediction-parquet-files/test_file_108.pqt\n",
      "/kaggle/input/amex-default-prediction-parquet-files/train_file_37.pqt\n",
      "/kaggle/input/amex-default-prediction-parquet-files/train_file_54.pqt\n",
      "/kaggle/input/amex-default-prediction-parquet-files/test_file_92.pqt\n",
      "/kaggle/input/amex-default-prediction-parquet-files/test_file_49.pqt\n",
      "/kaggle/input/amex-default-prediction-parquet-files/train_file_50.pqt\n",
      "/kaggle/input/amex-default-prediction-parquet-files/train_file_8.pqt\n",
      "/kaggle/input/amex-default-prediction-parquet-files/test_file_5.pqt\n",
      "/kaggle/input/amex-default-prediction-parquet-files/test_file_94.pqt\n",
      "/kaggle/input/amex-default-prediction-parquet-files/test_file_46.pqt\n",
      "/kaggle/input/amex-default-prediction-parquet-files/train_file_14.pqt\n",
      "/kaggle/input/amex-default-prediction-parquet-files/train_file_3.pqt\n",
      "/kaggle/input/amex-default-prediction-parquet-files/train_file_55.pqt\n",
      "/kaggle/input/amex-default-prediction-parquet-files/train_file_2.pqt\n",
      "/kaggle/input/amex-default-prediction-parquet-files/train_file_45.pqt\n",
      "/kaggle/input/amex-default-prediction-parquet-files/test_file_3.pqt\n",
      "/kaggle/input/amex-default-prediction-parquet-files/test_file_26.pqt\n",
      "/kaggle/input/amex-default-prediction-parquet-files/test_file_15.pqt\n",
      "/kaggle/input/amex-default-prediction-parquet-files/test_file_48.pqt\n",
      "/kaggle/input/amex-default-prediction-parquet-files/test_file_77.pqt\n",
      "/kaggle/input/amex-default-prediction-parquet-files/test_file_41.pqt\n",
      "/kaggle/input/amex-default-prediction-parquet-files/train_file_34.pqt\n",
      "/kaggle/input/amex-default-prediction-parquet-files/train_file_11.pqt\n",
      "/kaggle/input/amex-default-prediction-parquet-files/test_file_83.pqt\n",
      "/kaggle/input/amex-default-prediction-parquet-files/test_file_93.pqt\n",
      "/kaggle/input/amex-default-prediction-parquet-files/train_file_43.pqt\n",
      "/kaggle/input/amex-default-prediction-parquet-files/test_file_9.pqt\n",
      "/kaggle/input/amex-default-prediction-parquet-files/test_file_78.pqt\n"
     ]
    }
   ],
   "source": [
    "# This Python 3 environment comes with many helpful analytics libraries installed\n",
    "# It is defined by the kaggle/python Docker image: https://github.com/kaggle/docker-python\n",
    "# For example, here's several helpful packages to load\n",
    "\n",
    "import numpy as np # linear algebra\n",
    "import pandas as pd # data processing, CSV file I/O (e.g. pd.read_csv)\n",
    "import gc\n",
    "# Input data files are available in the read-only \"../input/\" directory\n",
    "# For example, running this (by clicking run or pressing Shift+Enter) will list all files under the input directory\n",
    "\n",
    "import os\n",
    "for dirname, _, filenames in os.walk('/kaggle/input'):\n",
    "    for filename in filenames:\n",
    "        print(os.path.join(dirname, filename))\n",
    "\n",
    "# You can write up to 20GB to the current directory (/kaggle/working/) that gets preserved as output when you create a version using \"Save & Run All\" \n",
    "# You can also write temporary files to /kaggle/temp/, but they won't be saved outside of the current session"
   ]
  },
  {
   "cell_type": "markdown",
   "id": "49647082",
   "metadata": {
    "papermill": {
     "duration": 0.007973,
     "end_time": "2022-05-31T18:52:47.841192",
     "exception": false,
     "start_time": "2022-05-31T18:52:47.833219",
     "status": "completed"
    },
    "tags": []
   },
   "source": [
    "## Please refer to [this](https://www.kaggle.com/code/sravanneeli/convert-train-and-test-multiple-parquet-files) notebook for creating train and test parquet files"
   ]
  },
  {
   "cell_type": "code",
   "execution_count": 2,
   "id": "b698cf84",
   "metadata": {
    "execution": {
     "iopub.execute_input": "2022-05-31T18:52:47.858486Z",
     "iopub.status.busy": "2022-05-31T18:52:47.858028Z",
     "iopub.status.idle": "2022-05-31T18:53:55.447123Z",
     "shell.execute_reply": "2022-05-31T18:53:55.445308Z"
    },
    "papermill": {
     "duration": 67.601218,
     "end_time": "2022-05-31T18:53:55.450111",
     "exception": false,
     "start_time": "2022-05-31T18:52:47.848893",
     "status": "completed"
    },
    "tags": []
   },
   "outputs": [
    {
     "name": "stdout",
     "output_type": "stream",
     "text": [
      "Collecting pyspark\r\n",
      "  Downloading pyspark-3.2.1.tar.gz (281.4 MB)\r\n",
      "\u001b[2K     \u001b[90m━━━━━━━━━━━━━━━━━━━━━━━━━━━━━━━━━━━━━━━\u001b[0m \u001b[32m281.4/281.4 MB\u001b[0m \u001b[31m3.2 MB/s\u001b[0m eta \u001b[36m0:00:00\u001b[0m\r\n",
      "\u001b[?25h  Preparing metadata (setup.py) ... \u001b[?25l-\b \b\\\b \bdone\r\n",
      "\u001b[?25hCollecting py4j==0.10.9.3\r\n",
      "  Downloading py4j-0.10.9.3-py2.py3-none-any.whl (198 kB)\r\n",
      "\u001b[2K     \u001b[90m━━━━━━━━━━━━━━━━━━━━━━━━━━━━━━━━━━━━━━\u001b[0m \u001b[32m199.0/199.0 kB\u001b[0m \u001b[31m11.6 MB/s\u001b[0m eta \u001b[36m0:00:00\u001b[0m\r\n",
      "\u001b[?25hBuilding wheels for collected packages: pyspark\r\n",
      "  Building wheel for pyspark (setup.py) ... \u001b[?25l-\b \b\\\b \b|\b \b/\b \b-\b \b\\\b \b|\b \b/\b \b-\b \b\\\b \b|\b \b/\b \b-\b \b\\\b \b|\b \b/\b \b-\b \b\\\b \b|\b \b/\b \b-\b \b\\\b \b|\b \b/\b \b-\b \b\\\b \b|\b \b/\b \b-\b \b\\\b \b|\b \b/\b \b-\b \b\\\b \b|\b \b/\b \b-\b \b\\\b \b|\b \b/\b \b-\b \b\\\b \b|\b \b/\b \b-\b \b\\\b \b|\b \b/\b \b-\b \b\\\b \b|\b \b/\b \b-\b \b\\\b \b|\b \b/\b \b-\b \b\\\b \b|\b \bdone\r\n",
      "\u001b[?25h  Created wheel for pyspark: filename=pyspark-3.2.1-py2.py3-none-any.whl size=281853642 sha256=b9712379d674303ad188a40d0f89709c9eef28c9e0aa1ea6a17c7811cc2820fe\r\n",
      "  Stored in directory: /root/.cache/pip/wheels/9f/f5/07/7cd8017084dce4e93e84e92efd1e1d5334db05f2e83bcef74f\r\n",
      "Successfully built pyspark\r\n",
      "Installing collected packages: py4j, pyspark\r\n",
      "  Attempting uninstall: py4j\r\n",
      "    Found existing installation: py4j 0.10.9.5\r\n",
      "    Uninstalling py4j-0.10.9.5:\r\n",
      "      Successfully uninstalled py4j-0.10.9.5\r\n",
      "Successfully installed py4j-0.10.9.3 pyspark-3.2.1\r\n",
      "\u001b[33mWARNING: Running pip as the 'root' user can result in broken permissions and conflicting behaviour with the system package manager. It is recommended to use a virtual environment instead: https://pip.pypa.io/warnings/venv\u001b[0m\u001b[33m\r\n",
      "\u001b[0m"
     ]
    }
   ],
   "source": [
    "!pip install pyspark"
   ]
  },
  {
   "cell_type": "code",
   "execution_count": 3,
   "id": "65acf0f3",
   "metadata": {
    "execution": {
     "iopub.execute_input": "2022-05-31T18:53:55.540912Z",
     "iopub.status.busy": "2022-05-31T18:53:55.540129Z",
     "iopub.status.idle": "2022-05-31T18:54:02.545709Z",
     "shell.execute_reply": "2022-05-31T18:54:02.544226Z"
    },
    "papermill": {
     "duration": 7.055662,
     "end_time": "2022-05-31T18:54:02.549179",
     "exception": false,
     "start_time": "2022-05-31T18:53:55.493517",
     "status": "completed"
    },
    "tags": []
   },
   "outputs": [
    {
     "name": "stderr",
     "output_type": "stream",
     "text": [
      "WARNING: An illegal reflective access operation has occurred\n",
      "WARNING: Illegal reflective access by org.apache.spark.unsafe.Platform (file:/opt/conda/lib/python3.7/site-packages/pyspark/jars/spark-unsafe_2.12-3.2.1.jar) to constructor java.nio.DirectByteBuffer(long,int)\n",
      "WARNING: Please consider reporting this to the maintainers of org.apache.spark.unsafe.Platform\n",
      "WARNING: Use --illegal-access=warn to enable warnings of further illegal reflective access operations\n",
      "WARNING: All illegal access operations will be denied in a future release\n",
      "Using Spark's default log4j profile: org/apache/spark/log4j-defaults.properties\n",
      "Setting default log level to \"WARN\".\n",
      "To adjust logging level use sc.setLogLevel(newLevel). For SparkR, use setLogLevel(newLevel).\n",
      "22/05/31 18:53:58 WARN NativeCodeLoader: Unable to load native-hadoop library for your platform... using builtin-java classes where applicable\n"
     ]
    }
   ],
   "source": [
    "from pyspark.sql import SparkSession\n",
    " \n",
    "spark = SparkSession.builder.appName(\n",
    "    'AmexChallenge').getOrCreate()"
   ]
  },
  {
   "cell_type": "code",
   "execution_count": 4,
   "id": "16c19797",
   "metadata": {
    "execution": {
     "iopub.execute_input": "2022-05-31T18:54:02.645759Z",
     "iopub.status.busy": "2022-05-31T18:54:02.644509Z",
     "iopub.status.idle": "2022-05-31T18:54:08.727612Z",
     "shell.execute_reply": "2022-05-31T18:54:08.726343Z"
    },
    "papermill": {
     "duration": 6.13326,
     "end_time": "2022-05-31T18:54:08.730315",
     "exception": false,
     "start_time": "2022-05-31T18:54:02.597055",
     "status": "completed"
    },
    "tags": []
   },
   "outputs": [
    {
     "name": "stderr",
     "output_type": "stream",
     "text": [
      "                                                                                \r"
     ]
    }
   ],
   "source": [
    "train_df = spark.read.parquet('../input/amex-default-prediction-parquet-files/train*.pqt')"
   ]
  },
  {
   "cell_type": "code",
   "execution_count": 5,
   "id": "07b2fc10",
   "metadata": {
    "_kg_hide-output": true,
    "execution": {
     "iopub.execute_input": "2022-05-31T18:54:08.830933Z",
     "iopub.status.busy": "2022-05-31T18:54:08.830205Z",
     "iopub.status.idle": "2022-05-31T18:54:08.878161Z",
     "shell.execute_reply": "2022-05-31T18:54:08.876345Z"
    },
    "papermill": {
     "duration": 0.103491,
     "end_time": "2022-05-31T18:54:08.883014",
     "exception": false,
     "start_time": "2022-05-31T18:54:08.779523",
     "status": "completed"
    },
    "scrolled": true,
    "tags": []
   },
   "outputs": [
    {
     "name": "stdout",
     "output_type": "stream",
     "text": [
      "root\n",
      " |-- customer_ID: binary (nullable = true)\n",
      " |-- S_2: timestamp (nullable = true)\n",
      " |-- P_2: float (nullable = true)\n",
      " |-- D_39: float (nullable = true)\n",
      " |-- B_1: float (nullable = true)\n",
      " |-- B_2: float (nullable = true)\n",
      " |-- R_1: float (nullable = true)\n",
      " |-- S_3: float (nullable = true)\n",
      " |-- D_41: float (nullable = true)\n",
      " |-- B_3: float (nullable = true)\n",
      " |-- D_42: float (nullable = true)\n",
      " |-- D_43: float (nullable = true)\n",
      " |-- D_44: float (nullable = true)\n",
      " |-- B_4: float (nullable = true)\n",
      " |-- D_45: float (nullable = true)\n",
      " |-- B_5: float (nullable = true)\n",
      " |-- R_2: float (nullable = true)\n",
      " |-- D_46: float (nullable = true)\n",
      " |-- D_47: float (nullable = true)\n",
      " |-- D_48: float (nullable = true)\n",
      " |-- D_49: float (nullable = true)\n",
      " |-- B_6: float (nullable = true)\n",
      " |-- B_7: float (nullable = true)\n",
      " |-- B_8: float (nullable = true)\n",
      " |-- D_50: float (nullable = true)\n",
      " |-- D_51: float (nullable = true)\n",
      " |-- B_9: float (nullable = true)\n",
      " |-- R_3: float (nullable = true)\n",
      " |-- D_52: float (nullable = true)\n",
      " |-- P_3: float (nullable = true)\n",
      " |-- B_10: float (nullable = true)\n",
      " |-- D_53: float (nullable = true)\n",
      " |-- S_5: float (nullable = true)\n",
      " |-- B_11: float (nullable = true)\n",
      " |-- S_6: float (nullable = true)\n",
      " |-- D_54: float (nullable = true)\n",
      " |-- R_4: float (nullable = true)\n",
      " |-- S_7: float (nullable = true)\n",
      " |-- B_12: float (nullable = true)\n",
      " |-- S_8: float (nullable = true)\n",
      " |-- D_55: float (nullable = true)\n",
      " |-- D_56: float (nullable = true)\n",
      " |-- B_13: float (nullable = true)\n",
      " |-- R_5: float (nullable = true)\n",
      " |-- D_58: float (nullable = true)\n",
      " |-- S_9: float (nullable = true)\n",
      " |-- B_14: float (nullable = true)\n",
      " |-- D_59: float (nullable = true)\n",
      " |-- D_60: float (nullable = true)\n",
      " |-- D_61: float (nullable = true)\n",
      " |-- B_15: float (nullable = true)\n",
      " |-- S_11: float (nullable = true)\n",
      " |-- D_62: float (nullable = true)\n",
      " |-- D_63: string (nullable = true)\n",
      " |-- D_64: string (nullable = true)\n",
      " |-- D_65: float (nullable = true)\n",
      " |-- B_16: float (nullable = true)\n",
      " |-- B_17: float (nullable = true)\n",
      " |-- B_18: float (nullable = true)\n",
      " |-- B_19: float (nullable = true)\n",
      " |-- D_66: float (nullable = true)\n",
      " |-- B_20: float (nullable = true)\n",
      " |-- D_68: float (nullable = true)\n",
      " |-- S_12: float (nullable = true)\n",
      " |-- R_6: float (nullable = true)\n",
      " |-- S_13: float (nullable = true)\n",
      " |-- B_21: float (nullable = true)\n",
      " |-- D_69: float (nullable = true)\n",
      " |-- B_22: float (nullable = true)\n",
      " |-- D_70: float (nullable = true)\n",
      " |-- D_71: float (nullable = true)\n",
      " |-- D_72: float (nullable = true)\n",
      " |-- S_15: float (nullable = true)\n",
      " |-- B_23: float (nullable = true)\n",
      " |-- D_73: float (nullable = true)\n",
      " |-- P_4: float (nullable = true)\n",
      " |-- D_74: float (nullable = true)\n",
      " |-- D_75: float (nullable = true)\n",
      " |-- D_76: float (nullable = true)\n",
      " |-- B_24: float (nullable = true)\n",
      " |-- R_7: float (nullable = true)\n",
      " |-- D_77: float (nullable = true)\n",
      " |-- B_25: float (nullable = true)\n",
      " |-- B_26: float (nullable = true)\n",
      " |-- D_78: float (nullable = true)\n",
      " |-- D_79: float (nullable = true)\n",
      " |-- R_8: float (nullable = true)\n",
      " |-- R_9: float (nullable = true)\n",
      " |-- S_16: float (nullable = true)\n",
      " |-- D_80: float (nullable = true)\n",
      " |-- R_10: float (nullable = true)\n",
      " |-- R_11: float (nullable = true)\n",
      " |-- B_27: float (nullable = true)\n",
      " |-- D_81: float (nullable = true)\n",
      " |-- D_82: float (nullable = true)\n",
      " |-- S_17: float (nullable = true)\n",
      " |-- R_12: float (nullable = true)\n",
      " |-- B_28: float (nullable = true)\n",
      " |-- R_13: float (nullable = true)\n",
      " |-- D_83: float (nullable = true)\n",
      " |-- R_14: float (nullable = true)\n",
      " |-- R_15: float (nullable = true)\n",
      " |-- D_84: float (nullable = true)\n",
      " |-- R_16: float (nullable = true)\n",
      " |-- B_29: float (nullable = true)\n",
      " |-- B_30: float (nullable = true)\n",
      " |-- S_18: float (nullable = true)\n",
      " |-- D_86: float (nullable = true)\n",
      " |-- D_87: float (nullable = true)\n",
      " |-- R_17: float (nullable = true)\n",
      " |-- R_18: float (nullable = true)\n",
      " |-- D_88: float (nullable = true)\n",
      " |-- B_31: long (nullable = true)\n",
      " |-- S_19: float (nullable = true)\n",
      " |-- R_19: float (nullable = true)\n",
      " |-- B_32: float (nullable = true)\n",
      " |-- S_20: float (nullable = true)\n",
      " |-- R_20: float (nullable = true)\n",
      " |-- R_21: float (nullable = true)\n",
      " |-- B_33: float (nullable = true)\n",
      " |-- D_89: float (nullable = true)\n",
      " |-- R_22: float (nullable = true)\n",
      " |-- R_23: float (nullable = true)\n",
      " |-- D_91: float (nullable = true)\n",
      " |-- D_92: float (nullable = true)\n",
      " |-- D_93: float (nullable = true)\n",
      " |-- D_94: float (nullable = true)\n",
      " |-- R_24: float (nullable = true)\n",
      " |-- R_25: float (nullable = true)\n",
      " |-- D_96: float (nullable = true)\n",
      " |-- S_22: float (nullable = true)\n",
      " |-- S_23: float (nullable = true)\n",
      " |-- S_24: float (nullable = true)\n",
      " |-- S_25: float (nullable = true)\n",
      " |-- S_26: float (nullable = true)\n",
      " |-- D_102: float (nullable = true)\n",
      " |-- D_103: float (nullable = true)\n",
      " |-- D_104: float (nullable = true)\n",
      " |-- D_105: float (nullable = true)\n",
      " |-- D_106: float (nullable = true)\n",
      " |-- D_107: float (nullable = true)\n",
      " |-- B_36: float (nullable = true)\n",
      " |-- B_37: float (nullable = true)\n",
      " |-- R_26: float (nullable = true)\n",
      " |-- R_27: float (nullable = true)\n",
      " |-- B_38: float (nullable = true)\n",
      " |-- D_108: float (nullable = true)\n",
      " |-- D_109: float (nullable = true)\n",
      " |-- D_110: float (nullable = true)\n",
      " |-- D_111: float (nullable = true)\n",
      " |-- B_39: float (nullable = true)\n",
      " |-- D_112: float (nullable = true)\n",
      " |-- B_40: float (nullable = true)\n",
      " |-- S_27: float (nullable = true)\n",
      " |-- D_113: float (nullable = true)\n",
      " |-- D_114: float (nullable = true)\n",
      " |-- D_115: float (nullable = true)\n",
      " |-- D_116: float (nullable = true)\n",
      " |-- D_117: float (nullable = true)\n",
      " |-- D_118: float (nullable = true)\n",
      " |-- D_119: float (nullable = true)\n",
      " |-- D_120: float (nullable = true)\n",
      " |-- D_121: float (nullable = true)\n",
      " |-- D_122: float (nullable = true)\n",
      " |-- D_123: float (nullable = true)\n",
      " |-- D_124: float (nullable = true)\n",
      " |-- D_125: float (nullable = true)\n",
      " |-- D_126: float (nullable = true)\n",
      " |-- D_127: float (nullable = true)\n",
      " |-- D_128: float (nullable = true)\n",
      " |-- D_129: float (nullable = true)\n",
      " |-- B_41: float (nullable = true)\n",
      " |-- B_42: float (nullable = true)\n",
      " |-- D_130: float (nullable = true)\n",
      " |-- D_131: float (nullable = true)\n",
      " |-- D_132: float (nullable = true)\n",
      " |-- D_133: float (nullable = true)\n",
      " |-- R_28: float (nullable = true)\n",
      " |-- D_134: float (nullable = true)\n",
      " |-- D_135: float (nullable = true)\n",
      " |-- D_136: float (nullable = true)\n",
      " |-- D_137: float (nullable = true)\n",
      " |-- D_138: float (nullable = true)\n",
      " |-- D_139: float (nullable = true)\n",
      " |-- D_140: float (nullable = true)\n",
      " |-- D_141: float (nullable = true)\n",
      " |-- D_142: float (nullable = true)\n",
      " |-- D_143: float (nullable = true)\n",
      " |-- D_144: float (nullable = true)\n",
      " |-- D_145: float (nullable = true)\n",
      "\n"
     ]
    }
   ],
   "source": [
    "train_df.printSchema()"
   ]
  },
  {
   "cell_type": "code",
   "execution_count": 6,
   "id": "bb2568f4",
   "metadata": {
    "execution": {
     "iopub.execute_input": "2022-05-31T18:54:09.011968Z",
     "iopub.status.busy": "2022-05-31T18:54:09.010148Z",
     "iopub.status.idle": "2022-05-31T18:54:09.021342Z",
     "shell.execute_reply": "2022-05-31T18:54:09.019981Z"
    },
    "papermill": {
     "duration": 0.067002,
     "end_time": "2022-05-31T18:54:09.025478",
     "exception": false,
     "start_time": "2022-05-31T18:54:08.958476",
     "status": "completed"
    },
    "tags": []
   },
   "outputs": [],
   "source": [
    "from pyspark.sql.types import StringType, StructType\n",
    "import pyspark.sql.functions as func "
   ]
  },
  {
   "cell_type": "code",
   "execution_count": 7,
   "id": "8560d3f5",
   "metadata": {
    "execution": {
     "iopub.execute_input": "2022-05-31T18:54:09.126440Z",
     "iopub.status.busy": "2022-05-31T18:54:09.125556Z",
     "iopub.status.idle": "2022-05-31T18:54:09.356571Z",
     "shell.execute_reply": "2022-05-31T18:54:09.355378Z"
    },
    "papermill": {
     "duration": 0.285028,
     "end_time": "2022-05-31T18:54:09.360246",
     "exception": false,
     "start_time": "2022-05-31T18:54:09.075218",
     "status": "completed"
    },
    "tags": []
   },
   "outputs": [],
   "source": [
    "train_df = train_df.withColumn(\"customer_ID\",train_df[\"customer_ID\"].cast(StringType()))"
   ]
  },
  {
   "cell_type": "code",
   "execution_count": 8,
   "id": "8fbccf14",
   "metadata": {
    "execution": {
     "iopub.execute_input": "2022-05-31T18:54:09.459617Z",
     "iopub.status.busy": "2022-05-31T18:54:09.459194Z",
     "iopub.status.idle": "2022-05-31T18:54:12.905669Z",
     "shell.execute_reply": "2022-05-31T18:54:12.904664Z"
    },
    "papermill": {
     "duration": 3.495922,
     "end_time": "2022-05-31T18:54:12.908754",
     "exception": false,
     "start_time": "2022-05-31T18:54:09.412832",
     "status": "completed"
    },
    "tags": []
   },
   "outputs": [
    {
     "name": "stderr",
     "output_type": "stream",
     "text": [
      "[Stage 2:====================================================>    (51 + 4) / 55]\r"
     ]
    },
    {
     "name": "stdout",
     "output_type": "stream",
     "text": [
      "Total number of rows: 5531451 and Tota number of cols: 190\n"
     ]
    },
    {
     "name": "stderr",
     "output_type": "stream",
     "text": [
      "                                                                                \r"
     ]
    }
   ],
   "source": [
    "print(f\"Total number of rows: {train_df.count()} and Tota number of cols: {len(train_df.columns)}\")"
   ]
  },
  {
   "cell_type": "code",
   "execution_count": 9,
   "id": "79adc0b3",
   "metadata": {
    "execution": {
     "iopub.execute_input": "2022-05-31T18:54:13.011860Z",
     "iopub.status.busy": "2022-05-31T18:54:13.011245Z",
     "iopub.status.idle": "2022-05-31T18:54:13.016457Z",
     "shell.execute_reply": "2022-05-31T18:54:13.015395Z"
    },
    "papermill": {
     "duration": 0.057224,
     "end_time": "2022-05-31T18:54:13.019379",
     "exception": false,
     "start_time": "2022-05-31T18:54:12.962155",
     "status": "completed"
    },
    "tags": []
   },
   "outputs": [],
   "source": [
    "cat_cols = ['B_30', 'B_38', 'D_114', 'D_116', 'D_117', 'D_120', 'D_126', 'D_63', 'D_64', 'D_66', 'D_68']"
   ]
  },
  {
   "cell_type": "code",
   "execution_count": 10,
   "id": "2cdc2fd0",
   "metadata": {
    "execution": {
     "iopub.execute_input": "2022-05-31T18:54:13.116985Z",
     "iopub.status.busy": "2022-05-31T18:54:13.116073Z",
     "iopub.status.idle": "2022-05-31T18:54:13.122711Z",
     "shell.execute_reply": "2022-05-31T18:54:13.121424Z"
    },
    "papermill": {
     "duration": 0.05869,
     "end_time": "2022-05-31T18:54:13.125527",
     "exception": false,
     "start_time": "2022-05-31T18:54:13.066837",
     "status": "completed"
    },
    "tags": []
   },
   "outputs": [],
   "source": [
    "num_cols = []\n",
    "for col in train_df.columns[2:]:\n",
    "    if col not in cat_cols:\n",
    "        num_cols.append(col)\n"
   ]
  },
  {
   "cell_type": "markdown",
   "id": "60004c48",
   "metadata": {
    "papermill": {
     "duration": 0.044308,
     "end_time": "2022-05-31T18:54:13.215094",
     "exception": false,
     "start_time": "2022-05-31T18:54:13.170786",
     "status": "completed"
    },
    "tags": []
   },
   "source": [
    "## Group By for each Individual Customer ID"
   ]
  },
  {
   "cell_type": "markdown",
   "id": "057100b5",
   "metadata": {
    "papermill": {
     "duration": 0.047644,
     "end_time": "2022-05-31T18:54:13.308327",
     "exception": false,
     "start_time": "2022-05-31T18:54:13.260683",
     "status": "completed"
    },
    "tags": []
   },
   "source": [
    "## The usage of pyspark\n",
    "* I observed in other notebook they where using feather data which was created by somebody but there was no proper source where that has been created.\n",
    "* So I though and first create parquet files from csv files which I attached above.\n",
    "* Once of we have parquet files we can now load `train` and `test` data using pyspark which will do aggregation with parallel manner with very less concumption RAM.\n",
    "* Order each pyspark dataframe with `customer_ID` and at the end convert them to pandas DataFrame and just concat them horizontally because all are sorted."
   ]
  },
  {
   "cell_type": "code",
   "execution_count": 11,
   "id": "bde669aa",
   "metadata": {
    "execution": {
     "iopub.execute_input": "2022-05-31T18:54:13.405225Z",
     "iopub.status.busy": "2022-05-31T18:54:13.404336Z",
     "iopub.status.idle": "2022-05-31T18:54:32.905975Z",
     "shell.execute_reply": "2022-05-31T18:54:32.904366Z"
    },
    "papermill": {
     "duration": 19.553768,
     "end_time": "2022-05-31T18:54:32.908718",
     "exception": false,
     "start_time": "2022-05-31T18:54:13.354950",
     "status": "completed"
    },
    "tags": []
   },
   "outputs": [
    {
     "name": "stderr",
     "output_type": "stream",
     "text": [
      "                                                                                \r"
     ]
    },
    {
     "name": "stdout",
     "output_type": "stream",
     "text": [
      "CPU times: user 5.45 s, sys: 383 ms, total: 5.83 s\n",
      "Wall time: 19.5 s\n"
     ]
    }
   ],
   "source": [
    "%%time\n",
    "exprs = {col: 'count' for col in cat_cols}\n",
    "cat_count_df = train_df.groupby('customer_ID').agg(exprs).orderBy('customer_ID', ascending=True).toPandas()"
   ]
  },
  {
   "cell_type": "code",
   "execution_count": 12,
   "id": "9b139a00",
   "metadata": {
    "execution": {
     "iopub.execute_input": "2022-05-31T18:54:33.010160Z",
     "iopub.status.busy": "2022-05-31T18:54:33.009128Z",
     "iopub.status.idle": "2022-05-31T18:54:33.030845Z",
     "shell.execute_reply": "2022-05-31T18:54:33.029302Z"
    },
    "papermill": {
     "duration": 0.077177,
     "end_time": "2022-05-31T18:54:33.033681",
     "exception": false,
     "start_time": "2022-05-31T18:54:32.956504",
     "status": "completed"
    },
    "tags": []
   },
   "outputs": [],
   "source": [
    "for col in cat_count_df.columns[1:]:\n",
    "    cat_count_df[col] = cat_count_df[col].astype('int8')"
   ]
  },
  {
   "cell_type": "code",
   "execution_count": 13,
   "id": "a48d9071",
   "metadata": {
    "execution": {
     "iopub.execute_input": "2022-05-31T18:54:33.133647Z",
     "iopub.status.busy": "2022-05-31T18:54:33.132853Z",
     "iopub.status.idle": "2022-05-31T18:54:33.254724Z",
     "shell.execute_reply": "2022-05-31T18:54:33.253272Z"
    },
    "papermill": {
     "duration": 0.175414,
     "end_time": "2022-05-31T18:54:33.257787",
     "exception": false,
     "start_time": "2022-05-31T18:54:33.082373",
     "status": "completed"
    },
    "tags": []
   },
   "outputs": [
    {
     "data": {
      "text/plain": [
       "58"
      ]
     },
     "execution_count": 13,
     "metadata": {},
     "output_type": "execute_result"
    }
   ],
   "source": [
    "gc.collect()"
   ]
  },
  {
   "cell_type": "code",
   "execution_count": 14,
   "id": "4e77792c",
   "metadata": {
    "execution": {
     "iopub.execute_input": "2022-05-31T18:54:33.356655Z",
     "iopub.status.busy": "2022-05-31T18:54:33.355046Z",
     "iopub.status.idle": "2022-05-31T18:54:52.773643Z",
     "shell.execute_reply": "2022-05-31T18:54:52.772674Z"
    },
    "papermill": {
     "duration": 19.471005,
     "end_time": "2022-05-31T18:54:52.775855",
     "exception": false,
     "start_time": "2022-05-31T18:54:33.304850",
     "status": "completed"
    },
    "tags": []
   },
   "outputs": [
    {
     "name": "stderr",
     "output_type": "stream",
     "text": [
      "                                                                                \r"
     ]
    },
    {
     "name": "stdout",
     "output_type": "stream",
     "text": [
      "CPU times: user 4.47 s, sys: 381 ms, total: 4.85 s\n",
      "Wall time: 19.4 s\n"
     ]
    }
   ],
   "source": [
    "%%time\n",
    "exprs = {col: 'last' for col in cat_cols}\n",
    "cat_last_df = train_df.groupby('customer_ID').agg(exprs).orderBy('customer_ID', ascending=True).toPandas().drop('customer_ID', axis=1)"
   ]
  },
  {
   "cell_type": "code",
   "execution_count": 15,
   "id": "24f2af68",
   "metadata": {
    "execution": {
     "iopub.execute_input": "2022-05-31T18:54:52.873168Z",
     "iopub.status.busy": "2022-05-31T18:54:52.872745Z",
     "iopub.status.idle": "2022-05-31T18:54:52.931973Z",
     "shell.execute_reply": "2022-05-31T18:54:52.930738Z"
    },
    "papermill": {
     "duration": 0.111062,
     "end_time": "2022-05-31T18:54:52.934702",
     "exception": false,
     "start_time": "2022-05-31T18:54:52.823640",
     "status": "completed"
    },
    "tags": []
   },
   "outputs": [],
   "source": [
    "for col in cat_last_df:\n",
    "    if cat_last_df[col].dtype == \"float32\":\n",
    "        cat_last_df[col] = cat_last_df[col].astype('float16')"
   ]
  },
  {
   "cell_type": "code",
   "execution_count": 16,
   "id": "68ec675c",
   "metadata": {
    "execution": {
     "iopub.execute_input": "2022-05-31T18:54:53.038729Z",
     "iopub.status.busy": "2022-05-31T18:54:53.036666Z",
     "iopub.status.idle": "2022-05-31T18:54:53.161499Z",
     "shell.execute_reply": "2022-05-31T18:54:53.160329Z"
    },
    "papermill": {
     "duration": 0.178867,
     "end_time": "2022-05-31T18:54:53.163984",
     "exception": false,
     "start_time": "2022-05-31T18:54:52.985117",
     "status": "completed"
    },
    "tags": []
   },
   "outputs": [
    {
     "data": {
      "text/plain": [
       "58"
      ]
     },
     "execution_count": 16,
     "metadata": {},
     "output_type": "execute_result"
    }
   ],
   "source": [
    "gc.collect()"
   ]
  },
  {
   "cell_type": "code",
   "execution_count": 17,
   "id": "3829f510",
   "metadata": {
    "execution": {
     "iopub.execute_input": "2022-05-31T18:54:53.263355Z",
     "iopub.status.busy": "2022-05-31T18:54:53.262916Z",
     "iopub.status.idle": "2022-05-31T18:54:53.270932Z",
     "shell.execute_reply": "2022-05-31T18:54:53.269410Z"
    },
    "papermill": {
     "duration": 0.059936,
     "end_time": "2022-05-31T18:54:53.273180",
     "exception": false,
     "start_time": "2022-05-31T18:54:53.213244",
     "status": "completed"
    },
    "tags": []
   },
   "outputs": [],
   "source": [
    "def grp_unique_count(train_df):\n",
    "    agg_df = []\n",
    "    for col in cat_cols:\n",
    "        agg_df.append(train_df.groupby('customer_ID').agg(func.expr(f'count(distinct {col})')).orderBy('customer_ID', ascending=True).toPandas().drop('customer_ID', axis=1))\n",
    "    final_df = pd.concat(agg_df, axis=1).astype('int8')\n",
    "    gc.collect()\n",
    "    return final_df"
   ]
  },
  {
   "cell_type": "code",
   "execution_count": 18,
   "id": "9e5a2589",
   "metadata": {
    "execution": {
     "iopub.execute_input": "2022-05-31T18:54:53.370447Z",
     "iopub.status.busy": "2022-05-31T18:54:53.369684Z",
     "iopub.status.idle": "2022-05-31T18:56:27.516565Z",
     "shell.execute_reply": "2022-05-31T18:56:27.515721Z"
    },
    "papermill": {
     "duration": 94.257547,
     "end_time": "2022-05-31T18:56:27.577488",
     "exception": false,
     "start_time": "2022-05-31T18:54:53.319941",
     "status": "completed"
    },
    "tags": []
   },
   "outputs": [
    {
     "name": "stderr",
     "output_type": "stream",
     "text": [
      "                                                                                \r"
     ]
    },
    {
     "name": "stdout",
     "output_type": "stream",
     "text": [
      "CPU times: user 32 s, sys: 298 ms, total: 32.3 s\n",
      "Wall time: 1min 34s\n"
     ]
    }
   ],
   "source": [
    "%%time\n",
    "cat_nc_df = grp_unique_count(train_df)"
   ]
  },
  {
   "cell_type": "code",
   "execution_count": 19,
   "id": "05dcd0ef",
   "metadata": {
    "execution": {
     "iopub.execute_input": "2022-05-31T18:56:27.712334Z",
     "iopub.status.busy": "2022-05-31T18:56:27.711824Z",
     "iopub.status.idle": "2022-05-31T18:56:27.767677Z",
     "shell.execute_reply": "2022-05-31T18:56:27.766344Z"
    },
    "papermill": {
     "duration": 0.122772,
     "end_time": "2022-05-31T18:56:27.771142",
     "exception": false,
     "start_time": "2022-05-31T18:56:27.648370",
     "status": "completed"
    },
    "tags": []
   },
   "outputs": [],
   "source": [
    "cat_cols_df = pd.concat([cat_count_df, cat_last_df, cat_nc_df], axis=1)\n",
    "del(cat_count_df)\n",
    "del(cat_last_df)\n",
    "del(cat_nc_df)"
   ]
  },
  {
   "cell_type": "code",
   "execution_count": 20,
   "id": "356bd37b",
   "metadata": {
    "execution": {
     "iopub.execute_input": "2022-05-31T18:56:27.890542Z",
     "iopub.status.busy": "2022-05-31T18:56:27.890098Z",
     "iopub.status.idle": "2022-05-31T18:56:27.899789Z",
     "shell.execute_reply": "2022-05-31T18:56:27.898550Z"
    },
    "papermill": {
     "duration": 0.071582,
     "end_time": "2022-05-31T18:56:27.902117",
     "exception": false,
     "start_time": "2022-05-31T18:56:27.830535",
     "status": "completed"
    },
    "tags": []
   },
   "outputs": [],
   "source": [
    "def grp_num_cols(train_df):\n",
    "    def agg_num(agg_func):\n",
    "        agg_df = []\n",
    "        for i in range(0, len(num_cols), 20):\n",
    "            exprs = {col: agg_func for col in num_cols[i:i+20]}\n",
    "            agg_df.append(train_df.groupBy('customer_ID').agg(exprs).orderBy('customer_ID', ascending=True).toPandas().drop('customer_ID', axis=1))\n",
    "        final_df = pd.concat(agg_df, axis=1).astype('float16')\n",
    "        gc.collect()\n",
    "        return final_df\n",
    "    num_mean_df = agg_num(\"mean\")\n",
    "    num_std_df = agg_num(\"std\")\n",
    "    num_min_df = agg_num(\"min\")\n",
    "    num_max_df = agg_num(\"max\")\n",
    "    final_df = pd.concat([num_mean_df, num_std_df, num_min_df, num_max_df], axis=1)\n",
    "    return final_df"
   ]
  },
  {
   "cell_type": "code",
   "execution_count": 21,
   "id": "9eca0ba4",
   "metadata": {
    "execution": {
     "iopub.execute_input": "2022-05-31T18:56:28.024978Z",
     "iopub.status.busy": "2022-05-31T18:56:28.024531Z",
     "iopub.status.idle": "2022-05-31T19:07:50.658663Z",
     "shell.execute_reply": "2022-05-31T19:07:50.657147Z"
    },
    "papermill": {
     "duration": 682.702342,
     "end_time": "2022-05-31T19:07:50.662349",
     "exception": false,
     "start_time": "2022-05-31T18:56:27.960007",
     "status": "completed"
    },
    "tags": []
   },
   "outputs": [
    {
     "name": "stderr",
     "output_type": "stream",
     "text": [
      "22/05/31 18:56:28 WARN package: Truncated the string representation of a plan since it was too large. This behavior can be adjusted by setting 'spark.sql.debug.maxToStringFields'.\n",
      "                                                                                \r"
     ]
    },
    {
     "name": "stdout",
     "output_type": "stream",
     "text": [
      "CPU times: user 3min 55s, sys: 12.3 s, total: 4min 7s\n",
      "Wall time: 11min 22s\n"
     ]
    }
   ],
   "source": [
    "%%time\n",
    "num_cols_df = grp_num_cols(train_df)"
   ]
  },
  {
   "cell_type": "code",
   "execution_count": 22,
   "id": "ab66547a",
   "metadata": {
    "execution": {
     "iopub.execute_input": "2022-05-31T19:07:50.993911Z",
     "iopub.status.busy": "2022-05-31T19:07:50.993026Z",
     "iopub.status.idle": "2022-05-31T19:07:51.190456Z",
     "shell.execute_reply": "2022-05-31T19:07:51.189145Z"
    },
    "papermill": {
     "duration": 0.416466,
     "end_time": "2022-05-31T19:07:51.193209",
     "exception": false,
     "start_time": "2022-05-31T19:07:50.776743",
     "status": "completed"
    },
    "tags": []
   },
   "outputs": [],
   "source": [
    "final_df = pd.concat([cat_cols_df, num_cols_df], axis=1)"
   ]
  },
  {
   "cell_type": "code",
   "execution_count": 23,
   "id": "77fe3956",
   "metadata": {
    "execution": {
     "iopub.execute_input": "2022-05-31T19:07:51.427990Z",
     "iopub.status.busy": "2022-05-31T19:07:51.427423Z",
     "iopub.status.idle": "2022-05-31T19:07:51.434082Z",
     "shell.execute_reply": "2022-05-31T19:07:51.433214Z"
    },
    "papermill": {
     "duration": 0.125928,
     "end_time": "2022-05-31T19:07:51.436099",
     "exception": false,
     "start_time": "2022-05-31T19:07:51.310171",
     "status": "completed"
    },
    "tags": []
   },
   "outputs": [
    {
     "name": "stdout",
     "output_type": "stream",
     "text": [
      "count(B_30)\n",
      "count(B_38)\n",
      "count(D_114)\n",
      "count(D_116)\n",
      "count(D_117)\n",
      "count(D_120)\n",
      "count(D_126)\n",
      "count(D_63)\n",
      "count(D_64)\n",
      "count(D_66)\n",
      "count(D_68)\n"
     ]
    }
   ],
   "source": [
    "unq_cols = set()\n",
    "for col in final_df:\n",
    "    if col in unq_cols:\n",
    "        print(col)\n",
    "    else:\n",
    "        unq_cols.add(col)"
   ]
  }
 ],
 "metadata": {
  "kernelspec": {
   "display_name": "Python 3",
   "language": "python",
   "name": "python3"
  },
  "language_info": {
   "codemirror_mode": {
    "name": "ipython",
    "version": 3
   },
   "file_extension": ".py",
   "mimetype": "text/x-python",
   "name": "python",
   "nbconvert_exporter": "python",
   "pygments_lexer": "ipython3",
   "version": "3.7.12"
  },
  "papermill": {
   "default_parameters": {},
   "duration": 918.809573,
   "end_time": "2022-05-31T19:07:54.179694",
   "environment_variables": {},
   "exception": null,
   "input_path": "__notebook__.ipynb",
   "output_path": "__notebook__.ipynb",
   "parameters": {},
   "start_time": "2022-05-31T18:52:35.370121",
   "version": "2.3.4"
  }
 },
 "nbformat": 4,
 "nbformat_minor": 5
}
