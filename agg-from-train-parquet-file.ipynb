{
 "cells": [
  {
   "cell_type": "code",
   "execution_count": 1,
   "id": "f0a052ec",
   "metadata": {
    "_cell_guid": "b1076dfc-b9ad-4769-8c92-a6c4dae69d19",
    "_kg_hide-output": true,
    "_uuid": "8f2839f25d086af736a60e9eeb907d3b93b6e0e5",
    "execution": {
     "iopub.execute_input": "2022-06-01T08:22:01.657443Z",
     "iopub.status.busy": "2022-06-01T08:22:01.656729Z",
     "iopub.status.idle": "2022-06-01T08:22:01.715494Z",
     "shell.execute_reply": "2022-06-01T08:22:01.714610Z"
    },
    "papermill": {
     "duration": 0.076085,
     "end_time": "2022-06-01T08:22:01.719421",
     "exception": false,
     "start_time": "2022-06-01T08:22:01.643336",
     "status": "completed"
    },
    "scrolled": true,
    "tags": []
   },
   "outputs": [
    {
     "name": "stdout",
     "output_type": "stream",
     "text": [
      "/kaggle/input/amex-default-prediction-parquet-files/test_file_23.pqt\n",
      "/kaggle/input/amex-default-prediction-parquet-files/test_file_72.pqt\n",
      "/kaggle/input/amex-default-prediction-parquet-files/test_file_61.pqt\n",
      "/kaggle/input/amex-default-prediction-parquet-files/test_file_55.pqt\n",
      "/kaggle/input/amex-default-prediction-parquet-files/test_file_71.pqt\n",
      "/kaggle/input/amex-default-prediction-parquet-files/test_file_53.pqt\n",
      "/kaggle/input/amex-default-prediction-parquet-files/test_file_30.pqt\n",
      "/kaggle/input/amex-default-prediction-parquet-files/test_file_20.pqt\n",
      "/kaggle/input/amex-default-prediction-parquet-files/test_file_80.pqt\n",
      "/kaggle/input/amex-default-prediction-parquet-files/test_file_85.pqt\n",
      "/kaggle/input/amex-default-prediction-parquet-files/test_file_36.pqt\n",
      "/kaggle/input/amex-default-prediction-parquet-files/test_file_50.pqt\n",
      "/kaggle/input/amex-default-prediction-parquet-files/test_file_97.pqt\n",
      "/kaggle/input/amex-default-prediction-parquet-files/train_file_28.pqt\n",
      "/kaggle/input/amex-default-prediction-parquet-files/test_file_16.pqt\n",
      "/kaggle/input/amex-default-prediction-parquet-files/train_file_53.pqt\n",
      "/kaggle/input/amex-default-prediction-parquet-files/test_file_7.pqt\n",
      "/kaggle/input/amex-default-prediction-parquet-files/train_file_21.pqt\n",
      "/kaggle/input/amex-default-prediction-parquet-files/test_file_13.pqt\n",
      "/kaggle/input/amex-default-prediction-parquet-files/test_file_112.pqt\n",
      "/kaggle/input/amex-default-prediction-parquet-files/test_file_73.pqt\n",
      "/kaggle/input/amex-default-prediction-parquet-files/test_file_100.pqt\n",
      "/kaggle/input/amex-default-prediction-parquet-files/train_file_17.pqt\n",
      "/kaggle/input/amex-default-prediction-parquet-files/test_file_38.pqt\n",
      "/kaggle/input/amex-default-prediction-parquet-files/train_file_44.pqt\n",
      "/kaggle/input/amex-default-prediction-parquet-files/train_file_31.pqt\n",
      "/kaggle/input/amex-default-prediction-parquet-files/test_file_22.pqt\n",
      "/kaggle/input/amex-default-prediction-parquet-files/train_file_56.pqt\n",
      "/kaggle/input/amex-default-prediction-parquet-files/test_file_11.pqt\n",
      "/kaggle/input/amex-default-prediction-parquet-files/test_file_47.pqt\n",
      "/kaggle/input/amex-default-prediction-parquet-files/test_file_35.pqt\n",
      "/kaggle/input/amex-default-prediction-parquet-files/test_file_68.pqt\n",
      "/kaggle/input/amex-default-prediction-parquet-files/test_file_95.pqt\n",
      "/kaggle/input/amex-default-prediction-parquet-files/test_file_27.pqt\n",
      "/kaggle/input/amex-default-prediction-parquet-files/test_file_43.pqt\n",
      "/kaggle/input/amex-default-prediction-parquet-files/test_file_14.pqt\n",
      "/kaggle/input/amex-default-prediction-parquet-files/test_file_88.pqt\n",
      "/kaggle/input/amex-default-prediction-parquet-files/test_file_82.pqt\n",
      "/kaggle/input/amex-default-prediction-parquet-files/test_file_81.pqt\n",
      "/kaggle/input/amex-default-prediction-parquet-files/train_file_35.pqt\n",
      "/kaggle/input/amex-default-prediction-parquet-files/train_file_13.pqt\n",
      "/kaggle/input/amex-default-prediction-parquet-files/test_file_10.pqt\n",
      "/kaggle/input/amex-default-prediction-parquet-files/train_file_19.pqt\n",
      "/kaggle/input/amex-default-prediction-parquet-files/train_file_5.pqt\n",
      "/kaggle/input/amex-default-prediction-parquet-files/test_file_40.pqt\n",
      "/kaggle/input/amex-default-prediction-parquet-files/train_file_48.pqt\n",
      "/kaggle/input/amex-default-prediction-parquet-files/test_file_59.pqt\n",
      "/kaggle/input/amex-default-prediction-parquet-files/test_file_106.pqt\n",
      "/kaggle/input/amex-default-prediction-parquet-files/train_file_39.pqt\n",
      "/kaggle/input/amex-default-prediction-parquet-files/train_file_52.pqt\n",
      "/kaggle/input/amex-default-prediction-parquet-files/test_file_86.pqt\n",
      "/kaggle/input/amex-default-prediction-parquet-files/test_file_58.pqt\n",
      "/kaggle/input/amex-default-prediction-parquet-files/test_file_64.pqt\n",
      "/kaggle/input/amex-default-prediction-parquet-files/train_file_27.pqt\n",
      "/kaggle/input/amex-default-prediction-parquet-files/test_file_109.pqt\n",
      "/kaggle/input/amex-default-prediction-parquet-files/test_file_69.pqt\n",
      "/kaggle/input/amex-default-prediction-parquet-files/train_file_22.pqt\n",
      "/kaggle/input/amex-default-prediction-parquet-files/train_file_40.pqt\n",
      "/kaggle/input/amex-default-prediction-parquet-files/test_file_2.pqt\n",
      "/kaggle/input/amex-default-prediction-parquet-files/test_file_90.pqt\n",
      "/kaggle/input/amex-default-prediction-parquet-files/train_file_47.pqt\n",
      "/kaggle/input/amex-default-prediction-parquet-files/test_file_111.pqt\n",
      "/kaggle/input/amex-default-prediction-parquet-files/train_file_33.pqt\n",
      "/kaggle/input/amex-default-prediction-parquet-files/test_file_56.pqt\n",
      "/kaggle/input/amex-default-prediction-parquet-files/test_file_103.pqt\n",
      "/kaggle/input/amex-default-prediction-parquet-files/test_file_113.pqt\n",
      "/kaggle/input/amex-default-prediction-parquet-files/train_file_12.pqt\n",
      "/kaggle/input/amex-default-prediction-parquet-files/test_file_101.pqt\n",
      "/kaggle/input/amex-default-prediction-parquet-files/test_file_12.pqt\n",
      "/kaggle/input/amex-default-prediction-parquet-files/test_file_62.pqt\n",
      "/kaggle/input/amex-default-prediction-parquet-files/train_file_24.pqt\n",
      "/kaggle/input/amex-default-prediction-parquet-files/train_file_1.pqt\n",
      "/kaggle/input/amex-default-prediction-parquet-files/test_file_89.pqt\n",
      "/kaggle/input/amex-default-prediction-parquet-files/test_file_51.pqt\n",
      "/kaggle/input/amex-default-prediction-parquet-files/test_file_70.pqt\n",
      "/kaggle/input/amex-default-prediction-parquet-files/train_file_4.pqt\n",
      "/kaggle/input/amex-default-prediction-parquet-files/test_file_96.pqt\n",
      "/kaggle/input/amex-default-prediction-parquet-files/train_file_16.pqt\n",
      "/kaggle/input/amex-default-prediction-parquet-files/train_file_41.pqt\n",
      "/kaggle/input/amex-default-prediction-parquet-files/test_file_34.pqt\n",
      "/kaggle/input/amex-default-prediction-parquet-files/train_file_30.pqt\n",
      "/kaggle/input/amex-default-prediction-parquet-files/train_file_38.pqt\n",
      "/kaggle/input/amex-default-prediction-parquet-files/test_file_76.pqt\n",
      "/kaggle/input/amex-default-prediction-parquet-files/train_file_9.pqt\n",
      "/kaggle/input/amex-default-prediction-parquet-files/train_file_6.pqt\n",
      "/kaggle/input/amex-default-prediction-parquet-files/train_file_18.pqt\n",
      "/kaggle/input/amex-default-prediction-parquet-files/train_file_49.pqt\n",
      "/kaggle/input/amex-default-prediction-parquet-files/test_file_105.pqt\n",
      "/kaggle/input/amex-default-prediction-parquet-files/train_file_25.pqt\n",
      "/kaggle/input/amex-default-prediction-parquet-files/test_file_32.pqt\n",
      "/kaggle/input/amex-default-prediction-parquet-files/test_file_74.pqt\n",
      "/kaggle/input/amex-default-prediction-parquet-files/test_file_87.pqt\n",
      "/kaggle/input/amex-default-prediction-parquet-files/test_file_66.pqt\n",
      "/kaggle/input/amex-default-prediction-parquet-files/test_file_21.pqt\n",
      "/kaggle/input/amex-default-prediction-parquet-files/test_file_107.pqt\n",
      "/kaggle/input/amex-default-prediction-parquet-files/test_file_54.pqt\n",
      "/kaggle/input/amex-default-prediction-parquet-files/test_file_18.pqt\n",
      "/kaggle/input/amex-default-prediction-parquet-files/test_file_75.pqt\n",
      "/kaggle/input/amex-default-prediction-parquet-files/test_file_25.pqt\n",
      "/kaggle/input/amex-default-prediction-parquet-files/test_file_104.pqt\n",
      "/kaggle/input/amex-default-prediction-parquet-files/test_file_44.pqt\n",
      "/kaggle/input/amex-default-prediction-parquet-files/test_file_29.pqt\n",
      "/kaggle/input/amex-default-prediction-parquet-files/test_file_33.pqt\n",
      "/kaggle/input/amex-default-prediction-parquet-files/train_file_32.pqt\n",
      "/kaggle/input/amex-default-prediction-parquet-files/test_file_91.pqt\n",
      "/kaggle/input/amex-default-prediction-parquet-files/train_file_23.pqt\n",
      "/kaggle/input/amex-default-prediction-parquet-files/test_file_4.pqt\n",
      "/kaggle/input/amex-default-prediction-parquet-files/test_file_57.pqt\n",
      "/kaggle/input/amex-default-prediction-parquet-files/test_file_110.pqt\n",
      "/kaggle/input/amex-default-prediction-parquet-files/train_file_10.pqt\n",
      "/kaggle/input/amex-default-prediction-parquet-files/train_file_29.pqt\n",
      "/kaggle/input/amex-default-prediction-parquet-files/test_file_102.pqt\n",
      "/kaggle/input/amex-default-prediction-parquet-files/train_file_20.pqt\n",
      "/kaggle/input/amex-default-prediction-parquet-files/train_file_42.pqt\n",
      "/kaggle/input/amex-default-prediction-parquet-files/test_file_98.pqt\n",
      "/kaggle/input/amex-default-prediction-parquet-files/test_file_39.pqt\n",
      "/kaggle/input/amex-default-prediction-parquet-files/train_file_7.pqt\n",
      "/kaggle/input/amex-default-prediction-parquet-files/train_file_46.pqt\n",
      "/kaggle/input/amex-default-prediction-parquet-files/test_file_28.pqt\n",
      "/kaggle/input/amex-default-prediction-parquet-files/test_file_45.pqt\n",
      "/kaggle/input/amex-default-prediction-parquet-files/test_file_17.pqt\n",
      "/kaggle/input/amex-default-prediction-parquet-files/test_file_8.pqt\n",
      "/kaggle/input/amex-default-prediction-parquet-files/test_file_42.pqt\n",
      "/kaggle/input/amex-default-prediction-parquet-files/test_file_79.pqt\n",
      "/kaggle/input/amex-default-prediction-parquet-files/train_file_51.pqt\n",
      "/kaggle/input/amex-default-prediction-parquet-files/test_file_65.pqt\n",
      "/kaggle/input/amex-default-prediction-parquet-files/train_file_36.pqt\n",
      "/kaggle/input/amex-default-prediction-parquet-files/test_file_67.pqt\n",
      "/kaggle/input/amex-default-prediction-parquet-files/train_file_26.pqt\n",
      "/kaggle/input/amex-default-prediction-parquet-files/test_file_99.pqt\n",
      "/kaggle/input/amex-default-prediction-parquet-files/train_file_15.pqt\n",
      "/kaggle/input/amex-default-prediction-parquet-files/test_file_37.pqt\n",
      "/kaggle/input/amex-default-prediction-parquet-files/test_file_84.pqt\n",
      "/kaggle/input/amex-default-prediction-parquet-files/test_file_63.pqt\n",
      "/kaggle/input/amex-default-prediction-parquet-files/test_file_114.pqt\n",
      "/kaggle/input/amex-default-prediction-parquet-files/test_file_24.pqt\n",
      "/kaggle/input/amex-default-prediction-parquet-files/test_file_6.pqt\n",
      "/kaggle/input/amex-default-prediction-parquet-files/test_file_19.pqt\n",
      "/kaggle/input/amex-default-prediction-parquet-files/test_file_1.pqt\n",
      "/kaggle/input/amex-default-prediction-parquet-files/test_file_60.pqt\n",
      "/kaggle/input/amex-default-prediction-parquet-files/test_file_31.pqt\n",
      "/kaggle/input/amex-default-prediction-parquet-files/test_file_52.pqt\n",
      "/kaggle/input/amex-default-prediction-parquet-files/test_file_108.pqt\n",
      "/kaggle/input/amex-default-prediction-parquet-files/train_file_37.pqt\n",
      "/kaggle/input/amex-default-prediction-parquet-files/train_file_54.pqt\n",
      "/kaggle/input/amex-default-prediction-parquet-files/test_file_92.pqt\n",
      "/kaggle/input/amex-default-prediction-parquet-files/test_file_49.pqt\n",
      "/kaggle/input/amex-default-prediction-parquet-files/train_file_50.pqt\n",
      "/kaggle/input/amex-default-prediction-parquet-files/train_file_8.pqt\n",
      "/kaggle/input/amex-default-prediction-parquet-files/test_file_5.pqt\n",
      "/kaggle/input/amex-default-prediction-parquet-files/test_file_94.pqt\n",
      "/kaggle/input/amex-default-prediction-parquet-files/test_file_46.pqt\n",
      "/kaggle/input/amex-default-prediction-parquet-files/train_file_14.pqt\n",
      "/kaggle/input/amex-default-prediction-parquet-files/train_file_3.pqt\n",
      "/kaggle/input/amex-default-prediction-parquet-files/train_file_55.pqt\n",
      "/kaggle/input/amex-default-prediction-parquet-files/train_file_2.pqt\n",
      "/kaggle/input/amex-default-prediction-parquet-files/train_file_45.pqt\n",
      "/kaggle/input/amex-default-prediction-parquet-files/test_file_3.pqt\n",
      "/kaggle/input/amex-default-prediction-parquet-files/test_file_26.pqt\n",
      "/kaggle/input/amex-default-prediction-parquet-files/test_file_15.pqt\n",
      "/kaggle/input/amex-default-prediction-parquet-files/test_file_48.pqt\n",
      "/kaggle/input/amex-default-prediction-parquet-files/test_file_77.pqt\n",
      "/kaggle/input/amex-default-prediction-parquet-files/test_file_41.pqt\n",
      "/kaggle/input/amex-default-prediction-parquet-files/train_file_34.pqt\n",
      "/kaggle/input/amex-default-prediction-parquet-files/train_file_11.pqt\n",
      "/kaggle/input/amex-default-prediction-parquet-files/test_file_83.pqt\n",
      "/kaggle/input/amex-default-prediction-parquet-files/test_file_93.pqt\n",
      "/kaggle/input/amex-default-prediction-parquet-files/train_file_43.pqt\n",
      "/kaggle/input/amex-default-prediction-parquet-files/test_file_9.pqt\n",
      "/kaggle/input/amex-default-prediction-parquet-files/test_file_78.pqt\n",
      "/kaggle/input/amex-default-prediction/sample_submission.csv\n",
      "/kaggle/input/amex-default-prediction/train_data.csv\n",
      "/kaggle/input/amex-default-prediction/test_data.csv\n",
      "/kaggle/input/amex-default-prediction/train_labels.csv\n"
     ]
    }
   ],
   "source": [
    "# This Python 3 environment comes with many helpful analytics libraries installed\n",
    "# It is defined by the kaggle/python Docker image: https://github.com/kaggle/docker-python\n",
    "# For example, here's several helpful packages to load\n",
    "\n",
    "import numpy as np # linear algebra\n",
    "import pandas as pd # data processing, CSV file I/O (e.g. pd.read_csv)\n",
    "import gc\n",
    "# Input data files are available in the read-only \"../input/\" directory\n",
    "# For example, running this (by clicking run or pressing Shift+Enter) will list all files under the input directory\n",
    "\n",
    "import os\n",
    "for dirname, _, filenames in os.walk('/kaggle/input'):\n",
    "    for filename in filenames:\n",
    "        print(os.path.join(dirname, filename))\n",
    "\n",
    "# You can write up to 20GB to the current directory (/kaggle/working/) that gets preserved as output when you create a version using \"Save & Run All\" \n",
    "# You can also write temporary files to /kaggle/temp/, but they won't be saved outside of the current session"
   ]
  },
  {
   "cell_type": "markdown",
   "id": "45d57879",
   "metadata": {
    "papermill": {
     "duration": 0.009682,
     "end_time": "2022-06-01T08:22:01.739341",
     "exception": false,
     "start_time": "2022-06-01T08:22:01.729659",
     "status": "completed"
    },
    "tags": []
   },
   "source": [
    "## Please refer to [this](https://www.kaggle.com/code/sravanneeli/convert-train-and-test-multiple-parquet-files) notebook for creating train and test parquet files"
   ]
  },
  {
   "cell_type": "code",
   "execution_count": 2,
   "id": "1180ed9f",
   "metadata": {
    "execution": {
     "iopub.execute_input": "2022-06-01T08:22:01.762564Z",
     "iopub.status.busy": "2022-06-01T08:22:01.761731Z",
     "iopub.status.idle": "2022-06-01T08:22:52.156408Z",
     "shell.execute_reply": "2022-06-01T08:22:52.155059Z"
    },
    "papermill": {
     "duration": 50.409297,
     "end_time": "2022-06-01T08:22:52.159228",
     "exception": false,
     "start_time": "2022-06-01T08:22:01.749931",
     "status": "completed"
    },
    "tags": []
   },
   "outputs": [
    {
     "name": "stdout",
     "output_type": "stream",
     "text": [
      "Collecting pyspark\r\n",
      "  Downloading pyspark-3.2.1.tar.gz (281.4 MB)\r\n",
      "\u001b[2K     \u001b[90m━━━━━━━━━━━━━━━━━━━━━━━━━━━━━━━━━━━━━━━\u001b[0m \u001b[32m281.4/281.4 MB\u001b[0m \u001b[31m3.5 MB/s\u001b[0m eta \u001b[36m0:00:00\u001b[0m\r\n",
      "\u001b[?25h  Preparing metadata (setup.py) ... \u001b[?25l-\b \b\\\b \bdone\r\n",
      "\u001b[?25hCollecting py4j==0.10.9.3\r\n",
      "  Downloading py4j-0.10.9.3-py2.py3-none-any.whl (198 kB)\r\n",
      "\u001b[2K     \u001b[90m━━━━━━━━━━━━━━━━━━━━━━━━━━━━━━━━━━━━━━\u001b[0m \u001b[32m199.0/199.0 kB\u001b[0m \u001b[31m13.6 MB/s\u001b[0m eta \u001b[36m0:00:00\u001b[0m\r\n",
      "\u001b[?25hBuilding wheels for collected packages: pyspark\r\n",
      "  Building wheel for pyspark (setup.py) ... \u001b[?25l-\b \b\\\b \b|\b \b/\b \b-\b \b\\\b \b|\b \b/\b \b-\b \b\\\b \b|\b \b/\b \b-\b \b\\\b \b|\b \b/\b \b-\b \b\\\b \b|\b \b/\b \b-\b \b\\\b \b|\b \b/\b \b-\b \b\\\b \b|\b \b/\b \b-\b \b\\\b \b|\b \b/\b \b-\b \b\\\b \b|\b \b/\b \b-\b \b\\\b \b|\b \b/\b \b-\b \b\\\b \b|\b \b/\b \b-\b \b\\\b \b|\b \b/\b \b-\b \b\\\b \b|\b \b/\b \b-\b \b\\\b \b|\b \b/\b \b-\b \b\\\b \b|\b \b/\b \b-\b \b\\\b \b|\b \bdone\r\n",
      "\u001b[?25h  Created wheel for pyspark: filename=pyspark-3.2.1-py2.py3-none-any.whl size=281853642 sha256=ba0edf2990ea619324df733da2e7471d7ef9f289dd6b4f2190afdae8ea2656f4\r\n",
      "  Stored in directory: /root/.cache/pip/wheels/9f/f5/07/7cd8017084dce4e93e84e92efd1e1d5334db05f2e83bcef74f\r\n",
      "Successfully built pyspark\r\n",
      "Installing collected packages: py4j, pyspark\r\n",
      "  Attempting uninstall: py4j\r\n",
      "    Found existing installation: py4j 0.10.9.5\r\n",
      "    Uninstalling py4j-0.10.9.5:\r\n",
      "      Successfully uninstalled py4j-0.10.9.5\r\n",
      "Successfully installed py4j-0.10.9.3 pyspark-3.2.1\r\n",
      "\u001b[33mWARNING: Running pip as the 'root' user can result in broken permissions and conflicting behaviour with the system package manager. It is recommended to use a virtual environment instead: https://pip.pypa.io/warnings/venv\u001b[0m\u001b[33m\r\n",
      "\u001b[0m"
     ]
    }
   ],
   "source": [
    "!pip install pyspark"
   ]
  },
  {
   "cell_type": "code",
   "execution_count": 3,
   "id": "de9f76b4",
   "metadata": {
    "execution": {
     "iopub.execute_input": "2022-06-01T08:22:52.215389Z",
     "iopub.status.busy": "2022-06-01T08:22:52.214913Z",
     "iopub.status.idle": "2022-06-01T08:22:58.859064Z",
     "shell.execute_reply": "2022-06-01T08:22:58.858038Z"
    },
    "papermill": {
     "duration": 6.676041,
     "end_time": "2022-06-01T08:22:58.862442",
     "exception": false,
     "start_time": "2022-06-01T08:22:52.186401",
     "status": "completed"
    },
    "tags": []
   },
   "outputs": [
    {
     "name": "stderr",
     "output_type": "stream",
     "text": [
      "WARNING: An illegal reflective access operation has occurred\n",
      "WARNING: Illegal reflective access by org.apache.spark.unsafe.Platform (file:/opt/conda/lib/python3.7/site-packages/pyspark/jars/spark-unsafe_2.12-3.2.1.jar) to constructor java.nio.DirectByteBuffer(long,int)\n",
      "WARNING: Please consider reporting this to the maintainers of org.apache.spark.unsafe.Platform\n",
      "WARNING: Use --illegal-access=warn to enable warnings of further illegal reflective access operations\n",
      "WARNING: All illegal access operations will be denied in a future release\n",
      "Using Spark's default log4j profile: org/apache/spark/log4j-defaults.properties\n",
      "Setting default log level to \"WARN\".\n",
      "To adjust logging level use sc.setLogLevel(newLevel). For SparkR, use setLogLevel(newLevel).\n",
      "22/06/01 08:22:55 WARN NativeCodeLoader: Unable to load native-hadoop library for your platform... using builtin-java classes where applicable\n"
     ]
    }
   ],
   "source": [
    "from pyspark.sql import SparkSession\n",
    " \n",
    "spark = SparkSession.builder \\\n",
    "    .master('local[*]') \\\n",
    "    .config(\"spark.driver.memory\", \"15g\") \\\n",
    "    .appName('amex-test') \\\n",
    "    .getOrCreate()"
   ]
  },
  {
   "cell_type": "code",
   "execution_count": 4,
   "id": "eaa2b79f",
   "metadata": {
    "execution": {
     "iopub.execute_input": "2022-06-01T08:22:58.923763Z",
     "iopub.status.busy": "2022-06-01T08:22:58.922823Z",
     "iopub.status.idle": "2022-06-01T08:23:04.794766Z",
     "shell.execute_reply": "2022-06-01T08:23:04.793613Z"
    },
    "papermill": {
     "duration": 5.903829,
     "end_time": "2022-06-01T08:23:04.798310",
     "exception": false,
     "start_time": "2022-06-01T08:22:58.894481",
     "status": "completed"
    },
    "tags": []
   },
   "outputs": [
    {
     "name": "stderr",
     "output_type": "stream",
     "text": [
      "                                                                                \r"
     ]
    }
   ],
   "source": [
    "train_df = spark.read.parquet('../input/amex-default-prediction-parquet-files/train*.pqt')"
   ]
  },
  {
   "cell_type": "code",
   "execution_count": 5,
   "id": "f8845c11",
   "metadata": {
    "_kg_hide-output": true,
    "execution": {
     "iopub.execute_input": "2022-06-01T08:23:04.859011Z",
     "iopub.status.busy": "2022-06-01T08:23:04.858484Z",
     "iopub.status.idle": "2022-06-01T08:23:04.893001Z",
     "shell.execute_reply": "2022-06-01T08:23:04.891866Z"
    },
    "papermill": {
     "duration": 0.066939,
     "end_time": "2022-06-01T08:23:04.897310",
     "exception": false,
     "start_time": "2022-06-01T08:23:04.830371",
     "status": "completed"
    },
    "scrolled": true,
    "tags": []
   },
   "outputs": [
    {
     "name": "stdout",
     "output_type": "stream",
     "text": [
      "root\n",
      " |-- customer_ID: binary (nullable = true)\n",
      " |-- S_2: timestamp (nullable = true)\n",
      " |-- P_2: float (nullable = true)\n",
      " |-- D_39: float (nullable = true)\n",
      " |-- B_1: float (nullable = true)\n",
      " |-- B_2: float (nullable = true)\n",
      " |-- R_1: float (nullable = true)\n",
      " |-- S_3: float (nullable = true)\n",
      " |-- D_41: float (nullable = true)\n",
      " |-- B_3: float (nullable = true)\n",
      " |-- D_42: float (nullable = true)\n",
      " |-- D_43: float (nullable = true)\n",
      " |-- D_44: float (nullable = true)\n",
      " |-- B_4: float (nullable = true)\n",
      " |-- D_45: float (nullable = true)\n",
      " |-- B_5: float (nullable = true)\n",
      " |-- R_2: float (nullable = true)\n",
      " |-- D_46: float (nullable = true)\n",
      " |-- D_47: float (nullable = true)\n",
      " |-- D_48: float (nullable = true)\n",
      " |-- D_49: float (nullable = true)\n",
      " |-- B_6: float (nullable = true)\n",
      " |-- B_7: float (nullable = true)\n",
      " |-- B_8: float (nullable = true)\n",
      " |-- D_50: float (nullable = true)\n",
      " |-- D_51: float (nullable = true)\n",
      " |-- B_9: float (nullable = true)\n",
      " |-- R_3: float (nullable = true)\n",
      " |-- D_52: float (nullable = true)\n",
      " |-- P_3: float (nullable = true)\n",
      " |-- B_10: float (nullable = true)\n",
      " |-- D_53: float (nullable = true)\n",
      " |-- S_5: float (nullable = true)\n",
      " |-- B_11: float (nullable = true)\n",
      " |-- S_6: float (nullable = true)\n",
      " |-- D_54: float (nullable = true)\n",
      " |-- R_4: float (nullable = true)\n",
      " |-- S_7: float (nullable = true)\n",
      " |-- B_12: float (nullable = true)\n",
      " |-- S_8: float (nullable = true)\n",
      " |-- D_55: float (nullable = true)\n",
      " |-- D_56: float (nullable = true)\n",
      " |-- B_13: float (nullable = true)\n",
      " |-- R_5: float (nullable = true)\n",
      " |-- D_58: float (nullable = true)\n",
      " |-- S_9: float (nullable = true)\n",
      " |-- B_14: float (nullable = true)\n",
      " |-- D_59: float (nullable = true)\n",
      " |-- D_60: float (nullable = true)\n",
      " |-- D_61: float (nullable = true)\n",
      " |-- B_15: float (nullable = true)\n",
      " |-- S_11: float (nullable = true)\n",
      " |-- D_62: float (nullable = true)\n",
      " |-- D_63: string (nullable = true)\n",
      " |-- D_64: string (nullable = true)\n",
      " |-- D_65: float (nullable = true)\n",
      " |-- B_16: float (nullable = true)\n",
      " |-- B_17: float (nullable = true)\n",
      " |-- B_18: float (nullable = true)\n",
      " |-- B_19: float (nullable = true)\n",
      " |-- D_66: float (nullable = true)\n",
      " |-- B_20: float (nullable = true)\n",
      " |-- D_68: float (nullable = true)\n",
      " |-- S_12: float (nullable = true)\n",
      " |-- R_6: float (nullable = true)\n",
      " |-- S_13: float (nullable = true)\n",
      " |-- B_21: float (nullable = true)\n",
      " |-- D_69: float (nullable = true)\n",
      " |-- B_22: float (nullable = true)\n",
      " |-- D_70: float (nullable = true)\n",
      " |-- D_71: float (nullable = true)\n",
      " |-- D_72: float (nullable = true)\n",
      " |-- S_15: float (nullable = true)\n",
      " |-- B_23: float (nullable = true)\n",
      " |-- D_73: float (nullable = true)\n",
      " |-- P_4: float (nullable = true)\n",
      " |-- D_74: float (nullable = true)\n",
      " |-- D_75: float (nullable = true)\n",
      " |-- D_76: float (nullable = true)\n",
      " |-- B_24: float (nullable = true)\n",
      " |-- R_7: float (nullable = true)\n",
      " |-- D_77: float (nullable = true)\n",
      " |-- B_25: float (nullable = true)\n",
      " |-- B_26: float (nullable = true)\n",
      " |-- D_78: float (nullable = true)\n",
      " |-- D_79: float (nullable = true)\n",
      " |-- R_8: float (nullable = true)\n",
      " |-- R_9: float (nullable = true)\n",
      " |-- S_16: float (nullable = true)\n",
      " |-- D_80: float (nullable = true)\n",
      " |-- R_10: float (nullable = true)\n",
      " |-- R_11: float (nullable = true)\n",
      " |-- B_27: float (nullable = true)\n",
      " |-- D_81: float (nullable = true)\n",
      " |-- D_82: float (nullable = true)\n",
      " |-- S_17: float (nullable = true)\n",
      " |-- R_12: float (nullable = true)\n",
      " |-- B_28: float (nullable = true)\n",
      " |-- R_13: float (nullable = true)\n",
      " |-- D_83: float (nullable = true)\n",
      " |-- R_14: float (nullable = true)\n",
      " |-- R_15: float (nullable = true)\n",
      " |-- D_84: float (nullable = true)\n",
      " |-- R_16: float (nullable = true)\n",
      " |-- B_29: float (nullable = true)\n",
      " |-- B_30: float (nullable = true)\n",
      " |-- S_18: float (nullable = true)\n",
      " |-- D_86: float (nullable = true)\n",
      " |-- D_87: float (nullable = true)\n",
      " |-- R_17: float (nullable = true)\n",
      " |-- R_18: float (nullable = true)\n",
      " |-- D_88: float (nullable = true)\n",
      " |-- B_31: long (nullable = true)\n",
      " |-- S_19: float (nullable = true)\n",
      " |-- R_19: float (nullable = true)\n",
      " |-- B_32: float (nullable = true)\n",
      " |-- S_20: float (nullable = true)\n",
      " |-- R_20: float (nullable = true)\n",
      " |-- R_21: float (nullable = true)\n",
      " |-- B_33: float (nullable = true)\n",
      " |-- D_89: float (nullable = true)\n",
      " |-- R_22: float (nullable = true)\n",
      " |-- R_23: float (nullable = true)\n",
      " |-- D_91: float (nullable = true)\n",
      " |-- D_92: float (nullable = true)\n",
      " |-- D_93: float (nullable = true)\n",
      " |-- D_94: float (nullable = true)\n",
      " |-- R_24: float (nullable = true)\n",
      " |-- R_25: float (nullable = true)\n",
      " |-- D_96: float (nullable = true)\n",
      " |-- S_22: float (nullable = true)\n",
      " |-- S_23: float (nullable = true)\n",
      " |-- S_24: float (nullable = true)\n",
      " |-- S_25: float (nullable = true)\n",
      " |-- S_26: float (nullable = true)\n",
      " |-- D_102: float (nullable = true)\n",
      " |-- D_103: float (nullable = true)\n",
      " |-- D_104: float (nullable = true)\n",
      " |-- D_105: float (nullable = true)\n",
      " |-- D_106: float (nullable = true)\n",
      " |-- D_107: float (nullable = true)\n",
      " |-- B_36: float (nullable = true)\n",
      " |-- B_37: float (nullable = true)\n",
      " |-- R_26: float (nullable = true)\n",
      " |-- R_27: float (nullable = true)\n",
      " |-- B_38: float (nullable = true)\n",
      " |-- D_108: float (nullable = true)\n",
      " |-- D_109: float (nullable = true)\n",
      " |-- D_110: float (nullable = true)\n",
      " |-- D_111: float (nullable = true)\n",
      " |-- B_39: float (nullable = true)\n",
      " |-- D_112: float (nullable = true)\n",
      " |-- B_40: float (nullable = true)\n",
      " |-- S_27: float (nullable = true)\n",
      " |-- D_113: float (nullable = true)\n",
      " |-- D_114: float (nullable = true)\n",
      " |-- D_115: float (nullable = true)\n",
      " |-- D_116: float (nullable = true)\n",
      " |-- D_117: float (nullable = true)\n",
      " |-- D_118: float (nullable = true)\n",
      " |-- D_119: float (nullable = true)\n",
      " |-- D_120: float (nullable = true)\n",
      " |-- D_121: float (nullable = true)\n",
      " |-- D_122: float (nullable = true)\n",
      " |-- D_123: float (nullable = true)\n",
      " |-- D_124: float (nullable = true)\n",
      " |-- D_125: float (nullable = true)\n",
      " |-- D_126: float (nullable = true)\n",
      " |-- D_127: float (nullable = true)\n",
      " |-- D_128: float (nullable = true)\n",
      " |-- D_129: float (nullable = true)\n",
      " |-- B_41: float (nullable = true)\n",
      " |-- B_42: float (nullable = true)\n",
      " |-- D_130: float (nullable = true)\n",
      " |-- D_131: float (nullable = true)\n",
      " |-- D_132: float (nullable = true)\n",
      " |-- D_133: float (nullable = true)\n",
      " |-- R_28: float (nullable = true)\n",
      " |-- D_134: float (nullable = true)\n",
      " |-- D_135: float (nullable = true)\n",
      " |-- D_136: float (nullable = true)\n",
      " |-- D_137: float (nullable = true)\n",
      " |-- D_138: float (nullable = true)\n",
      " |-- D_139: float (nullable = true)\n",
      " |-- D_140: float (nullable = true)\n",
      " |-- D_141: float (nullable = true)\n",
      " |-- D_142: float (nullable = true)\n",
      " |-- D_143: float (nullable = true)\n",
      " |-- D_144: float (nullable = true)\n",
      " |-- D_145: float (nullable = true)\n",
      "\n"
     ]
    }
   ],
   "source": [
    "train_df.printSchema()"
   ]
  },
  {
   "cell_type": "code",
   "execution_count": 6,
   "id": "a437f4c2",
   "metadata": {
    "execution": {
     "iopub.execute_input": "2022-06-01T08:23:04.973568Z",
     "iopub.status.busy": "2022-06-01T08:23:04.973133Z",
     "iopub.status.idle": "2022-06-01T08:23:04.984552Z",
     "shell.execute_reply": "2022-06-01T08:23:04.983471Z"
    },
    "papermill": {
     "duration": 0.045691,
     "end_time": "2022-06-01T08:23:04.986767",
     "exception": false,
     "start_time": "2022-06-01T08:23:04.941076",
     "status": "completed"
    },
    "tags": []
   },
   "outputs": [],
   "source": [
    "from pyspark.sql.types import StringType, StructType\n",
    "import pyspark.sql.functions as func "
   ]
  },
  {
   "cell_type": "code",
   "execution_count": 7,
   "id": "ccd7757d",
   "metadata": {
    "execution": {
     "iopub.execute_input": "2022-06-01T08:23:05.047791Z",
     "iopub.status.busy": "2022-06-01T08:23:05.046987Z",
     "iopub.status.idle": "2022-06-01T08:23:05.271287Z",
     "shell.execute_reply": "2022-06-01T08:23:05.269811Z"
    },
    "papermill": {
     "duration": 0.257999,
     "end_time": "2022-06-01T08:23:05.275093",
     "exception": false,
     "start_time": "2022-06-01T08:23:05.017094",
     "status": "completed"
    },
    "tags": []
   },
   "outputs": [],
   "source": [
    "train_df = train_df.withColumn(\"customer_ID\",train_df[\"customer_ID\"].cast(StringType()))"
   ]
  },
  {
   "cell_type": "code",
   "execution_count": 8,
   "id": "c7669c45",
   "metadata": {
    "execution": {
     "iopub.execute_input": "2022-06-01T08:23:05.345685Z",
     "iopub.status.busy": "2022-06-01T08:23:05.344635Z",
     "iopub.status.idle": "2022-06-01T08:23:08.394175Z",
     "shell.execute_reply": "2022-06-01T08:23:08.393119Z"
    },
    "papermill": {
     "duration": 3.082426,
     "end_time": "2022-06-01T08:23:08.397575",
     "exception": false,
     "start_time": "2022-06-01T08:23:05.315149",
     "status": "completed"
    },
    "tags": []
   },
   "outputs": [
    {
     "name": "stderr",
     "output_type": "stream",
     "text": [
      "[Stage 2:=================================================>       (48 + 4) / 55]\r"
     ]
    },
    {
     "name": "stdout",
     "output_type": "stream",
     "text": [
      "Total number of rows: 5531451 and Tota number of cols: 190\n"
     ]
    },
    {
     "name": "stderr",
     "output_type": "stream",
     "text": [
      "                                                                                \r"
     ]
    }
   ],
   "source": [
    "print(f\"Total number of rows: {train_df.count()} and Tota number of cols: {len(train_df.columns)}\")"
   ]
  },
  {
   "cell_type": "code",
   "execution_count": 9,
   "id": "dc674df6",
   "metadata": {
    "execution": {
     "iopub.execute_input": "2022-06-01T08:23:08.455886Z",
     "iopub.status.busy": "2022-06-01T08:23:08.455078Z",
     "iopub.status.idle": "2022-06-01T08:23:08.460336Z",
     "shell.execute_reply": "2022-06-01T08:23:08.459646Z"
    },
    "papermill": {
     "duration": 0.036911,
     "end_time": "2022-06-01T08:23:08.462352",
     "exception": false,
     "start_time": "2022-06-01T08:23:08.425441",
     "status": "completed"
    },
    "tags": []
   },
   "outputs": [],
   "source": [
    "cat_cols = ['B_30', 'B_38', 'D_114', 'D_116', 'D_117', 'D_120', 'D_126', 'D_63', 'D_64', 'D_66', 'D_68']"
   ]
  },
  {
   "cell_type": "code",
   "execution_count": 10,
   "id": "8873a5fd",
   "metadata": {
    "execution": {
     "iopub.execute_input": "2022-06-01T08:23:08.520879Z",
     "iopub.status.busy": "2022-06-01T08:23:08.520085Z",
     "iopub.status.idle": "2022-06-01T08:23:08.525806Z",
     "shell.execute_reply": "2022-06-01T08:23:08.525030Z"
    },
    "papermill": {
     "duration": 0.037389,
     "end_time": "2022-06-01T08:23:08.527988",
     "exception": false,
     "start_time": "2022-06-01T08:23:08.490599",
     "status": "completed"
    },
    "tags": []
   },
   "outputs": [],
   "source": [
    "num_cols = []\n",
    "for col in train_df.columns[2:]:\n",
    "    if col not in cat_cols:\n",
    "        num_cols.append(col)\n"
   ]
  },
  {
   "cell_type": "markdown",
   "id": "b47574ae",
   "metadata": {
    "papermill": {
     "duration": 0.027992,
     "end_time": "2022-06-01T08:23:08.584409",
     "exception": false,
     "start_time": "2022-06-01T08:23:08.556417",
     "status": "completed"
    },
    "tags": []
   },
   "source": [
    "## Group By for each Individual Customer ID"
   ]
  },
  {
   "cell_type": "markdown",
   "id": "358db693",
   "metadata": {
    "papermill": {
     "duration": 0.027406,
     "end_time": "2022-06-01T08:23:08.639750",
     "exception": false,
     "start_time": "2022-06-01T08:23:08.612344",
     "status": "completed"
    },
    "tags": []
   },
   "source": [
    "## The usage of pyspark\n",
    "* I observed in other notebook they where using feather data which was created by somebody but there was no proper source where that has been created.\n",
    "* So I though and first create parquet files from csv files which I attached above.\n",
    "* Once of we have parquet files we can now load `train` and `test` data using pyspark which will do aggregation with parallel manner with very less concumption RAM.\n",
    "* Order each pyspark dataframe with `customer_ID` and at the end convert them to pandas DataFrame and just concat them horizontally because all are sorted."
   ]
  },
  {
   "cell_type": "code",
   "execution_count": 11,
   "id": "bda01fe1",
   "metadata": {
    "execution": {
     "iopub.execute_input": "2022-06-01T08:23:08.698803Z",
     "iopub.status.busy": "2022-06-01T08:23:08.697986Z",
     "iopub.status.idle": "2022-06-01T08:23:28.836792Z",
     "shell.execute_reply": "2022-06-01T08:23:28.835770Z"
    },
    "papermill": {
     "duration": 20.171257,
     "end_time": "2022-06-01T08:23:28.839351",
     "exception": false,
     "start_time": "2022-06-01T08:23:08.668094",
     "status": "completed"
    },
    "tags": []
   },
   "outputs": [
    {
     "name": "stderr",
     "output_type": "stream",
     "text": [
      "                                                                                \r"
     ]
    },
    {
     "name": "stdout",
     "output_type": "stream",
     "text": [
      "CPU times: user 5.36 s, sys: 353 ms, total: 5.71 s\n",
      "Wall time: 20.1 s\n"
     ]
    }
   ],
   "source": [
    "%%time\n",
    "count_exprs = {col: 'count' for col in cat_cols}\n",
    "cat_count_df = train_df.groupby('customer_ID').agg(count_exprs).orderBy('customer_ID', ascending=True).toPandas()"
   ]
  },
  {
   "cell_type": "code",
   "execution_count": 12,
   "id": "36cd1cd9",
   "metadata": {
    "execution": {
     "iopub.execute_input": "2022-06-01T08:23:28.900993Z",
     "iopub.status.busy": "2022-06-01T08:23:28.900577Z",
     "iopub.status.idle": "2022-06-01T08:23:28.917643Z",
     "shell.execute_reply": "2022-06-01T08:23:28.916414Z"
    },
    "papermill": {
     "duration": 0.050982,
     "end_time": "2022-06-01T08:23:28.920201",
     "exception": false,
     "start_time": "2022-06-01T08:23:28.869219",
     "status": "completed"
    },
    "tags": []
   },
   "outputs": [],
   "source": [
    "for col in cat_count_df.columns[1:]:\n",
    "    cat_count_df[col] = cat_count_df[col].astype('int8')"
   ]
  },
  {
   "cell_type": "code",
   "execution_count": 13,
   "id": "1634fa8d",
   "metadata": {
    "execution": {
     "iopub.execute_input": "2022-06-01T08:23:28.981484Z",
     "iopub.status.busy": "2022-06-01T08:23:28.980629Z",
     "iopub.status.idle": "2022-06-01T08:23:28.989313Z",
     "shell.execute_reply": "2022-06-01T08:23:28.988380Z"
    },
    "papermill": {
     "duration": 0.041412,
     "end_time": "2022-06-01T08:23:28.991511",
     "exception": false,
     "start_time": "2022-06-01T08:23:28.950099",
     "status": "completed"
    },
    "tags": []
   },
   "outputs": [
    {
     "data": {
      "text/plain": [
       "(458913, 12)"
      ]
     },
     "execution_count": 13,
     "metadata": {},
     "output_type": "execute_result"
    }
   ],
   "source": [
    "cat_count_df.shape"
   ]
  },
  {
   "cell_type": "code",
   "execution_count": 14,
   "id": "765c8344",
   "metadata": {
    "execution": {
     "iopub.execute_input": "2022-06-01T08:23:29.053767Z",
     "iopub.status.busy": "2022-06-01T08:23:29.053330Z",
     "iopub.status.idle": "2022-06-01T08:23:29.208973Z",
     "shell.execute_reply": "2022-06-01T08:23:29.207993Z"
    },
    "papermill": {
     "duration": 0.190742,
     "end_time": "2022-06-01T08:23:29.211953",
     "exception": false,
     "start_time": "2022-06-01T08:23:29.021211",
     "status": "completed"
    },
    "tags": []
   },
   "outputs": [
    {
     "data": {
      "text/plain": [
       "79"
      ]
     },
     "execution_count": 14,
     "metadata": {},
     "output_type": "execute_result"
    }
   ],
   "source": [
    "gc.collect()"
   ]
  },
  {
   "cell_type": "code",
   "execution_count": 15,
   "id": "53f09cca",
   "metadata": {
    "execution": {
     "iopub.execute_input": "2022-06-01T08:23:29.273383Z",
     "iopub.status.busy": "2022-06-01T08:23:29.272676Z",
     "iopub.status.idle": "2022-06-01T08:23:46.536681Z",
     "shell.execute_reply": "2022-06-01T08:23:46.535121Z"
    },
    "papermill": {
     "duration": 17.297026,
     "end_time": "2022-06-01T08:23:46.538895",
     "exception": false,
     "start_time": "2022-06-01T08:23:29.241869",
     "status": "completed"
    },
    "tags": []
   },
   "outputs": [
    {
     "name": "stderr",
     "output_type": "stream",
     "text": [
      "                                                                                \r"
     ]
    },
    {
     "name": "stdout",
     "output_type": "stream",
     "text": [
      "CPU times: user 4.4 s, sys: 324 ms, total: 4.73 s\n",
      "Wall time: 17.3 s\n"
     ]
    }
   ],
   "source": [
    "%%time\n",
    "last_exprs = {col: 'last' for col in cat_cols}\n",
    "cat_last_df = train_df.groupby('customer_ID').agg(last_exprs).orderBy('customer_ID', ascending=True).toPandas().drop('customer_ID', axis=1)"
   ]
  },
  {
   "cell_type": "code",
   "execution_count": 16,
   "id": "9defe385",
   "metadata": {
    "execution": {
     "iopub.execute_input": "2022-06-01T08:23:46.601565Z",
     "iopub.status.busy": "2022-06-01T08:23:46.601121Z",
     "iopub.status.idle": "2022-06-01T08:23:46.667074Z",
     "shell.execute_reply": "2022-06-01T08:23:46.665853Z"
    },
    "papermill": {
     "duration": 0.100298,
     "end_time": "2022-06-01T08:23:46.669772",
     "exception": false,
     "start_time": "2022-06-01T08:23:46.569474",
     "status": "completed"
    },
    "tags": []
   },
   "outputs": [],
   "source": [
    "for col in cat_last_df:\n",
    "    if cat_last_df[col].dtype == \"float32\":\n",
    "        cat_last_df[col] = cat_last_df[col].astype('float16')"
   ]
  },
  {
   "cell_type": "code",
   "execution_count": 17,
   "id": "54ae662f",
   "metadata": {
    "execution": {
     "iopub.execute_input": "2022-06-01T08:23:46.734065Z",
     "iopub.status.busy": "2022-06-01T08:23:46.733119Z",
     "iopub.status.idle": "2022-06-01T08:23:46.739753Z",
     "shell.execute_reply": "2022-06-01T08:23:46.739014Z"
    },
    "papermill": {
     "duration": 0.040121,
     "end_time": "2022-06-01T08:23:46.741487",
     "exception": false,
     "start_time": "2022-06-01T08:23:46.701366",
     "status": "completed"
    },
    "tags": []
   },
   "outputs": [
    {
     "data": {
      "text/plain": [
       "(458913, 11)"
      ]
     },
     "execution_count": 17,
     "metadata": {},
     "output_type": "execute_result"
    }
   ],
   "source": [
    "cat_last_df.shape"
   ]
  },
  {
   "cell_type": "code",
   "execution_count": 18,
   "id": "37808b0f",
   "metadata": {
    "execution": {
     "iopub.execute_input": "2022-06-01T08:23:46.804820Z",
     "iopub.status.busy": "2022-06-01T08:23:46.803458Z",
     "iopub.status.idle": "2022-06-01T08:23:46.929367Z",
     "shell.execute_reply": "2022-06-01T08:23:46.928464Z"
    },
    "papermill": {
     "duration": 0.159561,
     "end_time": "2022-06-01T08:23:46.931386",
     "exception": false,
     "start_time": "2022-06-01T08:23:46.771825",
     "status": "completed"
    },
    "tags": []
   },
   "outputs": [
    {
     "data": {
      "text/plain": [
       "72"
      ]
     },
     "execution_count": 18,
     "metadata": {},
     "output_type": "execute_result"
    }
   ],
   "source": [
    "gc.collect()"
   ]
  },
  {
   "cell_type": "code",
   "execution_count": 19,
   "id": "049887de",
   "metadata": {
    "execution": {
     "iopub.execute_input": "2022-06-01T08:23:46.994799Z",
     "iopub.status.busy": "2022-06-01T08:23:46.994107Z",
     "iopub.status.idle": "2022-06-01T08:23:47.000639Z",
     "shell.execute_reply": "2022-06-01T08:23:46.999995Z"
    },
    "papermill": {
     "duration": 0.041089,
     "end_time": "2022-06-01T08:23:47.002727",
     "exception": false,
     "start_time": "2022-06-01T08:23:46.961638",
     "status": "completed"
    },
    "tags": []
   },
   "outputs": [],
   "source": [
    "def grp_unique_count(train_df):\n",
    "    agg_df = []\n",
    "    for col in cat_cols:\n",
    "        agg_df.append(train_df.groupby('customer_ID').agg(func.expr(f'count(distinct {col})').alias(f'nunique({col})')).orderBy('customer_ID', ascending=True).toPandas().drop('customer_ID', axis=1))\n",
    "    final_df = pd.concat(agg_df, axis=1).astype('int8')\n",
    "    gc.collect()\n",
    "    return final_df"
   ]
  },
  {
   "cell_type": "code",
   "execution_count": 20,
   "id": "e44c680d",
   "metadata": {
    "execution": {
     "iopub.execute_input": "2022-06-01T08:23:47.070687Z",
     "iopub.status.busy": "2022-06-01T08:23:47.070022Z",
     "iopub.status.idle": "2022-06-01T08:25:14.680611Z",
     "shell.execute_reply": "2022-06-01T08:25:14.679245Z"
    },
    "papermill": {
     "duration": 87.648513,
     "end_time": "2022-06-01T08:25:14.682744",
     "exception": false,
     "start_time": "2022-06-01T08:23:47.034231",
     "status": "completed"
    },
    "tags": []
   },
   "outputs": [
    {
     "name": "stderr",
     "output_type": "stream",
     "text": [
      "                                                                                \r"
     ]
    },
    {
     "name": "stdout",
     "output_type": "stream",
     "text": [
      "CPU times: user 32.7 s, sys: 319 ms, total: 33 s\n",
      "Wall time: 1min 27s\n"
     ]
    }
   ],
   "source": [
    "%%time\n",
    "cat_nc_df = grp_unique_count(train_df)"
   ]
  },
  {
   "cell_type": "code",
   "execution_count": 21,
   "id": "68d92874",
   "metadata": {
    "execution": {
     "iopub.execute_input": "2022-06-01T08:25:14.755964Z",
     "iopub.status.busy": "2022-06-01T08:25:14.755547Z",
     "iopub.status.idle": "2022-06-01T08:25:14.797511Z",
     "shell.execute_reply": "2022-06-01T08:25:14.796253Z"
    },
    "papermill": {
     "duration": 0.081541,
     "end_time": "2022-06-01T08:25:14.800063",
     "exception": false,
     "start_time": "2022-06-01T08:25:14.718522",
     "status": "completed"
    },
    "tags": []
   },
   "outputs": [],
   "source": [
    "cat_cols_df = pd.concat([cat_count_df, cat_last_df, cat_nc_df], axis=1)"
   ]
  },
  {
   "cell_type": "code",
   "execution_count": 22,
   "id": "ce2b57f6",
   "metadata": {
    "execution": {
     "iopub.execute_input": "2022-06-01T08:25:14.873825Z",
     "iopub.status.busy": "2022-06-01T08:25:14.873355Z",
     "iopub.status.idle": "2022-06-01T08:25:55.778353Z",
     "shell.execute_reply": "2022-06-01T08:25:55.776798Z"
    },
    "papermill": {
     "duration": 40.945366,
     "end_time": "2022-06-01T08:25:55.781367",
     "exception": false,
     "start_time": "2022-06-01T08:25:14.836001",
     "status": "completed"
    },
    "tags": []
   },
   "outputs": [],
   "source": [
    "cat_cols_df.to_pickle('cat_cols_df.pkl', compression='gzip')"
   ]
  },
  {
   "cell_type": "code",
   "execution_count": 23,
   "id": "b9535151",
   "metadata": {
    "execution": {
     "iopub.execute_input": "2022-06-01T08:25:55.859837Z",
     "iopub.status.busy": "2022-06-01T08:25:55.859165Z",
     "iopub.status.idle": "2022-06-01T08:25:55.935281Z",
     "shell.execute_reply": "2022-06-01T08:25:55.934203Z"
    },
    "papermill": {
     "duration": 0.117157,
     "end_time": "2022-06-01T08:25:55.937710",
     "exception": false,
     "start_time": "2022-06-01T08:25:55.820553",
     "status": "completed"
    },
    "tags": []
   },
   "outputs": [],
   "source": [
    "del(cat_count_df)\n",
    "del(cat_last_df)\n",
    "del(cat_nc_df)\n",
    "del(cat_cols_df)"
   ]
  },
  {
   "cell_type": "code",
   "execution_count": 24,
   "id": "97ee00bd",
   "metadata": {
    "execution": {
     "iopub.execute_input": "2022-06-01T08:25:56.015722Z",
     "iopub.status.busy": "2022-06-01T08:25:56.015307Z",
     "iopub.status.idle": "2022-06-01T08:25:56.126032Z",
     "shell.execute_reply": "2022-06-01T08:25:56.124851Z"
    },
    "papermill": {
     "duration": 0.151862,
     "end_time": "2022-06-01T08:25:56.128540",
     "exception": false,
     "start_time": "2022-06-01T08:25:55.976678",
     "status": "completed"
    },
    "tags": []
   },
   "outputs": [
    {
     "data": {
      "text/plain": [
       "84"
      ]
     },
     "execution_count": 24,
     "metadata": {},
     "output_type": "execute_result"
    }
   ],
   "source": [
    "gc.collect()"
   ]
  },
  {
   "cell_type": "code",
   "execution_count": 25,
   "id": "30f4a89b",
   "metadata": {
    "execution": {
     "iopub.execute_input": "2022-06-01T08:25:56.206284Z",
     "iopub.status.busy": "2022-06-01T08:25:56.205823Z",
     "iopub.status.idle": "2022-06-01T08:25:56.214400Z",
     "shell.execute_reply": "2022-06-01T08:25:56.213631Z"
    },
    "papermill": {
     "duration": 0.049563,
     "end_time": "2022-06-01T08:25:56.216235",
     "exception": false,
     "start_time": "2022-06-01T08:25:56.166672",
     "status": "completed"
    },
    "tags": []
   },
   "outputs": [],
   "source": [
    "def grp_num_cols(train_df):\n",
    "    def agg_num(agg_func):\n",
    "        agg_df = []\n",
    "        for i in range(0, len(num_cols), 20):\n",
    "            exprs = {col: agg_func for col in num_cols[i:i+20]}\n",
    "            agg_df.append(train_df.groupBy('customer_ID').agg(exprs).orderBy('customer_ID', ascending=True).toPandas().drop('customer_ID', axis=1))\n",
    "        final_df = pd.concat(agg_df, axis=1).astype('float16')\n",
    "        gc.collect()\n",
    "        return final_df\n",
    "    num_mean_df = agg_num(\"mean\")\n",
    "    num_std_df = agg_num(\"std\")\n",
    "    num_min_df = agg_num(\"min\")\n",
    "    num_max_df = agg_num(\"max\")\n",
    "    final_df = pd.concat([num_mean_df, num_std_df, num_min_df, num_max_df], axis=1)\n",
    "    return final_df"
   ]
  },
  {
   "cell_type": "code",
   "execution_count": 26,
   "id": "44b85583",
   "metadata": {
    "execution": {
     "iopub.execute_input": "2022-06-01T08:25:56.292608Z",
     "iopub.status.busy": "2022-06-01T08:25:56.292202Z",
     "iopub.status.idle": "2022-06-01T08:36:07.465500Z",
     "shell.execute_reply": "2022-06-01T08:36:07.463719Z"
    },
    "papermill": {
     "duration": 611.215221,
     "end_time": "2022-06-01T08:36:07.468933",
     "exception": false,
     "start_time": "2022-06-01T08:25:56.253712",
     "status": "completed"
    },
    "tags": []
   },
   "outputs": [
    {
     "name": "stderr",
     "output_type": "stream",
     "text": [
      "22/06/01 08:25:56 WARN package: Truncated the string representation of a plan since it was too large. This behavior can be adjusted by setting 'spark.sql.debug.maxToStringFields'.\n",
      "                                                                                \r"
     ]
    },
    {
     "name": "stdout",
     "output_type": "stream",
     "text": [
      "CPU times: user 3min 38s, sys: 24.2 s, total: 4min 3s\n",
      "Wall time: 10min 11s\n"
     ]
    }
   ],
   "source": [
    "%%time\n",
    "num_cols_df = grp_num_cols(train_df)"
   ]
  },
  {
   "cell_type": "code",
   "execution_count": 27,
   "id": "3067c941",
   "metadata": {
    "execution": {
     "iopub.execute_input": "2022-06-01T08:36:07.641234Z",
     "iopub.status.busy": "2022-06-01T08:36:07.639174Z",
     "iopub.status.idle": "2022-06-01T08:38:22.406285Z",
     "shell.execute_reply": "2022-06-01T08:38:22.405208Z"
    },
    "papermill": {
     "duration": 134.856095,
     "end_time": "2022-06-01T08:38:22.409810",
     "exception": false,
     "start_time": "2022-06-01T08:36:07.553715",
     "status": "completed"
    },
    "tags": []
   },
   "outputs": [],
   "source": [
    "num_cols_df.to_pickle('num_cols_df.pkl', compression='gzip')"
   ]
  },
  {
   "cell_type": "code",
   "execution_count": 28,
   "id": "3c6a7b93",
   "metadata": {
    "execution": {
     "iopub.execute_input": "2022-06-01T08:38:22.588151Z",
     "iopub.status.busy": "2022-06-01T08:38:22.587727Z",
     "iopub.status.idle": "2022-06-01T08:38:22.624187Z",
     "shell.execute_reply": "2022-06-01T08:38:22.623213Z"
    },
    "papermill": {
     "duration": 0.128922,
     "end_time": "2022-06-01T08:38:22.626160",
     "exception": false,
     "start_time": "2022-06-01T08:38:22.497238",
     "status": "completed"
    },
    "tags": []
   },
   "outputs": [],
   "source": [
    "del(num_cols_df)"
   ]
  },
  {
   "cell_type": "code",
   "execution_count": 29,
   "id": "1581abf5",
   "metadata": {
    "execution": {
     "iopub.execute_input": "2022-06-01T08:38:22.802242Z",
     "iopub.status.busy": "2022-06-01T08:38:22.801763Z",
     "iopub.status.idle": "2022-06-01T08:38:30.309575Z",
     "shell.execute_reply": "2022-06-01T08:38:30.308499Z"
    },
    "papermill": {
     "duration": 7.598529,
     "end_time": "2022-06-01T08:38:30.311998",
     "exception": false,
     "start_time": "2022-06-01T08:38:22.713469",
     "status": "completed"
    },
    "tags": []
   },
   "outputs": [],
   "source": [
    "cat_cols_df = pd.read_pickle('./cat_cols_df.pkl', compression='gzip')\n",
    "num_cols_df = pd.read_pickle('./num_cols_df.pkl', compression='gzip')\n",
    "final_train_df = pd.concat([cat_cols_df, num_cols_df], axis=1)"
   ]
  },
  {
   "cell_type": "code",
   "execution_count": 30,
   "id": "d6cec0b1",
   "metadata": {
    "execution": {
     "iopub.execute_input": "2022-06-01T08:38:30.480323Z",
     "iopub.status.busy": "2022-06-01T08:38:30.479392Z",
     "iopub.status.idle": "2022-06-01T08:38:30.619334Z",
     "shell.execute_reply": "2022-06-01T08:38:30.618444Z"
    },
    "papermill": {
     "duration": 0.226088,
     "end_time": "2022-06-01T08:38:30.621399",
     "exception": false,
     "start_time": "2022-06-01T08:38:30.395311",
     "status": "completed"
    },
    "tags": []
   },
   "outputs": [
    {
     "data": {
      "text/plain": [
       "21"
      ]
     },
     "execution_count": 30,
     "metadata": {},
     "output_type": "execute_result"
    }
   ],
   "source": [
    "del(cat_cols_df)\n",
    "del(num_cols_df)\n",
    "gc.collect()"
   ]
  },
  {
   "cell_type": "code",
   "execution_count": 31,
   "id": "e802ba6d",
   "metadata": {
    "execution": {
     "iopub.execute_input": "2022-06-01T08:38:30.788111Z",
     "iopub.status.busy": "2022-06-01T08:38:30.787420Z",
     "iopub.status.idle": "2022-06-01T08:41:28.231981Z",
     "shell.execute_reply": "2022-06-01T08:41:28.226168Z"
    },
    "papermill": {
     "duration": 177.536102,
     "end_time": "2022-06-01T08:41:28.239765",
     "exception": false,
     "start_time": "2022-06-01T08:38:30.703663",
     "status": "completed"
    },
    "tags": []
   },
   "outputs": [],
   "source": [
    "final_train_df.to_pickle('train_agg.pkl', compression='gzip')"
   ]
  }
 ],
 "metadata": {
  "kernelspec": {
   "display_name": "Python 3",
   "language": "python",
   "name": "python3"
  },
  "language_info": {
   "codemirror_mode": {
    "name": "ipython",
    "version": 3
   },
   "file_extension": ".py",
   "mimetype": "text/x-python",
   "name": "python",
   "nbconvert_exporter": "python",
   "pygments_lexer": "ipython3",
   "version": "3.7.12"
  },
  "papermill": {
   "default_parameters": {},
   "duration": 1179.691933,
   "end_time": "2022-06-01T08:41:30.973821",
   "environment_variables": {},
   "exception": null,
   "input_path": "__notebook__.ipynb",
   "output_path": "__notebook__.ipynb",
   "parameters": {},
   "start_time": "2022-06-01T08:21:51.281888",
   "version": "2.3.4"
  }
 },
 "nbformat": 4,
 "nbformat_minor": 5
}
