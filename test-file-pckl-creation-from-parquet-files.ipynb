{
 "cells": [
  {
   "cell_type": "code",
   "execution_count": 1,
   "id": "4629efd4",
   "metadata": {
    "_cell_guid": "b1076dfc-b9ad-4769-8c92-a6c4dae69d19",
    "_kg_hide-input": true,
    "_uuid": "8f2839f25d086af736a60e9eeb907d3b93b6e0e5",
    "execution": {
     "iopub.execute_input": "2022-06-01T07:07:07.594814Z",
     "iopub.status.busy": "2022-06-01T07:07:07.594390Z",
     "iopub.status.idle": "2022-06-01T07:07:07.658288Z",
     "shell.execute_reply": "2022-06-01T07:07:07.657525Z"
    },
    "papermill": {
     "duration": 0.07929,
     "end_time": "2022-06-01T07:07:07.661805",
     "exception": false,
     "start_time": "2022-06-01T07:07:07.582515",
     "status": "completed"
    },
    "scrolled": true,
    "tags": []
   },
   "outputs": [
    {
     "name": "stdout",
     "output_type": "stream",
     "text": [
      "/kaggle/input/amex-default-prediction-parquet-files/test_file_23.pqt\n",
      "/kaggle/input/amex-default-prediction-parquet-files/test_file_72.pqt\n",
      "/kaggle/input/amex-default-prediction-parquet-files/test_file_61.pqt\n",
      "/kaggle/input/amex-default-prediction-parquet-files/test_file_55.pqt\n",
      "/kaggle/input/amex-default-prediction-parquet-files/test_file_71.pqt\n",
      "/kaggle/input/amex-default-prediction-parquet-files/test_file_53.pqt\n",
      "/kaggle/input/amex-default-prediction-parquet-files/test_file_30.pqt\n",
      "/kaggle/input/amex-default-prediction-parquet-files/test_file_20.pqt\n",
      "/kaggle/input/amex-default-prediction-parquet-files/test_file_80.pqt\n",
      "/kaggle/input/amex-default-prediction-parquet-files/test_file_85.pqt\n",
      "/kaggle/input/amex-default-prediction-parquet-files/test_file_36.pqt\n",
      "/kaggle/input/amex-default-prediction-parquet-files/test_file_50.pqt\n",
      "/kaggle/input/amex-default-prediction-parquet-files/test_file_97.pqt\n",
      "/kaggle/input/amex-default-prediction-parquet-files/train_file_28.pqt\n",
      "/kaggle/input/amex-default-prediction-parquet-files/test_file_16.pqt\n",
      "/kaggle/input/amex-default-prediction-parquet-files/train_file_53.pqt\n",
      "/kaggle/input/amex-default-prediction-parquet-files/test_file_7.pqt\n",
      "/kaggle/input/amex-default-prediction-parquet-files/train_file_21.pqt\n",
      "/kaggle/input/amex-default-prediction-parquet-files/test_file_13.pqt\n",
      "/kaggle/input/amex-default-prediction-parquet-files/test_file_112.pqt\n",
      "/kaggle/input/amex-default-prediction-parquet-files/test_file_73.pqt\n",
      "/kaggle/input/amex-default-prediction-parquet-files/test_file_100.pqt\n",
      "/kaggle/input/amex-default-prediction-parquet-files/train_file_17.pqt\n",
      "/kaggle/input/amex-default-prediction-parquet-files/test_file_38.pqt\n",
      "/kaggle/input/amex-default-prediction-parquet-files/train_file_44.pqt\n",
      "/kaggle/input/amex-default-prediction-parquet-files/train_file_31.pqt\n",
      "/kaggle/input/amex-default-prediction-parquet-files/test_file_22.pqt\n",
      "/kaggle/input/amex-default-prediction-parquet-files/train_file_56.pqt\n",
      "/kaggle/input/amex-default-prediction-parquet-files/test_file_11.pqt\n",
      "/kaggle/input/amex-default-prediction-parquet-files/test_file_47.pqt\n",
      "/kaggle/input/amex-default-prediction-parquet-files/test_file_35.pqt\n",
      "/kaggle/input/amex-default-prediction-parquet-files/test_file_68.pqt\n",
      "/kaggle/input/amex-default-prediction-parquet-files/test_file_95.pqt\n",
      "/kaggle/input/amex-default-prediction-parquet-files/test_file_27.pqt\n",
      "/kaggle/input/amex-default-prediction-parquet-files/test_file_43.pqt\n",
      "/kaggle/input/amex-default-prediction-parquet-files/test_file_14.pqt\n",
      "/kaggle/input/amex-default-prediction-parquet-files/test_file_88.pqt\n",
      "/kaggle/input/amex-default-prediction-parquet-files/test_file_82.pqt\n",
      "/kaggle/input/amex-default-prediction-parquet-files/test_file_81.pqt\n",
      "/kaggle/input/amex-default-prediction-parquet-files/train_file_35.pqt\n",
      "/kaggle/input/amex-default-prediction-parquet-files/train_file_13.pqt\n",
      "/kaggle/input/amex-default-prediction-parquet-files/test_file_10.pqt\n",
      "/kaggle/input/amex-default-prediction-parquet-files/train_file_19.pqt\n",
      "/kaggle/input/amex-default-prediction-parquet-files/train_file_5.pqt\n",
      "/kaggle/input/amex-default-prediction-parquet-files/test_file_40.pqt\n",
      "/kaggle/input/amex-default-prediction-parquet-files/train_file_48.pqt\n",
      "/kaggle/input/amex-default-prediction-parquet-files/test_file_59.pqt\n",
      "/kaggle/input/amex-default-prediction-parquet-files/test_file_106.pqt\n",
      "/kaggle/input/amex-default-prediction-parquet-files/train_file_39.pqt\n",
      "/kaggle/input/amex-default-prediction-parquet-files/train_file_52.pqt\n",
      "/kaggle/input/amex-default-prediction-parquet-files/test_file_86.pqt\n",
      "/kaggle/input/amex-default-prediction-parquet-files/test_file_58.pqt\n",
      "/kaggle/input/amex-default-prediction-parquet-files/test_file_64.pqt\n",
      "/kaggle/input/amex-default-prediction-parquet-files/train_file_27.pqt\n",
      "/kaggle/input/amex-default-prediction-parquet-files/test_file_109.pqt\n",
      "/kaggle/input/amex-default-prediction-parquet-files/test_file_69.pqt\n",
      "/kaggle/input/amex-default-prediction-parquet-files/train_file_22.pqt\n",
      "/kaggle/input/amex-default-prediction-parquet-files/train_file_40.pqt\n",
      "/kaggle/input/amex-default-prediction-parquet-files/test_file_2.pqt\n",
      "/kaggle/input/amex-default-prediction-parquet-files/test_file_90.pqt\n",
      "/kaggle/input/amex-default-prediction-parquet-files/train_file_47.pqt\n",
      "/kaggle/input/amex-default-prediction-parquet-files/test_file_111.pqt\n",
      "/kaggle/input/amex-default-prediction-parquet-files/train_file_33.pqt\n",
      "/kaggle/input/amex-default-prediction-parquet-files/test_file_56.pqt\n",
      "/kaggle/input/amex-default-prediction-parquet-files/test_file_103.pqt\n",
      "/kaggle/input/amex-default-prediction-parquet-files/test_file_113.pqt\n",
      "/kaggle/input/amex-default-prediction-parquet-files/train_file_12.pqt\n",
      "/kaggle/input/amex-default-prediction-parquet-files/test_file_101.pqt\n",
      "/kaggle/input/amex-default-prediction-parquet-files/test_file_12.pqt\n",
      "/kaggle/input/amex-default-prediction-parquet-files/test_file_62.pqt\n",
      "/kaggle/input/amex-default-prediction-parquet-files/train_file_24.pqt\n",
      "/kaggle/input/amex-default-prediction-parquet-files/train_file_1.pqt\n",
      "/kaggle/input/amex-default-prediction-parquet-files/test_file_89.pqt\n",
      "/kaggle/input/amex-default-prediction-parquet-files/test_file_51.pqt\n",
      "/kaggle/input/amex-default-prediction-parquet-files/test_file_70.pqt\n",
      "/kaggle/input/amex-default-prediction-parquet-files/train_file_4.pqt\n",
      "/kaggle/input/amex-default-prediction-parquet-files/test_file_96.pqt\n",
      "/kaggle/input/amex-default-prediction-parquet-files/train_file_16.pqt\n",
      "/kaggle/input/amex-default-prediction-parquet-files/train_file_41.pqt\n",
      "/kaggle/input/amex-default-prediction-parquet-files/test_file_34.pqt\n",
      "/kaggle/input/amex-default-prediction-parquet-files/train_file_30.pqt\n",
      "/kaggle/input/amex-default-prediction-parquet-files/train_file_38.pqt\n",
      "/kaggle/input/amex-default-prediction-parquet-files/test_file_76.pqt\n",
      "/kaggle/input/amex-default-prediction-parquet-files/train_file_9.pqt\n",
      "/kaggle/input/amex-default-prediction-parquet-files/train_file_6.pqt\n",
      "/kaggle/input/amex-default-prediction-parquet-files/train_file_18.pqt\n",
      "/kaggle/input/amex-default-prediction-parquet-files/train_file_49.pqt\n",
      "/kaggle/input/amex-default-prediction-parquet-files/test_file_105.pqt\n",
      "/kaggle/input/amex-default-prediction-parquet-files/train_file_25.pqt\n",
      "/kaggle/input/amex-default-prediction-parquet-files/test_file_32.pqt\n",
      "/kaggle/input/amex-default-prediction-parquet-files/test_file_74.pqt\n",
      "/kaggle/input/amex-default-prediction-parquet-files/test_file_87.pqt\n",
      "/kaggle/input/amex-default-prediction-parquet-files/test_file_66.pqt\n",
      "/kaggle/input/amex-default-prediction-parquet-files/test_file_21.pqt\n",
      "/kaggle/input/amex-default-prediction-parquet-files/test_file_107.pqt\n",
      "/kaggle/input/amex-default-prediction-parquet-files/test_file_54.pqt\n",
      "/kaggle/input/amex-default-prediction-parquet-files/test_file_18.pqt\n",
      "/kaggle/input/amex-default-prediction-parquet-files/test_file_75.pqt\n",
      "/kaggle/input/amex-default-prediction-parquet-files/test_file_25.pqt\n",
      "/kaggle/input/amex-default-prediction-parquet-files/test_file_104.pqt\n",
      "/kaggle/input/amex-default-prediction-parquet-files/test_file_44.pqt\n",
      "/kaggle/input/amex-default-prediction-parquet-files/test_file_29.pqt\n",
      "/kaggle/input/amex-default-prediction-parquet-files/test_file_33.pqt\n",
      "/kaggle/input/amex-default-prediction-parquet-files/train_file_32.pqt\n",
      "/kaggle/input/amex-default-prediction-parquet-files/test_file_91.pqt\n",
      "/kaggle/input/amex-default-prediction-parquet-files/train_file_23.pqt\n",
      "/kaggle/input/amex-default-prediction-parquet-files/test_file_4.pqt\n",
      "/kaggle/input/amex-default-prediction-parquet-files/test_file_57.pqt\n",
      "/kaggle/input/amex-default-prediction-parquet-files/test_file_110.pqt\n",
      "/kaggle/input/amex-default-prediction-parquet-files/train_file_10.pqt\n",
      "/kaggle/input/amex-default-prediction-parquet-files/train_file_29.pqt\n",
      "/kaggle/input/amex-default-prediction-parquet-files/test_file_102.pqt\n",
      "/kaggle/input/amex-default-prediction-parquet-files/train_file_20.pqt\n",
      "/kaggle/input/amex-default-prediction-parquet-files/train_file_42.pqt\n",
      "/kaggle/input/amex-default-prediction-parquet-files/test_file_98.pqt\n",
      "/kaggle/input/amex-default-prediction-parquet-files/test_file_39.pqt\n",
      "/kaggle/input/amex-default-prediction-parquet-files/train_file_7.pqt\n",
      "/kaggle/input/amex-default-prediction-parquet-files/train_file_46.pqt\n",
      "/kaggle/input/amex-default-prediction-parquet-files/test_file_28.pqt\n",
      "/kaggle/input/amex-default-prediction-parquet-files/test_file_45.pqt\n",
      "/kaggle/input/amex-default-prediction-parquet-files/test_file_17.pqt\n",
      "/kaggle/input/amex-default-prediction-parquet-files/test_file_8.pqt\n",
      "/kaggle/input/amex-default-prediction-parquet-files/test_file_42.pqt\n",
      "/kaggle/input/amex-default-prediction-parquet-files/test_file_79.pqt\n",
      "/kaggle/input/amex-default-prediction-parquet-files/train_file_51.pqt\n",
      "/kaggle/input/amex-default-prediction-parquet-files/test_file_65.pqt\n",
      "/kaggle/input/amex-default-prediction-parquet-files/train_file_36.pqt\n",
      "/kaggle/input/amex-default-prediction-parquet-files/test_file_67.pqt\n",
      "/kaggle/input/amex-default-prediction-parquet-files/train_file_26.pqt\n",
      "/kaggle/input/amex-default-prediction-parquet-files/test_file_99.pqt\n",
      "/kaggle/input/amex-default-prediction-parquet-files/train_file_15.pqt\n",
      "/kaggle/input/amex-default-prediction-parquet-files/test_file_37.pqt\n",
      "/kaggle/input/amex-default-prediction-parquet-files/test_file_84.pqt\n",
      "/kaggle/input/amex-default-prediction-parquet-files/test_file_63.pqt\n",
      "/kaggle/input/amex-default-prediction-parquet-files/test_file_114.pqt\n",
      "/kaggle/input/amex-default-prediction-parquet-files/test_file_24.pqt\n",
      "/kaggle/input/amex-default-prediction-parquet-files/test_file_6.pqt\n",
      "/kaggle/input/amex-default-prediction-parquet-files/test_file_19.pqt\n",
      "/kaggle/input/amex-default-prediction-parquet-files/test_file_1.pqt\n",
      "/kaggle/input/amex-default-prediction-parquet-files/test_file_60.pqt\n",
      "/kaggle/input/amex-default-prediction-parquet-files/test_file_31.pqt\n",
      "/kaggle/input/amex-default-prediction-parquet-files/test_file_52.pqt\n",
      "/kaggle/input/amex-default-prediction-parquet-files/test_file_108.pqt\n",
      "/kaggle/input/amex-default-prediction-parquet-files/train_file_37.pqt\n",
      "/kaggle/input/amex-default-prediction-parquet-files/train_file_54.pqt\n",
      "/kaggle/input/amex-default-prediction-parquet-files/test_file_92.pqt\n",
      "/kaggle/input/amex-default-prediction-parquet-files/test_file_49.pqt\n",
      "/kaggle/input/amex-default-prediction-parquet-files/train_file_50.pqt\n",
      "/kaggle/input/amex-default-prediction-parquet-files/train_file_8.pqt\n",
      "/kaggle/input/amex-default-prediction-parquet-files/test_file_5.pqt\n",
      "/kaggle/input/amex-default-prediction-parquet-files/test_file_94.pqt\n",
      "/kaggle/input/amex-default-prediction-parquet-files/test_file_46.pqt\n",
      "/kaggle/input/amex-default-prediction-parquet-files/train_file_14.pqt\n",
      "/kaggle/input/amex-default-prediction-parquet-files/train_file_3.pqt\n",
      "/kaggle/input/amex-default-prediction-parquet-files/train_file_55.pqt\n",
      "/kaggle/input/amex-default-prediction-parquet-files/train_file_2.pqt\n",
      "/kaggle/input/amex-default-prediction-parquet-files/train_file_45.pqt\n",
      "/kaggle/input/amex-default-prediction-parquet-files/test_file_3.pqt\n",
      "/kaggle/input/amex-default-prediction-parquet-files/test_file_26.pqt\n",
      "/kaggle/input/amex-default-prediction-parquet-files/test_file_15.pqt\n",
      "/kaggle/input/amex-default-prediction-parquet-files/test_file_48.pqt\n",
      "/kaggle/input/amex-default-prediction-parquet-files/test_file_77.pqt\n",
      "/kaggle/input/amex-default-prediction-parquet-files/test_file_41.pqt\n",
      "/kaggle/input/amex-default-prediction-parquet-files/train_file_34.pqt\n",
      "/kaggle/input/amex-default-prediction-parquet-files/train_file_11.pqt\n",
      "/kaggle/input/amex-default-prediction-parquet-files/test_file_83.pqt\n",
      "/kaggle/input/amex-default-prediction-parquet-files/test_file_93.pqt\n",
      "/kaggle/input/amex-default-prediction-parquet-files/train_file_43.pqt\n",
      "/kaggle/input/amex-default-prediction-parquet-files/test_file_9.pqt\n",
      "/kaggle/input/amex-default-prediction-parquet-files/test_file_78.pqt\n",
      "/kaggle/input/amex-default-prediction/sample_submission.csv\n",
      "/kaggle/input/amex-default-prediction/train_data.csv\n",
      "/kaggle/input/amex-default-prediction/test_data.csv\n",
      "/kaggle/input/amex-default-prediction/train_labels.csv\n"
     ]
    }
   ],
   "source": [
    "# This Python 3 environment comes with many helpful analytics libraries installed\n",
    "# It is defined by the kaggle/python Docker image: https://github.com/kaggle/docker-python\n",
    "# For example, here's several helpful packages to load\n",
    "\n",
    "import numpy as np # linear algebra\n",
    "import pandas as pd # data processing, CSV file I/O (e.g. pd.read_csv)\n",
    "import gc\n",
    "# Input data files are available in the read-only \"../input/\" directory\n",
    "# For example, running this (by clicking run or pressing Shift+Enter) will list all files under the input directory\n",
    "\n",
    "import os\n",
    "for dirname, _, filenames in os.walk('/kaggle/input'):\n",
    "    for filename in filenames:\n",
    "        print(os.path.join(dirname, filename))\n",
    "\n",
    "# You can write up to 20GB to the current directory (/kaggle/working/) that gets preserved as output when you create a version using \"Save & Run All\" \n",
    "# You can also write temporary files to /kaggle/temp/, but they won't be saved outside of the current session"
   ]
  },
  {
   "cell_type": "code",
   "execution_count": 2,
   "id": "aa2c7940",
   "metadata": {
    "execution": {
     "iopub.execute_input": "2022-06-01T07:07:07.684298Z",
     "iopub.status.busy": "2022-06-01T07:07:07.683648Z",
     "iopub.status.idle": "2022-06-01T07:07:57.485119Z",
     "shell.execute_reply": "2022-06-01T07:07:57.483584Z"
    },
    "papermill": {
     "duration": 49.814629,
     "end_time": "2022-06-01T07:07:57.487952",
     "exception": false,
     "start_time": "2022-06-01T07:07:07.673323",
     "status": "completed"
    },
    "tags": []
   },
   "outputs": [
    {
     "name": "stdout",
     "output_type": "stream",
     "text": [
      "Collecting pyspark\r\n",
      "  Downloading pyspark-3.2.1.tar.gz (281.4 MB)\r\n",
      "\u001b[2K     \u001b[90m━━━━━━━━━━━━━━━━━━━━━━━━━━━━━━━━━━━━━━━\u001b[0m \u001b[32m281.4/281.4 MB\u001b[0m \u001b[31m4.2 MB/s\u001b[0m eta \u001b[36m0:00:00\u001b[0m\r\n",
      "\u001b[?25h  Preparing metadata (setup.py) ... \u001b[?25l-\b \b\\\b \bdone\r\n",
      "\u001b[?25hCollecting py4j==0.10.9.3\r\n",
      "  Downloading py4j-0.10.9.3-py2.py3-none-any.whl (198 kB)\r\n",
      "\u001b[2K     \u001b[90m━━━━━━━━━━━━━━━━━━━━━━━━━━━━━━━━━━━━━━\u001b[0m \u001b[32m199.0/199.0 kB\u001b[0m \u001b[31m13.9 MB/s\u001b[0m eta \u001b[36m0:00:00\u001b[0m\r\n",
      "\u001b[?25hBuilding wheels for collected packages: pyspark\r\n",
      "  Building wheel for pyspark (setup.py) ... \u001b[?25l-\b \b\\\b \b|\b \b/\b \b-\b \b\\\b \b|\b \b/\b \b-\b \b\\\b \b|\b \b/\b \b-\b \b\\\b \b|\b \b/\b \b-\b \b\\\b \b|\b \b/\b \b-\b \b\\\b \b|\b \b/\b \b-\b \b\\\b \b|\b \b/\b \b-\b \b\\\b \b|\b \b/\b \b-\b \b\\\b \b|\b \b/\b \b-\b \b\\\b \b|\b \b/\b \b-\b \b\\\b \b|\b \b/\b \b-\b \b\\\b \b|\b \b/\b \b-\b \b\\\b \b|\b \b/\b \b-\b \b\\\b \b|\b \b/\b \b-\b \b\\\b \b|\b \b/\b \b-\b \b\\\b \b|\b \bdone\r\n",
      "\u001b[?25h  Created wheel for pyspark: filename=pyspark-3.2.1-py2.py3-none-any.whl size=281853642 sha256=41c2380a8526743179177a68ed145a5e869ec0fde198de5c0a1e8a6f7f5c6363\r\n",
      "  Stored in directory: /root/.cache/pip/wheels/9f/f5/07/7cd8017084dce4e93e84e92efd1e1d5334db05f2e83bcef74f\r\n",
      "Successfully built pyspark\r\n",
      "Installing collected packages: py4j, pyspark\r\n",
      "  Attempting uninstall: py4j\r\n",
      "    Found existing installation: py4j 0.10.9.5\r\n",
      "    Uninstalling py4j-0.10.9.5:\r\n",
      "      Successfully uninstalled py4j-0.10.9.5\r\n",
      "Successfully installed py4j-0.10.9.3 pyspark-3.2.1\r\n",
      "\u001b[33mWARNING: Running pip as the 'root' user can result in broken permissions and conflicting behaviour with the system package manager. It is recommended to use a virtual environment instead: https://pip.pypa.io/warnings/venv\u001b[0m\u001b[33m\r\n",
      "\u001b[0m"
     ]
    }
   ],
   "source": [
    "!pip install pyspark"
   ]
  },
  {
   "cell_type": "code",
   "execution_count": 3,
   "id": "f8cc8958",
   "metadata": {
    "_kg_hide-output": true,
    "execution": {
     "iopub.execute_input": "2022-06-01T07:07:57.541924Z",
     "iopub.status.busy": "2022-06-01T07:07:57.541477Z",
     "iopub.status.idle": "2022-06-01T07:08:04.037096Z",
     "shell.execute_reply": "2022-06-01T07:08:04.036215Z"
    },
    "papermill": {
     "duration": 6.52495,
     "end_time": "2022-06-01T07:08:04.039893",
     "exception": false,
     "start_time": "2022-06-01T07:07:57.514943",
     "status": "completed"
    },
    "tags": []
   },
   "outputs": [
    {
     "name": "stderr",
     "output_type": "stream",
     "text": [
      "WARNING: An illegal reflective access operation has occurred\n",
      "WARNING: Illegal reflective access by org.apache.spark.unsafe.Platform (file:/opt/conda/lib/python3.7/site-packages/pyspark/jars/spark-unsafe_2.12-3.2.1.jar) to constructor java.nio.DirectByteBuffer(long,int)\n",
      "WARNING: Please consider reporting this to the maintainers of org.apache.spark.unsafe.Platform\n",
      "WARNING: Use --illegal-access=warn to enable warnings of further illegal reflective access operations\n",
      "WARNING: All illegal access operations will be denied in a future release\n",
      "Using Spark's default log4j profile: org/apache/spark/log4j-defaults.properties\n",
      "Setting default log level to \"WARN\".\n",
      "To adjust logging level use sc.setLogLevel(newLevel). For SparkR, use setLogLevel(newLevel).\n",
      "22/06/01 07:08:00 WARN NativeCodeLoader: Unable to load native-hadoop library for your platform... using builtin-java classes where applicable\n"
     ]
    }
   ],
   "source": [
    "from pyspark.sql import SparkSession\n",
    " \n",
    "spark = SparkSession.builder \\\n",
    "    .master('local[*]') \\\n",
    "    .config(\"spark.driver.memory\", \"15g\") \\\n",
    "    .appName('amex-test') \\\n",
    "    .getOrCreate()"
   ]
  },
  {
   "cell_type": "code",
   "execution_count": 4,
   "id": "b1dcbd05",
   "metadata": {
    "execution": {
     "iopub.execute_input": "2022-06-01T07:08:04.092127Z",
     "iopub.status.busy": "2022-06-01T07:08:04.091043Z",
     "iopub.status.idle": "2022-06-01T07:08:10.372758Z",
     "shell.execute_reply": "2022-06-01T07:08:10.372017Z"
    },
    "papermill": {
     "duration": 6.310403,
     "end_time": "2022-06-01T07:08:10.375346",
     "exception": false,
     "start_time": "2022-06-01T07:08:04.064943",
     "status": "completed"
    },
    "tags": []
   },
   "outputs": [
    {
     "name": "stderr",
     "output_type": "stream",
     "text": [
      "                                                                                \r"
     ]
    }
   ],
   "source": [
    "test_df = spark.read.parquet('../input/amex-default-prediction-parquet-files/test*.pqt')"
   ]
  },
  {
   "cell_type": "code",
   "execution_count": 5,
   "id": "4686f990",
   "metadata": {
    "execution": {
     "iopub.execute_input": "2022-06-01T07:08:10.426891Z",
     "iopub.status.busy": "2022-06-01T07:08:10.426486Z",
     "iopub.status.idle": "2022-06-01T07:08:14.194332Z",
     "shell.execute_reply": "2022-06-01T07:08:14.193582Z"
    },
    "papermill": {
     "duration": 3.800522,
     "end_time": "2022-06-01T07:08:14.200993",
     "exception": false,
     "start_time": "2022-06-01T07:08:10.400471",
     "status": "completed"
    },
    "tags": []
   },
   "outputs": [
    {
     "name": "stderr",
     "output_type": "stream",
     "text": [
      "[Stage 2:================================================>      (100 + 4) / 114]\r"
     ]
    },
    {
     "name": "stdout",
     "output_type": "stream",
     "text": [
      "Total Number of rows: 11363762, Total Number of columns: 190\n"
     ]
    },
    {
     "name": "stderr",
     "output_type": "stream",
     "text": [
      "                                                                                \r"
     ]
    }
   ],
   "source": [
    "print(f\"Total Number of rows: {test_df.count()}, Total Number of columns: {len(test_df.columns)}\")"
   ]
  },
  {
   "cell_type": "code",
   "execution_count": 6,
   "id": "e1576f8f",
   "metadata": {
    "execution": {
     "iopub.execute_input": "2022-06-01T07:08:14.283875Z",
     "iopub.status.busy": "2022-06-01T07:08:14.282973Z",
     "iopub.status.idle": "2022-06-01T07:08:14.293952Z",
     "shell.execute_reply": "2022-06-01T07:08:14.292897Z"
    },
    "papermill": {
     "duration": 0.057048,
     "end_time": "2022-06-01T07:08:14.298330",
     "exception": false,
     "start_time": "2022-06-01T07:08:14.241282",
     "status": "completed"
    },
    "tags": []
   },
   "outputs": [],
   "source": [
    "from pyspark.sql.types import StringType, StructType\n",
    "import pyspark.sql.functions as func "
   ]
  },
  {
   "cell_type": "code",
   "execution_count": 7,
   "id": "341113c5",
   "metadata": {
    "execution": {
     "iopub.execute_input": "2022-06-01T07:08:14.373715Z",
     "iopub.status.busy": "2022-06-01T07:08:14.373336Z",
     "iopub.status.idle": "2022-06-01T07:08:14.511486Z",
     "shell.execute_reply": "2022-06-01T07:08:14.510415Z"
    },
    "papermill": {
     "duration": 0.174732,
     "end_time": "2022-06-01T07:08:14.514771",
     "exception": false,
     "start_time": "2022-06-01T07:08:14.340039",
     "status": "completed"
    },
    "tags": []
   },
   "outputs": [],
   "source": [
    "test_df = test_df.withColumn(\"customer_ID\",test_df[\"customer_ID\"].cast(StringType()))"
   ]
  },
  {
   "cell_type": "code",
   "execution_count": 8,
   "id": "a5267175",
   "metadata": {
    "execution": {
     "iopub.execute_input": "2022-06-01T07:08:14.581297Z",
     "iopub.status.busy": "2022-06-01T07:08:14.580911Z",
     "iopub.status.idle": "2022-06-01T07:08:14.585436Z",
     "shell.execute_reply": "2022-06-01T07:08:14.584566Z"
    },
    "papermill": {
     "duration": 0.032928,
     "end_time": "2022-06-01T07:08:14.587416",
     "exception": false,
     "start_time": "2022-06-01T07:08:14.554488",
     "status": "completed"
    },
    "tags": []
   },
   "outputs": [],
   "source": [
    "cat_cols = ['B_30', 'B_38', 'D_114', 'D_116', 'D_117', 'D_120', 'D_126', 'D_63', 'D_64', 'D_66', 'D_68']"
   ]
  },
  {
   "cell_type": "code",
   "execution_count": 9,
   "id": "88bab2f3",
   "metadata": {
    "execution": {
     "iopub.execute_input": "2022-06-01T07:08:14.641267Z",
     "iopub.status.busy": "2022-06-01T07:08:14.640608Z",
     "iopub.status.idle": "2022-06-01T07:08:14.692130Z",
     "shell.execute_reply": "2022-06-01T07:08:14.691417Z"
    },
    "papermill": {
     "duration": 0.081463,
     "end_time": "2022-06-01T07:08:14.694327",
     "exception": false,
     "start_time": "2022-06-01T07:08:14.612864",
     "status": "completed"
    },
    "tags": []
   },
   "outputs": [],
   "source": [
    "num_cols = []\n",
    "for col in test_df.columns[2:]: # exclude the customer id and date columns\n",
    "    if col not in cat_cols:\n",
    "        num_cols.append(col)"
   ]
  },
  {
   "cell_type": "code",
   "execution_count": 10,
   "id": "46999c1e",
   "metadata": {
    "execution": {
     "iopub.execute_input": "2022-06-01T07:08:14.746737Z",
     "iopub.status.busy": "2022-06-01T07:08:14.746069Z",
     "iopub.status.idle": "2022-06-01T07:08:45.008056Z",
     "shell.execute_reply": "2022-06-01T07:08:45.006954Z"
    },
    "papermill": {
     "duration": 30.31815,
     "end_time": "2022-06-01T07:08:45.037827",
     "exception": false,
     "start_time": "2022-06-01T07:08:14.719677",
     "status": "completed"
    },
    "tags": []
   },
   "outputs": [
    {
     "name": "stderr",
     "output_type": "stream",
     "text": [
      "                                                                                \r"
     ]
    },
    {
     "name": "stdout",
     "output_type": "stream",
     "text": [
      "CPU times: user 10 s, sys: 1.14 s, total: 11.1 s\n",
      "Wall time: 30.3 s\n"
     ]
    }
   ],
   "source": [
    "%%time\n",
    "count_exprs = {col: 'count' for col in cat_cols}\n",
    "cat_count_df = test_df.groupby('customer_ID').agg(count_exprs).orderBy('customer_ID', ascending=True).toPandas()"
   ]
  },
  {
   "cell_type": "code",
   "execution_count": 11,
   "id": "bca678c2",
   "metadata": {
    "execution": {
     "iopub.execute_input": "2022-06-01T07:08:45.096380Z",
     "iopub.status.busy": "2022-06-01T07:08:45.095515Z",
     "iopub.status.idle": "2022-06-01T07:08:45.118882Z",
     "shell.execute_reply": "2022-06-01T07:08:45.118101Z"
    },
    "papermill": {
     "duration": 0.05471,
     "end_time": "2022-06-01T07:08:45.121179",
     "exception": false,
     "start_time": "2022-06-01T07:08:45.066469",
     "status": "completed"
    },
    "tags": []
   },
   "outputs": [],
   "source": [
    "for col in cat_count_df.columns[1:]:\n",
    "    cat_count_df[col] = cat_count_df[col].astype('int8')"
   ]
  },
  {
   "cell_type": "code",
   "execution_count": 12,
   "id": "cdf7f83d",
   "metadata": {
    "execution": {
     "iopub.execute_input": "2022-06-01T07:08:45.189221Z",
     "iopub.status.busy": "2022-06-01T07:08:45.187939Z",
     "iopub.status.idle": "2022-06-01T07:08:45.311706Z",
     "shell.execute_reply": "2022-06-01T07:08:45.310772Z"
    },
    "papermill": {
     "duration": 0.161277,
     "end_time": "2022-06-01T07:08:45.314050",
     "exception": false,
     "start_time": "2022-06-01T07:08:45.152773",
     "status": "completed"
    },
    "tags": []
   },
   "outputs": [
    {
     "data": {
      "text/plain": [
       "58"
      ]
     },
     "execution_count": 12,
     "metadata": {},
     "output_type": "execute_result"
    }
   ],
   "source": [
    "gc.collect()"
   ]
  },
  {
   "cell_type": "code",
   "execution_count": 13,
   "id": "f195452e",
   "metadata": {
    "execution": {
     "iopub.execute_input": "2022-06-01T07:08:45.373471Z",
     "iopub.status.busy": "2022-06-01T07:08:45.373095Z",
     "iopub.status.idle": "2022-06-01T07:09:13.171903Z",
     "shell.execute_reply": "2022-06-01T07:09:13.170365Z"
    },
    "papermill": {
     "duration": 27.832721,
     "end_time": "2022-06-01T07:09:13.174188",
     "exception": false,
     "start_time": "2022-06-01T07:08:45.341467",
     "status": "completed"
    },
    "tags": []
   },
   "outputs": [
    {
     "name": "stderr",
     "output_type": "stream",
     "text": [
      "                                                                                \r"
     ]
    },
    {
     "name": "stdout",
     "output_type": "stream",
     "text": [
      "CPU times: user 8.15 s, sys: 1.07 s, total: 9.22 s\n",
      "Wall time: 27.8 s\n"
     ]
    }
   ],
   "source": [
    "%%time\n",
    "last_exprs = {col: 'last' for col in cat_cols}\n",
    "cat_last_df = test_df.groupby('customer_ID').agg(last_exprs).orderBy('customer_ID', ascending=True).toPandas().drop('customer_ID', axis=1)"
   ]
  },
  {
   "cell_type": "code",
   "execution_count": 14,
   "id": "214a40ec",
   "metadata": {
    "execution": {
     "iopub.execute_input": "2022-06-01T07:09:13.236470Z",
     "iopub.status.busy": "2022-06-01T07:09:13.236085Z",
     "iopub.status.idle": "2022-06-01T07:09:13.337229Z",
     "shell.execute_reply": "2022-06-01T07:09:13.336356Z"
    },
    "papermill": {
     "duration": 0.135053,
     "end_time": "2022-06-01T07:09:13.339669",
     "exception": false,
     "start_time": "2022-06-01T07:09:13.204616",
     "status": "completed"
    },
    "tags": []
   },
   "outputs": [],
   "source": [
    "for col in cat_last_df:\n",
    "    if cat_last_df[col].dtype == \"float32\":\n",
    "        cat_last_df[col] = cat_last_df[col].astype('float16')"
   ]
  },
  {
   "cell_type": "code",
   "execution_count": 15,
   "id": "370d851b",
   "metadata": {
    "execution": {
     "iopub.execute_input": "2022-06-01T07:09:13.402684Z",
     "iopub.status.busy": "2022-06-01T07:09:13.401792Z",
     "iopub.status.idle": "2022-06-01T07:09:13.507214Z",
     "shell.execute_reply": "2022-06-01T07:09:13.506186Z"
    },
    "papermill": {
     "duration": 0.138743,
     "end_time": "2022-06-01T07:09:13.509314",
     "exception": false,
     "start_time": "2022-06-01T07:09:13.370571",
     "status": "completed"
    },
    "tags": []
   },
   "outputs": [
    {
     "data": {
      "text/plain": [
       "51"
      ]
     },
     "execution_count": 15,
     "metadata": {},
     "output_type": "execute_result"
    }
   ],
   "source": [
    "gc.collect()"
   ]
  },
  {
   "cell_type": "code",
   "execution_count": 16,
   "id": "d5b50494",
   "metadata": {
    "execution": {
     "iopub.execute_input": "2022-06-01T07:09:13.571369Z",
     "iopub.status.busy": "2022-06-01T07:09:13.570954Z",
     "iopub.status.idle": "2022-06-01T07:09:13.577341Z",
     "shell.execute_reply": "2022-06-01T07:09:13.576225Z"
    },
    "papermill": {
     "duration": 0.040027,
     "end_time": "2022-06-01T07:09:13.579421",
     "exception": false,
     "start_time": "2022-06-01T07:09:13.539394",
     "status": "completed"
    },
    "tags": []
   },
   "outputs": [],
   "source": [
    "def grp_unique_count(test_df):\n",
    "    agg_df = []\n",
    "    for col in cat_cols:\n",
    "        agg_df.append(test_df.groupby('customer_ID').agg(func.expr(f'count(distinct {col})').alias(f'nunique({col})')).orderBy('customer_ID', ascending=True).toPandas().drop('customer_ID', axis=1))\n",
    "    final_df = pd.concat(agg_df, axis=1).astype('int8')\n",
    "    gc.collect()\n",
    "    return final_df"
   ]
  },
  {
   "cell_type": "code",
   "execution_count": 17,
   "id": "9a1e7fc6",
   "metadata": {
    "execution": {
     "iopub.execute_input": "2022-06-01T07:09:13.641422Z",
     "iopub.status.busy": "2022-06-01T07:09:13.641008Z",
     "iopub.status.idle": "2022-06-01T07:11:45.848207Z",
     "shell.execute_reply": "2022-06-01T07:11:45.847203Z"
    },
    "papermill": {
     "duration": 152.240742,
     "end_time": "2022-06-01T07:11:45.850461",
     "exception": false,
     "start_time": "2022-06-01T07:09:13.609719",
     "status": "completed"
    },
    "tags": []
   },
   "outputs": [
    {
     "name": "stderr",
     "output_type": "stream",
     "text": [
      "                                                                                \r"
     ]
    },
    {
     "name": "stdout",
     "output_type": "stream",
     "text": [
      "CPU times: user 57.8 s, sys: 616 ms, total: 58.4 s\n",
      "Wall time: 2min 32s\n"
     ]
    }
   ],
   "source": [
    "%%time\n",
    "cat_nc_df = grp_unique_count(test_df)"
   ]
  },
  {
   "cell_type": "code",
   "execution_count": 18,
   "id": "6985e9bd",
   "metadata": {
    "execution": {
     "iopub.execute_input": "2022-06-01T07:11:45.938705Z",
     "iopub.status.busy": "2022-06-01T07:11:45.938292Z",
     "iopub.status.idle": "2022-06-01T07:11:46.032123Z",
     "shell.execute_reply": "2022-06-01T07:11:46.030645Z"
    },
    "papermill": {
     "duration": 0.141026,
     "end_time": "2022-06-01T07:11:46.034870",
     "exception": false,
     "start_time": "2022-06-01T07:11:45.893844",
     "status": "completed"
    },
    "tags": []
   },
   "outputs": [],
   "source": [
    "cat_cols_df = pd.concat([cat_count_df, cat_last_df, cat_nc_df], axis=1)"
   ]
  },
  {
   "cell_type": "code",
   "execution_count": 19,
   "id": "a8604c6e",
   "metadata": {
    "execution": {
     "iopub.execute_input": "2022-06-01T07:11:46.124648Z",
     "iopub.status.busy": "2022-06-01T07:11:46.124249Z",
     "iopub.status.idle": "2022-06-01T07:13:06.500291Z",
     "shell.execute_reply": "2022-06-01T07:13:06.499260Z"
    },
    "papermill": {
     "duration": 80.425728,
     "end_time": "2022-06-01T07:13:06.503910",
     "exception": false,
     "start_time": "2022-06-01T07:11:46.078182",
     "status": "completed"
    },
    "tags": []
   },
   "outputs": [],
   "source": [
    "cat_cols_df.to_pickle('cat_cols_df.pkl', compression='gzip')"
   ]
  },
  {
   "cell_type": "code",
   "execution_count": 20,
   "id": "f3ad4927",
   "metadata": {
    "execution": {
     "iopub.execute_input": "2022-06-01T07:13:06.592800Z",
     "iopub.status.busy": "2022-06-01T07:13:06.592101Z",
     "iopub.status.idle": "2022-06-01T07:13:06.751734Z",
     "shell.execute_reply": "2022-06-01T07:13:06.750671Z"
    },
    "papermill": {
     "duration": 0.205165,
     "end_time": "2022-06-01T07:13:06.754215",
     "exception": false,
     "start_time": "2022-06-01T07:13:06.549050",
     "status": "completed"
    },
    "tags": []
   },
   "outputs": [],
   "source": [
    "del(cat_count_df)\n",
    "del(cat_last_df)\n",
    "del(cat_nc_df)\n",
    "del(cat_cols_df)"
   ]
  },
  {
   "cell_type": "code",
   "execution_count": 21,
   "id": "21a79d4c",
   "metadata": {
    "execution": {
     "iopub.execute_input": "2022-06-01T07:13:06.844468Z",
     "iopub.status.busy": "2022-06-01T07:13:06.843830Z",
     "iopub.status.idle": "2022-06-01T07:13:06.961802Z",
     "shell.execute_reply": "2022-06-01T07:13:06.960819Z"
    },
    "papermill": {
     "duration": 0.167784,
     "end_time": "2022-06-01T07:13:06.963781",
     "exception": false,
     "start_time": "2022-06-01T07:13:06.795997",
     "status": "completed"
    },
    "tags": []
   },
   "outputs": [
    {
     "data": {
      "text/plain": [
       "84"
      ]
     },
     "execution_count": 21,
     "metadata": {},
     "output_type": "execute_result"
    }
   ],
   "source": [
    "gc.collect()"
   ]
  },
  {
   "cell_type": "code",
   "execution_count": 22,
   "id": "ebfb848c",
   "metadata": {
    "execution": {
     "iopub.execute_input": "2022-06-01T07:13:07.054293Z",
     "iopub.status.busy": "2022-06-01T07:13:07.053648Z",
     "iopub.status.idle": "2022-06-01T07:13:07.061832Z",
     "shell.execute_reply": "2022-06-01T07:13:07.061111Z"
    },
    "papermill": {
     "duration": 0.057284,
     "end_time": "2022-06-01T07:13:07.063750",
     "exception": false,
     "start_time": "2022-06-01T07:13:07.006466",
     "status": "completed"
    },
    "tags": []
   },
   "outputs": [],
   "source": [
    "def grp_num_cols(test_df):\n",
    "    def agg_num(agg_func):\n",
    "        agg_df = []\n",
    "        for i in range(0, len(num_cols), 20):\n",
    "            exprs = {col: agg_func for col in num_cols[i:i+20]}\n",
    "            agg_df.append(test_df.groupBy('customer_ID').agg(exprs).orderBy('customer_ID', ascending=True).toPandas().drop('customer_ID', axis=1))\n",
    "        final_df = pd.concat(agg_df, axis=1).astype('float16')\n",
    "        gc.collect()\n",
    "        return final_df\n",
    "    num_mean_df = agg_num(\"mean\")\n",
    "    num_std_df = agg_num(\"std\")\n",
    "    num_min_df = agg_num(\"min\")\n",
    "    num_max_df = agg_num(\"max\")\n",
    "    final_df = pd.concat([num_mean_df, num_std_df, num_min_df, num_max_df], axis=1)\n",
    "    return final_df"
   ]
  },
  {
   "cell_type": "code",
   "execution_count": 23,
   "id": "5ba5600d",
   "metadata": {
    "execution": {
     "iopub.execute_input": "2022-06-01T07:13:07.150865Z",
     "iopub.status.busy": "2022-06-01T07:13:07.150181Z",
     "iopub.status.idle": "2022-06-01T07:32:55.984938Z",
     "shell.execute_reply": "2022-06-01T07:32:55.983470Z"
    },
    "papermill": {
     "duration": 1188.881661,
     "end_time": "2022-06-01T07:32:55.987394",
     "exception": false,
     "start_time": "2022-06-01T07:13:07.105733",
     "status": "completed"
    },
    "tags": []
   },
   "outputs": [
    {
     "name": "stderr",
     "output_type": "stream",
     "text": [
      "22/06/01 07:13:07 WARN package: Truncated the string representation of a plan since it was too large. This behavior can be adjusted by setting 'spark.sql.debug.maxToStringFields'.\n",
      "                                                                                \r"
     ]
    },
    {
     "name": "stdout",
     "output_type": "stream",
     "text": [
      "CPU times: user 7min 24s, sys: 54.8 s, total: 8min 19s\n",
      "Wall time: 19min 48s\n"
     ]
    }
   ],
   "source": [
    "%%time\n",
    "num_cols_df = grp_num_cols(test_df)"
   ]
  },
  {
   "cell_type": "code",
   "execution_count": 24,
   "id": "0f466e16",
   "metadata": {
    "execution": {
     "iopub.execute_input": "2022-06-01T07:32:56.276166Z",
     "iopub.status.busy": "2022-06-01T07:32:56.274212Z",
     "iopub.status.idle": "2022-06-01T07:37:36.547131Z",
     "shell.execute_reply": "2022-06-01T07:37:36.546247Z"
    },
    "papermill": {
     "duration": 280.421246,
     "end_time": "2022-06-01T07:37:36.549685",
     "exception": false,
     "start_time": "2022-06-01T07:32:56.128439",
     "status": "completed"
    },
    "tags": []
   },
   "outputs": [],
   "source": [
    "num_cols_df.to_pickle('num_cols_df.pkl', compression='gzip')"
   ]
  },
  {
   "cell_type": "code",
   "execution_count": 25,
   "id": "5876ffdd",
   "metadata": {
    "execution": {
     "iopub.execute_input": "2022-06-01T07:37:36.834856Z",
     "iopub.status.busy": "2022-06-01T07:37:36.834105Z",
     "iopub.status.idle": "2022-06-01T07:37:36.862818Z",
     "shell.execute_reply": "2022-06-01T07:37:36.861537Z"
    },
    "papermill": {
     "duration": 0.175249,
     "end_time": "2022-06-01T07:37:36.865304",
     "exception": false,
     "start_time": "2022-06-01T07:37:36.690055",
     "status": "completed"
    },
    "tags": []
   },
   "outputs": [],
   "source": [
    "del(num_cols_df)"
   ]
  },
  {
   "cell_type": "code",
   "execution_count": 26,
   "id": "882fba9b",
   "metadata": {
    "execution": {
     "iopub.execute_input": "2022-06-01T07:37:37.147002Z",
     "iopub.status.busy": "2022-06-01T07:37:37.146397Z",
     "iopub.status.idle": "2022-06-01T07:37:37.261877Z",
     "shell.execute_reply": "2022-06-01T07:37:37.261193Z"
    },
    "papermill": {
     "duration": 0.258497,
     "end_time": "2022-06-01T07:37:37.263761",
     "exception": false,
     "start_time": "2022-06-01T07:37:37.005264",
     "status": "completed"
    },
    "tags": []
   },
   "outputs": [
    {
     "data": {
      "text/plain": [
       "63"
      ]
     },
     "execution_count": 26,
     "metadata": {},
     "output_type": "execute_result"
    }
   ],
   "source": [
    "gc.collect()"
   ]
  },
  {
   "cell_type": "code",
   "execution_count": 27,
   "id": "4bfa91da",
   "metadata": {
    "execution": {
     "iopub.execute_input": "2022-06-01T07:37:37.543875Z",
     "iopub.status.busy": "2022-06-01T07:37:37.543262Z",
     "iopub.status.idle": "2022-06-01T07:37:38.866360Z",
     "shell.execute_reply": "2022-06-01T07:37:38.865293Z"
    },
    "papermill": {
     "duration": 1.466704,
     "end_time": "2022-06-01T07:37:38.868792",
     "exception": false,
     "start_time": "2022-06-01T07:37:37.402088",
     "status": "completed"
    },
    "tags": []
   },
   "outputs": [],
   "source": [
    "cat_cols_df = pd.read_pickle('./cat_cols_df.pkl', compression='gzip')"
   ]
  },
  {
   "cell_type": "code",
   "execution_count": 28,
   "id": "1cfdbf4a",
   "metadata": {
    "execution": {
     "iopub.execute_input": "2022-06-01T07:37:39.152261Z",
     "iopub.status.busy": "2022-06-01T07:37:39.151732Z",
     "iopub.status.idle": "2022-06-01T07:37:54.356756Z",
     "shell.execute_reply": "2022-06-01T07:37:54.355866Z"
    },
    "papermill": {
     "duration": 15.351263,
     "end_time": "2022-06-01T07:37:54.359439",
     "exception": false,
     "start_time": "2022-06-01T07:37:39.008176",
     "status": "completed"
    },
    "tags": []
   },
   "outputs": [],
   "source": [
    "num_cols_df = pd.read_pickle('./num_cols_df.pkl', compression='gzip')"
   ]
  },
  {
   "cell_type": "code",
   "execution_count": 29,
   "id": "2b102097",
   "metadata": {
    "execution": {
     "iopub.execute_input": "2022-06-01T07:37:54.638003Z",
     "iopub.status.busy": "2022-06-01T07:37:54.637269Z",
     "iopub.status.idle": "2022-06-01T07:37:56.080157Z",
     "shell.execute_reply": "2022-06-01T07:37:56.079020Z"
    },
    "papermill": {
     "duration": 1.583231,
     "end_time": "2022-06-01T07:37:56.082767",
     "exception": false,
     "start_time": "2022-06-01T07:37:54.499536",
     "status": "completed"
    },
    "tags": []
   },
   "outputs": [],
   "source": [
    "final_test_df = pd.concat([cat_cols_df, num_cols_df], axis=1)"
   ]
  },
  {
   "cell_type": "code",
   "execution_count": 30,
   "id": "a8e6dc53",
   "metadata": {
    "execution": {
     "iopub.execute_input": "2022-06-01T07:37:56.448328Z",
     "iopub.status.busy": "2022-06-01T07:37:56.447041Z",
     "iopub.status.idle": "2022-06-01T07:37:56.523737Z",
     "shell.execute_reply": "2022-06-01T07:37:56.522686Z"
    },
    "papermill": {
     "duration": 0.220214,
     "end_time": "2022-06-01T07:37:56.526343",
     "exception": false,
     "start_time": "2022-06-01T07:37:56.306129",
     "status": "completed"
    },
    "tags": []
   },
   "outputs": [],
   "source": [
    "del(cat_cols_df)\n",
    "del(num_cols_df)"
   ]
  },
  {
   "cell_type": "code",
   "execution_count": 31,
   "id": "bec9e0ac",
   "metadata": {
    "execution": {
     "iopub.execute_input": "2022-06-01T07:37:56.802573Z",
     "iopub.status.busy": "2022-06-01T07:37:56.802152Z",
     "iopub.status.idle": "2022-06-01T07:37:56.920268Z",
     "shell.execute_reply": "2022-06-01T07:37:56.919179Z"
    },
    "papermill": {
     "duration": 0.259039,
     "end_time": "2022-06-01T07:37:56.922389",
     "exception": false,
     "start_time": "2022-06-01T07:37:56.663350",
     "status": "completed"
    },
    "tags": []
   },
   "outputs": [
    {
     "data": {
      "text/plain": [
       "42"
      ]
     },
     "execution_count": 31,
     "metadata": {},
     "output_type": "execute_result"
    }
   ],
   "source": [
    "gc.collect()"
   ]
  },
  {
   "cell_type": "code",
   "execution_count": 32,
   "id": "649c06d0",
   "metadata": {
    "execution": {
     "iopub.execute_input": "2022-06-01T07:37:57.200080Z",
     "iopub.status.busy": "2022-06-01T07:37:57.199416Z",
     "iopub.status.idle": "2022-06-01T07:44:05.515693Z",
     "shell.execute_reply": "2022-06-01T07:44:05.514463Z"
    },
    "papermill": {
     "duration": 368.457118,
     "end_time": "2022-06-01T07:44:05.518326",
     "exception": false,
     "start_time": "2022-06-01T07:37:57.061208",
     "status": "completed"
    },
    "tags": []
   },
   "outputs": [],
   "source": [
    "final_test_df.to_pickle('test_agg.pkl', compression='gzip')"
   ]
  }
 ],
 "metadata": {
  "kernelspec": {
   "display_name": "Python 3",
   "language": "python",
   "name": "python3"
  },
  "language_info": {
   "codemirror_mode": {
    "name": "ipython",
    "version": 3
   },
   "file_extension": ".py",
   "mimetype": "text/x-python",
   "name": "python",
   "nbconvert_exporter": "python",
   "pygments_lexer": "ipython3",
   "version": "3.7.12"
  },
  "papermill": {
   "default_parameters": {},
   "duration": 2230.578399,
   "end_time": "2022-06-01T07:44:08.285097",
   "environment_variables": {},
   "exception": null,
   "input_path": "__notebook__.ipynb",
   "output_path": "__notebook__.ipynb",
   "parameters": {},
   "start_time": "2022-06-01T07:06:57.706698",
   "version": "2.3.4"
  }
 },
 "nbformat": 4,
 "nbformat_minor": 5
}
