{
 "cells": [
  {
   "cell_type": "code",
   "execution_count": 1,
   "id": "a5610c74",
   "metadata": {
    "_cell_guid": "b1076dfc-b9ad-4769-8c92-a6c4dae69d19",
    "_uuid": "8f2839f25d086af736a60e9eeb907d3b93b6e0e5",
    "execution": {
     "iopub.execute_input": "2022-06-04T07:46:00.353199Z",
     "iopub.status.busy": "2022-06-04T07:46:00.352405Z",
     "iopub.status.idle": "2022-06-04T07:46:00.364920Z",
     "shell.execute_reply": "2022-06-04T07:46:00.364160Z"
    },
    "papermill": {
     "duration": 0.028854,
     "end_time": "2022-06-04T07:46:00.366805",
     "exception": false,
     "start_time": "2022-06-04T07:46:00.337951",
     "status": "completed"
    },
    "tags": []
   },
   "outputs": [],
   "source": [
    "# This Python 3 environment comes with many helpful analytics libraries installed\n",
    "# It is defined by the kaggle/python Docker image: https://github.com/kaggle/docker-python\n",
    "# For example, here's several helpful packages to load\n",
    "\n",
    "import numpy as np # linear algebra\n",
    "import pandas as pd # data processing, CSV file I/O (e.g. pd.read_csv)\n",
    "\n",
    "# Input data files are available in the read-only \"../input/\" directory\n",
    "# For example, running this (by clicking run or pressing Shift+Enter) will list all files under the input directory\n",
    "\n",
    "import os\n",
    "# for dirname, _, filenames in os.walk('/kaggle/input'):\n",
    "#     for filename in filenames:\n",
    "#         print(os.path.join(dirname, filename))\n",
    "\n",
    "# You can write up to 20GB to the current directory (/kaggle/working/) that gets preserved as output when you create a version using \"Save & Run All\" \n",
    "# You can also write temporary files to /kaggle/temp/, but they won't be saved outside of the current session"
   ]
  },
  {
   "cell_type": "markdown",
   "id": "230188a3",
   "metadata": {
    "papermill": {
     "duration": 0.011519,
     "end_time": "2022-06-04T07:46:00.390641",
     "exception": false,
     "start_time": "2022-06-04T07:46:00.379122",
     "status": "completed"
    },
    "tags": []
   },
   "source": [
    "# Import Libraries"
   ]
  },
  {
   "cell_type": "code",
   "execution_count": 2,
   "id": "966cd410",
   "metadata": {
    "execution": {
     "iopub.execute_input": "2022-06-04T07:46:00.415279Z",
     "iopub.status.busy": "2022-06-04T07:46:00.414307Z",
     "iopub.status.idle": "2022-06-04T07:46:06.396796Z",
     "shell.execute_reply": "2022-06-04T07:46:06.395931Z"
    },
    "papermill": {
     "duration": 5.997412,
     "end_time": "2022-06-04T07:46:06.399301",
     "exception": false,
     "start_time": "2022-06-04T07:46:00.401889",
     "status": "completed"
    },
    "tags": []
   },
   "outputs": [],
   "source": [
    "import numpy as np\n",
    "import tensorflow as tf\n",
    "import matplotlib.pyplot as plt\n",
    "from typing import Tuple\n",
    "from tensorflow.keras import layers\n",
    "from tensorflow.keras.models import Sequential\n",
    "from tensorflow.keras.layers import BatchNormalization\n",
    "from tensorflow.keras.layers import Conv2D\n",
    "from tensorflow.keras.layers import MaxPooling2D\n",
    "from tensorflow.keras.layers import Activation, Flatten, Dropout, Dense\n",
    "from tensorflow.keras.optimizers import Adam"
   ]
  },
  {
   "cell_type": "markdown",
   "id": "22055a8d",
   "metadata": {
    "papermill": {
     "duration": 0.010824,
     "end_time": "2022-06-04T07:46:06.421035",
     "exception": false,
     "start_time": "2022-06-04T07:46:06.410211",
     "status": "completed"
    },
    "tags": []
   },
   "source": [
    "# Set GLOBAL Variables"
   ]
  },
  {
   "cell_type": "code",
   "execution_count": 3,
   "id": "91292991",
   "metadata": {
    "execution": {
     "iopub.execute_input": "2022-06-04T07:46:06.446828Z",
     "iopub.status.busy": "2022-06-04T07:46:06.445514Z",
     "iopub.status.idle": "2022-06-04T07:46:06.451919Z",
     "shell.execute_reply": "2022-06-04T07:46:06.451051Z"
    },
    "papermill": {
     "duration": 0.021421,
     "end_time": "2022-06-04T07:46:06.453767",
     "exception": false,
     "start_time": "2022-06-04T07:46:06.432346",
     "status": "completed"
    },
    "tags": []
   },
   "outputs": [],
   "source": [
    "EPOCHS = 20\n",
    "INIT_LR = 1e-3\n",
    "batch_size = 32\n",
    "seed=42\n",
    "default_image_size = tuple((256, 256))\n",
    "image_size = 0\n",
    "directory_root = r\"../input/plant-leaf-diseases-dataset-with-augmentation/Plant_leave_diseases_dataset_with_augmentation/\"\n",
    "img_width=160\n",
    "img_height=160\n",
    "depth=3\n",
    "tf.random.set_seed(seed)"
   ]
  },
  {
   "cell_type": "markdown",
   "id": "13ea6394",
   "metadata": {
    "papermill": {
     "duration": 0.010615,
     "end_time": "2022-06-04T07:46:06.475763",
     "exception": false,
     "start_time": "2022-06-04T07:46:06.465148",
     "status": "completed"
    },
    "tags": []
   },
   "source": [
    "# Load Dataset as Generator using `tensorflow` library"
   ]
  },
  {
   "cell_type": "code",
   "execution_count": 4,
   "id": "07a485f5",
   "metadata": {
    "execution": {
     "iopub.execute_input": "2022-06-04T07:46:06.498814Z",
     "iopub.status.busy": "2022-06-04T07:46:06.498195Z",
     "iopub.status.idle": "2022-06-04T07:46:28.765932Z",
     "shell.execute_reply": "2022-06-04T07:46:28.763721Z"
    },
    "papermill": {
     "duration": 22.282001,
     "end_time": "2022-06-04T07:46:28.768601",
     "exception": false,
     "start_time": "2022-06-04T07:46:06.486600",
     "status": "completed"
    },
    "tags": []
   },
   "outputs": [
    {
     "name": "stdout",
     "output_type": "stream",
     "text": [
      "Found 61486 files belonging to 39 classes.\n"
     ]
    },
    {
     "name": "stderr",
     "output_type": "stream",
     "text": [
      "2022-06-04 07:46:25.945355: I tensorflow/stream_executor/cuda/cuda_gpu_executor.cc:937] successful NUMA node read from SysFS had negative value (-1), but there must be at least one NUMA node, so returning NUMA node zero\n",
      "2022-06-04 07:46:26.064725: I tensorflow/stream_executor/cuda/cuda_gpu_executor.cc:937] successful NUMA node read from SysFS had negative value (-1), but there must be at least one NUMA node, so returning NUMA node zero\n",
      "2022-06-04 07:46:26.065707: I tensorflow/stream_executor/cuda/cuda_gpu_executor.cc:937] successful NUMA node read from SysFS had negative value (-1), but there must be at least one NUMA node, so returning NUMA node zero\n",
      "2022-06-04 07:46:26.071137: I tensorflow/core/platform/cpu_feature_guard.cc:142] This TensorFlow binary is optimized with oneAPI Deep Neural Network Library (oneDNN) to use the following CPU instructions in performance-critical operations:  AVX2 AVX512F FMA\n",
      "To enable them in other operations, rebuild TensorFlow with the appropriate compiler flags.\n",
      "2022-06-04 07:46:26.071527: I tensorflow/stream_executor/cuda/cuda_gpu_executor.cc:937] successful NUMA node read from SysFS had negative value (-1), but there must be at least one NUMA node, so returning NUMA node zero\n",
      "2022-06-04 07:46:26.072605: I tensorflow/stream_executor/cuda/cuda_gpu_executor.cc:937] successful NUMA node read from SysFS had negative value (-1), but there must be at least one NUMA node, so returning NUMA node zero\n",
      "2022-06-04 07:46:26.073568: I tensorflow/stream_executor/cuda/cuda_gpu_executor.cc:937] successful NUMA node read from SysFS had negative value (-1), but there must be at least one NUMA node, so returning NUMA node zero\n",
      "2022-06-04 07:46:28.332975: I tensorflow/stream_executor/cuda/cuda_gpu_executor.cc:937] successful NUMA node read from SysFS had negative value (-1), but there must be at least one NUMA node, so returning NUMA node zero\n",
      "2022-06-04 07:46:28.333856: I tensorflow/stream_executor/cuda/cuda_gpu_executor.cc:937] successful NUMA node read from SysFS had negative value (-1), but there must be at least one NUMA node, so returning NUMA node zero\n",
      "2022-06-04 07:46:28.334648: I tensorflow/stream_executor/cuda/cuda_gpu_executor.cc:937] successful NUMA node read from SysFS had negative value (-1), but there must be at least one NUMA node, so returning NUMA node zero\n",
      "2022-06-04 07:46:28.335309: I tensorflow/core/common_runtime/gpu/gpu_device.cc:1510] Created device /job:localhost/replica:0/task:0/device:GPU:0 with 15403 MB memory:  -> device: 0, name: Tesla P100-PCIE-16GB, pci bus id: 0000:00:04.0, compute capability: 6.0\n"
     ]
    }
   ],
   "source": [
    "ds = tf.keras.utils.image_dataset_from_directory(\n",
    "  directory_root,\n",
    "  seed=seed,\n",
    "  shuffle=True,\n",
    "  image_size=(img_height, img_width),\n",
    "  batch_size=batch_size)"
   ]
  },
  {
   "cell_type": "markdown",
   "id": "62679d3e",
   "metadata": {
    "papermill": {
     "duration": 0.011443,
     "end_time": "2022-06-04T07:46:28.792094",
     "exception": false,
     "start_time": "2022-06-04T07:46:28.780651",
     "status": "completed"
    },
    "tags": []
   },
   "source": [
    "# Take Base Model as mobilenet_V2"
   ]
  },
  {
   "cell_type": "code",
   "execution_count": 5,
   "id": "fcda3069",
   "metadata": {
    "execution": {
     "iopub.execute_input": "2022-06-04T07:46:28.817169Z",
     "iopub.status.busy": "2022-06-04T07:46:28.816808Z",
     "iopub.status.idle": "2022-06-04T07:46:28.821290Z",
     "shell.execute_reply": "2022-06-04T07:46:28.820443Z"
    },
    "papermill": {
     "duration": 0.019181,
     "end_time": "2022-06-04T07:46:28.823059",
     "exception": false,
     "start_time": "2022-06-04T07:46:28.803878",
     "status": "completed"
    },
    "tags": []
   },
   "outputs": [],
   "source": [
    "preprocess_input = tf.keras.applications.mobilenet_v2.preprocess_input"
   ]
  },
  {
   "cell_type": "code",
   "execution_count": 6,
   "id": "3f5ab92f",
   "metadata": {
    "execution": {
     "iopub.execute_input": "2022-06-04T07:46:28.847811Z",
     "iopub.status.busy": "2022-06-04T07:46:28.846989Z",
     "iopub.status.idle": "2022-06-04T07:46:28.853025Z",
     "shell.execute_reply": "2022-06-04T07:46:28.852220Z"
    },
    "papermill": {
     "duration": 0.020406,
     "end_time": "2022-06-04T07:46:28.854726",
     "exception": false,
     "start_time": "2022-06-04T07:46:28.834320",
     "status": "completed"
    },
    "tags": []
   },
   "outputs": [],
   "source": [
    "ds_size = ds.cardinality().numpy()"
   ]
  },
  {
   "cell_type": "markdown",
   "id": "84ccc55e",
   "metadata": {
    "papermill": {
     "duration": 0.010962,
     "end_time": "2022-06-04T07:46:28.876752",
     "exception": false,
     "start_time": "2022-06-04T07:46:28.865790",
     "status": "completed"
    },
    "tags": []
   },
   "source": [
    "# Split Dataset into `train`, `validation` and `test`"
   ]
  },
  {
   "cell_type": "code",
   "execution_count": 7,
   "id": "3004dd68",
   "metadata": {
    "execution": {
     "iopub.execute_input": "2022-06-04T07:46:28.902178Z",
     "iopub.status.busy": "2022-06-04T07:46:28.901210Z",
     "iopub.status.idle": "2022-06-04T07:46:28.908663Z",
     "shell.execute_reply": "2022-06-04T07:46:28.907838Z"
    },
    "papermill": {
     "duration": 0.0225,
     "end_time": "2022-06-04T07:46:28.910595",
     "exception": false,
     "start_time": "2022-06-04T07:46:28.888095",
     "status": "completed"
    },
    "tags": []
   },
   "outputs": [],
   "source": [
    "def split_dataset(dataset: tf.data.Dataset, \n",
    "                  dataset_size: int, \n",
    "                  train_ratio: float, \n",
    "                  validation_ratio: float) -> Tuple[tf.data.Dataset, tf.data.Dataset, tf.data.Dataset]:\n",
    "    assert (train_ratio + validation_ratio) < 1\n",
    "\n",
    "    train_count = int(dataset_size * train_ratio)\n",
    "    validation_count = int(dataset_size * validation_ratio)\n",
    "    test_count = dataset_size - (train_count + validation_count)\n",
    "\n",
    "\n",
    "    train_dataset = dataset.take(train_count)\n",
    "    validation_dataset = dataset.skip(train_count).take(validation_count)\n",
    "    test_dataset = dataset.skip(validation_count + train_count).take(test_count)\n",
    "\n",
    "    return train_dataset, validation_dataset, test_dataset"
   ]
  },
  {
   "cell_type": "code",
   "execution_count": 8,
   "id": "0e014c08",
   "metadata": {
    "execution": {
     "iopub.execute_input": "2022-06-04T07:46:28.935760Z",
     "iopub.status.busy": "2022-06-04T07:46:28.935138Z",
     "iopub.status.idle": "2022-06-04T07:46:28.943648Z",
     "shell.execute_reply": "2022-06-04T07:46:28.942824Z"
    },
    "papermill": {
     "duration": 0.023372,
     "end_time": "2022-06-04T07:46:28.945479",
     "exception": false,
     "start_time": "2022-06-04T07:46:28.922107",
     "status": "completed"
    },
    "tags": []
   },
   "outputs": [],
   "source": [
    "train_ds, val_ds, test_ds = split_dataset(ds, ds_size, train_ratio=0.8, validation_ratio=0.1)"
   ]
  },
  {
   "cell_type": "code",
   "execution_count": 9,
   "id": "21e57aa7",
   "metadata": {
    "execution": {
     "iopub.execute_input": "2022-06-04T07:46:28.971287Z",
     "iopub.status.busy": "2022-06-04T07:46:28.970757Z",
     "iopub.status.idle": "2022-06-04T07:46:28.981736Z",
     "shell.execute_reply": "2022-06-04T07:46:28.980434Z"
    },
    "papermill": {
     "duration": 0.031434,
     "end_time": "2022-06-04T07:46:28.988465",
     "exception": false,
     "start_time": "2022-06-04T07:46:28.957031",
     "status": "completed"
    },
    "tags": []
   },
   "outputs": [
    {
     "data": {
      "text/plain": [
       "['Apple___Apple_scab',\n",
       " 'Apple___Black_rot',\n",
       " 'Apple___Cedar_apple_rust',\n",
       " 'Apple___healthy',\n",
       " 'Background_without_leaves',\n",
       " 'Blueberry___healthy',\n",
       " 'Cherry___Powdery_mildew',\n",
       " 'Cherry___healthy',\n",
       " 'Corn___Cercospora_leaf_spot Gray_leaf_spot',\n",
       " 'Corn___Common_rust',\n",
       " 'Corn___Northern_Leaf_Blight',\n",
       " 'Corn___healthy',\n",
       " 'Grape___Black_rot',\n",
       " 'Grape___Esca_(Black_Measles)',\n",
       " 'Grape___Leaf_blight_(Isariopsis_Leaf_Spot)',\n",
       " 'Grape___healthy',\n",
       " 'Orange___Haunglongbing_(Citrus_greening)',\n",
       " 'Peach___Bacterial_spot',\n",
       " 'Peach___healthy',\n",
       " 'Pepper,_bell___Bacterial_spot',\n",
       " 'Pepper,_bell___healthy',\n",
       " 'Potato___Early_blight',\n",
       " 'Potato___Late_blight',\n",
       " 'Potato___healthy',\n",
       " 'Raspberry___healthy',\n",
       " 'Soybean___healthy',\n",
       " 'Squash___Powdery_mildew',\n",
       " 'Strawberry___Leaf_scorch',\n",
       " 'Strawberry___healthy',\n",
       " 'Tomato___Bacterial_spot',\n",
       " 'Tomato___Early_blight',\n",
       " 'Tomato___Late_blight',\n",
       " 'Tomato___Leaf_Mold',\n",
       " 'Tomato___Septoria_leaf_spot',\n",
       " 'Tomato___Spider_mites Two-spotted_spider_mite',\n",
       " 'Tomato___Target_Spot',\n",
       " 'Tomato___Tomato_Yellow_Leaf_Curl_Virus',\n",
       " 'Tomato___Tomato_mosaic_virus',\n",
       " 'Tomato___healthy']"
      ]
     },
     "execution_count": 9,
     "metadata": {},
     "output_type": "execute_result"
    }
   ],
   "source": [
    "class_names = ds.class_names\n",
    "class_names"
   ]
  },
  {
   "cell_type": "markdown",
   "id": "10741d9d",
   "metadata": {
    "papermill": {
     "duration": 0.011736,
     "end_time": "2022-06-04T07:46:29.012858",
     "exception": false,
     "start_time": "2022-06-04T07:46:29.001122",
     "status": "completed"
    },
    "tags": []
   },
   "source": [
    "# Plot Dataset Images"
   ]
  },
  {
   "cell_type": "code",
   "execution_count": 10,
   "id": "17b2dc4c",
   "metadata": {
    "execution": {
     "iopub.execute_input": "2022-06-04T07:46:29.037987Z",
     "iopub.status.busy": "2022-06-04T07:46:29.037624Z",
     "iopub.status.idle": "2022-06-04T07:46:31.559698Z",
     "shell.execute_reply": "2022-06-04T07:46:31.558329Z"
    },
    "papermill": {
     "duration": 2.538617,
     "end_time": "2022-06-04T07:46:31.563553",
     "exception": false,
     "start_time": "2022-06-04T07:46:29.024936",
     "status": "completed"
    },
    "tags": []
   },
   "outputs": [
    {
     "name": "stderr",
     "output_type": "stream",
     "text": [
      "2022-06-04 07:46:29.077179: I tensorflow/compiler/mlir/mlir_graph_optimization_pass.cc:185] None of the MLIR Optimization Passes are enabled (registered 2)\n"
     ]
    },
    {
     "data": {
      "image/png": "[encoded data removed]",
      "text/plain": [
       "<Figure size 1080x720 with 32 Axes>"
      ]
     },
     "metadata": {
      "needs_background": "light"
     },
     "output_type": "display_data"
    }
   ],
   "source": [
    "import matplotlib.pyplot as plt\n",
    "\n",
    "plt.figure(figsize=(15, 10))\n",
    "for images, labels in train_ds.take(1):\n",
    "    for i in range(32):\n",
    "        ax = plt.subplot(13, 3, i + 1)\n",
    "        plt.imshow(images[i].numpy().astype(\"uint8\"))\n",
    "        plt.title(class_names[labels[i]])\n",
    "        plt.axis(\"off\")"
   ]
  },
  {
   "cell_type": "markdown",
   "id": "41e49669",
   "metadata": {
    "papermill": {
     "duration": 0.014345,
     "end_time": "2022-06-04T07:46:31.592390",
     "exception": false,
     "start_time": "2022-06-04T07:46:31.578045",
     "status": "completed"
    },
    "tags": []
   },
   "source": [
    "# Data Augumentation"
   ]
  },
  {
   "cell_type": "code",
   "execution_count": 11,
   "id": "32cb85c9",
   "metadata": {
    "execution": {
     "iopub.execute_input": "2022-06-04T07:46:31.622690Z",
     "iopub.status.busy": "2022-06-04T07:46:31.622314Z",
     "iopub.status.idle": "2022-06-04T07:46:31.626530Z",
     "shell.execute_reply": "2022-06-04T07:46:31.625538Z"
    },
    "papermill": {
     "duration": 0.021939,
     "end_time": "2022-06-04T07:46:31.628835",
     "exception": false,
     "start_time": "2022-06-04T07:46:31.606896",
     "status": "completed"
    },
    "tags": []
   },
   "outputs": [],
   "source": [
    "# data_augmentation = Sequential(\n",
    "#   [\n",
    "#     layers.RandomFlip(\"horizontal\",\n",
    "#                       input_shape=(img_height,\n",
    "#                                   img_width,\n",
    "#                                   3)),\n",
    "#     layers.RandomRotation(0.2),\n",
    "#     layers.RandomZoom(0.1),\n",
    "#   ]\n",
    "# )"
   ]
  },
  {
   "cell_type": "code",
   "execution_count": 12,
   "id": "12797147",
   "metadata": {
    "execution": {
     "iopub.execute_input": "2022-06-04T07:46:31.659056Z",
     "iopub.status.busy": "2022-06-04T07:46:31.658696Z",
     "iopub.status.idle": "2022-06-04T07:46:31.662762Z",
     "shell.execute_reply": "2022-06-04T07:46:31.661828Z"
    },
    "papermill": {
     "duration": 0.021793,
     "end_time": "2022-06-04T07:46:31.664889",
     "exception": false,
     "start_time": "2022-06-04T07:46:31.643096",
     "status": "completed"
    },
    "tags": []
   },
   "outputs": [],
   "source": [
    "# early_stop_callback = tf.keras.callbacks.EarlyStopping(\n",
    "#     monitor='val_loss',\n",
    "#     patience=3,\n",
    "#     mode='auto')"
   ]
  },
  {
   "cell_type": "markdown",
   "id": "1d6592b3",
   "metadata": {
    "papermill": {
     "duration": 0.015065,
     "end_time": "2022-06-04T07:46:31.694201",
     "exception": false,
     "start_time": "2022-06-04T07:46:31.679136",
     "status": "completed"
    },
    "tags": []
   },
   "source": [
    "# Compile the Base Mobilenet Model with training set to False"
   ]
  },
  {
   "cell_type": "code",
   "execution_count": 13,
   "id": "d7420856",
   "metadata": {
    "execution": {
     "iopub.execute_input": "2022-06-04T07:46:31.724707Z",
     "iopub.status.busy": "2022-06-04T07:46:31.724346Z",
     "iopub.status.idle": "2022-06-04T07:46:33.155262Z",
     "shell.execute_reply": "2022-06-04T07:46:33.154316Z"
    },
    "papermill": {
     "duration": 1.4493,
     "end_time": "2022-06-04T07:46:33.158018",
     "exception": false,
     "start_time": "2022-06-04T07:46:31.708718",
     "status": "completed"
    },
    "tags": []
   },
   "outputs": [
    {
     "name": "stdout",
     "output_type": "stream",
     "text": [
      "Downloading data from https://storage.googleapis.com/tensorflow/keras-applications/mobilenet_v2/mobilenet_v2_weights_tf_dim_ordering_tf_kernels_1.0_160_no_top.h5\n",
      "9412608/9406464 [==============================] - 0s 0us/step\n",
      "9420800/9406464 [==============================] - 0s 0us/step\n"
     ]
    }
   ],
   "source": [
    "num_classes = len(class_names)\n",
    "\n",
    "# Create the base model from the pre-trained model MobileNet V2\n",
    "IMG_SHAPE = (img_height, img_width) + (3,)\n",
    "base_model = tf.keras.applications.MobileNetV2(input_shape=IMG_SHAPE,\n",
    "                                               include_top=False,\n",
    "                                               weights='imagenet')"
   ]
  },
  {
   "cell_type": "code",
   "execution_count": 14,
   "id": "2dfc4002",
   "metadata": {
    "execution": {
     "iopub.execute_input": "2022-06-04T07:46:33.191416Z",
     "iopub.status.busy": "2022-06-04T07:46:33.190976Z",
     "iopub.status.idle": "2022-06-04T07:46:40.509373Z",
     "shell.execute_reply": "2022-06-04T07:46:40.508460Z"
    },
    "papermill": {
     "duration": 7.33796,
     "end_time": "2022-06-04T07:46:40.511959",
     "exception": false,
     "start_time": "2022-06-04T07:46:33.173999",
     "status": "completed"
    },
    "tags": []
   },
   "outputs": [
    {
     "name": "stderr",
     "output_type": "stream",
     "text": [
      "2022-06-04 07:46:34.948691: I tensorflow/stream_executor/cuda/cuda_dnn.cc:369] Loaded cuDNN version 8005\n"
     ]
    },
    {
     "name": "stdout",
     "output_type": "stream",
     "text": [
      "(32, 5, 5, 1280)\n"
     ]
    }
   ],
   "source": [
    "image_batch, label_batch = next(iter(train_ds))\n",
    "feature_batch = base_model(image_batch)\n",
    "print(feature_batch.shape)"
   ]
  },
  {
   "cell_type": "code",
   "execution_count": 15,
   "id": "5bddb6ba",
   "metadata": {
    "_kg_hide-output": true,
    "execution": {
     "iopub.execute_input": "2022-06-04T07:46:40.543947Z",
     "iopub.status.busy": "2022-06-04T07:46:40.543144Z",
     "iopub.status.idle": "2022-06-04T07:46:40.572581Z",
     "shell.execute_reply": "2022-06-04T07:46:40.571534Z"
    },
    "papermill": {
     "duration": 0.053483,
     "end_time": "2022-06-04T07:46:40.580617",
     "exception": false,
     "start_time": "2022-06-04T07:46:40.527134",
     "status": "completed"
    },
    "scrolled": true,
    "tags": []
   },
   "outputs": [
    {
     "name": "stdout",
     "output_type": "stream",
     "text": [
      "Model: \"mobilenetv2_1.00_160\"\n",
      "__________________________________________________________________________________________________\n",
      "Layer (type)                    Output Shape         Param #     Connected to                     \n",
      "==================================================================================================\n",
      "input_1 (InputLayer)            [(None, 160, 160, 3) 0                                            \n",
      "__________________________________________________________________________________________________\n",
      "Conv1 (Conv2D)                  (None, 80, 80, 32)   864         input_1[0][0]                    \n",
      "__________________________________________________________________________________________________\n",
      "bn_Conv1 (BatchNormalization)   (None, 80, 80, 32)   128         Conv1[0][0]                      \n",
      "__________________________________________________________________________________________________\n",
      "Conv1_relu (ReLU)               (None, 80, 80, 32)   0           bn_Conv1[0][0]                   \n",
      "__________________________________________________________________________________________________\n",
      "expanded_conv_depthwise (Depthw (None, 80, 80, 32)   288         Conv1_relu[0][0]                 \n",
      "__________________________________________________________________________________________________\n",
      "expanded_conv_depthwise_BN (Bat (None, 80, 80, 32)   128         expanded_conv_depthwise[0][0]    \n",
      "__________________________________________________________________________________________________\n",
      "expanded_conv_depthwise_relu (R (None, 80, 80, 32)   0           expanded_conv_depthwise_BN[0][0] \n",
      "__________________________________________________________________________________________________\n",
      "expanded_conv_project (Conv2D)  (None, 80, 80, 16)   512         expanded_conv_depthwise_relu[0][0\n",
      "__________________________________________________________________________________________________\n",
      "expanded_conv_project_BN (Batch (None, 80, 80, 16)   64          expanded_conv_project[0][0]      \n",
      "__________________________________________________________________________________________________\n",
      "block_1_expand (Conv2D)         (None, 80, 80, 96)   1536        expanded_conv_project_BN[0][0]   \n",
      "__________________________________________________________________________________________________\n",
      "block_1_expand_BN (BatchNormali (None, 80, 80, 96)   384         block_1_expand[0][0]             \n",
      "__________________________________________________________________________________________________\n",
      "block_1_expand_relu (ReLU)      (None, 80, 80, 96)   0           block_1_expand_BN[0][0]          \n",
      "__________________________________________________________________________________________________\n",
      "block_1_pad (ZeroPadding2D)     (None, 81, 81, 96)   0           block_1_expand_relu[0][0]        \n",
      "__________________________________________________________________________________________________\n",
      "block_1_depthwise (DepthwiseCon (None, 40, 40, 96)   864         block_1_pad[0][0]                \n",
      "__________________________________________________________________________________________________\n",
      "block_1_depthwise_BN (BatchNorm (None, 40, 40, 96)   384         block_1_depthwise[0][0]          \n",
      "__________________________________________________________________________________________________\n",
      "block_1_depthwise_relu (ReLU)   (None, 40, 40, 96)   0           block_1_depthwise_BN[0][0]       \n",
      "__________________________________________________________________________________________________\n",
      "block_1_project (Conv2D)        (None, 40, 40, 24)   2304        block_1_depthwise_relu[0][0]     \n",
      "__________________________________________________________________________________________________\n",
      "block_1_project_BN (BatchNormal (None, 40, 40, 24)   96          block_1_project[0][0]            \n",
      "__________________________________________________________________________________________________\n",
      "block_2_expand (Conv2D)         (None, 40, 40, 144)  3456        block_1_project_BN[0][0]         \n",
      "__________________________________________________________________________________________________\n",
      "block_2_expand_BN (BatchNormali (None, 40, 40, 144)  576         block_2_expand[0][0]             \n",
      "__________________________________________________________________________________________________\n",
      "block_2_expand_relu (ReLU)      (None, 40, 40, 144)  0           block_2_expand_BN[0][0]          \n",
      "__________________________________________________________________________________________________\n",
      "block_2_depthwise (DepthwiseCon (None, 40, 40, 144)  1296        block_2_expand_relu[0][0]        \n",
      "__________________________________________________________________________________________________\n",
      "block_2_depthwise_BN (BatchNorm (None, 40, 40, 144)  576         block_2_depthwise[0][0]          \n",
      "__________________________________________________________________________________________________\n",
      "block_2_depthwise_relu (ReLU)   (None, 40, 40, 144)  0           block_2_depthwise_BN[0][0]       \n",
      "__________________________________________________________________________________________________\n",
      "block_2_project (Conv2D)        (None, 40, 40, 24)   3456        block_2_depthwise_relu[0][0]     \n",
      "__________________________________________________________________________________________________\n",
      "block_2_project_BN (BatchNormal (None, 40, 40, 24)   96          block_2_project[0][0]            \n",
      "__________________________________________________________________________________________________\n",
      "block_2_add (Add)               (None, 40, 40, 24)   0           block_1_project_BN[0][0]         \n",
      "                                                                 block_2_project_BN[0][0]         \n",
      "__________________________________________________________________________________________________\n",
      "block_3_expand (Conv2D)         (None, 40, 40, 144)  3456        block_2_add[0][0]                \n",
      "__________________________________________________________________________________________________\n",
      "block_3_expand_BN (BatchNormali (None, 40, 40, 144)  576         block_3_expand[0][0]             \n",
      "__________________________________________________________________________________________________\n",
      "block_3_expand_relu (ReLU)      (None, 40, 40, 144)  0           block_3_expand_BN[0][0]          \n",
      "__________________________________________________________________________________________________\n",
      "block_3_pad (ZeroPadding2D)     (None, 41, 41, 144)  0           block_3_expand_relu[0][0]        \n",
      "__________________________________________________________________________________________________\n",
      "block_3_depthwise (DepthwiseCon (None, 20, 20, 144)  1296        block_3_pad[0][0]                \n",
      "__________________________________________________________________________________________________\n",
      "block_3_depthwise_BN (BatchNorm (None, 20, 20, 144)  576         block_3_depthwise[0][0]          \n",
      "__________________________________________________________________________________________________\n",
      "block_3_depthwise_relu (ReLU)   (None, 20, 20, 144)  0           block_3_depthwise_BN[0][0]       \n",
      "__________________________________________________________________________________________________\n",
      "block_3_project (Conv2D)        (None, 20, 20, 32)   4608        block_3_depthwise_relu[0][0]     \n",
      "__________________________________________________________________________________________________\n",
      "block_3_project_BN (BatchNormal (None, 20, 20, 32)   128         block_3_project[0][0]            \n",
      "__________________________________________________________________________________________________\n",
      "block_4_expand (Conv2D)         (None, 20, 20, 192)  6144        block_3_project_BN[0][0]         \n",
      "__________________________________________________________________________________________________\n",
      "block_4_expand_BN (BatchNormali (None, 20, 20, 192)  768         block_4_expand[0][0]             \n",
      "__________________________________________________________________________________________________\n",
      "block_4_expand_relu (ReLU)      (None, 20, 20, 192)  0           block_4_expand_BN[0][0]          \n",
      "__________________________________________________________________________________________________\n",
      "block_4_depthwise (DepthwiseCon (None, 20, 20, 192)  1728        block_4_expand_relu[0][0]        \n",
      "__________________________________________________________________________________________________\n",
      "block_4_depthwise_BN (BatchNorm (None, 20, 20, 192)  768         block_4_depthwise[0][0]          \n",
      "__________________________________________________________________________________________________\n",
      "block_4_depthwise_relu (ReLU)   (None, 20, 20, 192)  0           block_4_depthwise_BN[0][0]       \n",
      "__________________________________________________________________________________________________\n",
      "block_4_project (Conv2D)        (None, 20, 20, 32)   6144        block_4_depthwise_relu[0][0]     \n",
      "__________________________________________________________________________________________________\n",
      "block_4_project_BN (BatchNormal (None, 20, 20, 32)   128         block_4_project[0][0]            \n",
      "__________________________________________________________________________________________________\n",
      "block_4_add (Add)               (None, 20, 20, 32)   0           block_3_project_BN[0][0]         \n",
      "                                                                 block_4_project_BN[0][0]         \n",
      "__________________________________________________________________________________________________\n",
      "block_5_expand (Conv2D)         (None, 20, 20, 192)  6144        block_4_add[0][0]                \n",
      "__________________________________________________________________________________________________\n",
      "block_5_expand_BN (BatchNormali (None, 20, 20, 192)  768         block_5_expand[0][0]             \n",
      "__________________________________________________________________________________________________\n",
      "block_5_expand_relu (ReLU)      (None, 20, 20, 192)  0           block_5_expand_BN[0][0]          \n",
      "__________________________________________________________________________________________________\n",
      "block_5_depthwise (DepthwiseCon (None, 20, 20, 192)  1728        block_5_expand_relu[0][0]        \n",
      "__________________________________________________________________________________________________\n",
      "block_5_depthwise_BN (BatchNorm (None, 20, 20, 192)  768         block_5_depthwise[0][0]          \n",
      "__________________________________________________________________________________________________\n",
      "block_5_depthwise_relu (ReLU)   (None, 20, 20, 192)  0           block_5_depthwise_BN[0][0]       \n",
      "__________________________________________________________________________________________________\n",
      "block_5_project (Conv2D)        (None, 20, 20, 32)   6144        block_5_depthwise_relu[0][0]     \n",
      "__________________________________________________________________________________________________\n",
      "block_5_project_BN (BatchNormal (None, 20, 20, 32)   128         block_5_project[0][0]            \n",
      "__________________________________________________________________________________________________\n",
      "block_5_add (Add)               (None, 20, 20, 32)   0           block_4_add[0][0]                \n",
      "                                                                 block_5_project_BN[0][0]         \n",
      "__________________________________________________________________________________________________\n",
      "block_6_expand (Conv2D)         (None, 20, 20, 192)  6144        block_5_add[0][0]                \n",
      "__________________________________________________________________________________________________\n",
      "block_6_expand_BN (BatchNormali (None, 20, 20, 192)  768         block_6_expand[0][0]             \n",
      "__________________________________________________________________________________________________\n",
      "block_6_expand_relu (ReLU)      (None, 20, 20, 192)  0           block_6_expand_BN[0][0]          \n",
      "__________________________________________________________________________________________________\n",
      "block_6_pad (ZeroPadding2D)     (None, 21, 21, 192)  0           block_6_expand_relu[0][0]        \n",
      "__________________________________________________________________________________________________\n",
      "block_6_depthwise (DepthwiseCon (None, 10, 10, 192)  1728        block_6_pad[0][0]                \n",
      "__________________________________________________________________________________________________\n",
      "block_6_depthwise_BN (BatchNorm (None, 10, 10, 192)  768         block_6_depthwise[0][0]          \n",
      "__________________________________________________________________________________________________\n",
      "block_6_depthwise_relu (ReLU)   (None, 10, 10, 192)  0           block_6_depthwise_BN[0][0]       \n",
      "__________________________________________________________________________________________________\n",
      "block_6_project (Conv2D)        (None, 10, 10, 64)   12288       block_6_depthwise_relu[0][0]     \n",
      "__________________________________________________________________________________________________\n",
      "block_6_project_BN (BatchNormal (None, 10, 10, 64)   256         block_6_project[0][0]            \n",
      "__________________________________________________________________________________________________\n",
      "block_7_expand (Conv2D)         (None, 10, 10, 384)  24576       block_6_project_BN[0][0]         \n",
      "__________________________________________________________________________________________________\n",
      "block_7_expand_BN (BatchNormali (None, 10, 10, 384)  1536        block_7_expand[0][0]             \n",
      "__________________________________________________________________________________________________\n",
      "block_7_expand_relu (ReLU)      (None, 10, 10, 384)  0           block_7_expand_BN[0][0]          \n",
      "__________________________________________________________________________________________________\n",
      "block_7_depthwise (DepthwiseCon (None, 10, 10, 384)  3456        block_7_expand_relu[0][0]        \n",
      "__________________________________________________________________________________________________\n",
      "block_7_depthwise_BN (BatchNorm (None, 10, 10, 384)  1536        block_7_depthwise[0][0]          \n",
      "__________________________________________________________________________________________________\n",
      "block_7_depthwise_relu (ReLU)   (None, 10, 10, 384)  0           block_7_depthwise_BN[0][0]       \n",
      "__________________________________________________________________________________________________\n",
      "block_7_project (Conv2D)        (None, 10, 10, 64)   24576       block_7_depthwise_relu[0][0]     \n",
      "__________________________________________________________________________________________________\n",
      "block_7_project_BN (BatchNormal (None, 10, 10, 64)   256         block_7_project[0][0]            \n",
      "__________________________________________________________________________________________________\n",
      "block_7_add (Add)               (None, 10, 10, 64)   0           block_6_project_BN[0][0]         \n",
      "                                                                 block_7_project_BN[0][0]         \n",
      "__________________________________________________________________________________________________\n",
      "block_8_expand (Conv2D)         (None, 10, 10, 384)  24576       block_7_add[0][0]                \n",
      "__________________________________________________________________________________________________\n",
      "block_8_expand_BN (BatchNormali (None, 10, 10, 384)  1536        block_8_expand[0][0]             \n",
      "__________________________________________________________________________________________________\n",
      "block_8_expand_relu (ReLU)      (None, 10, 10, 384)  0           block_8_expand_BN[0][0]          \n",
      "__________________________________________________________________________________________________\n",
      "block_8_depthwise (DepthwiseCon (None, 10, 10, 384)  3456        block_8_expand_relu[0][0]        \n",
      "__________________________________________________________________________________________________\n",
      "block_8_depthwise_BN (BatchNorm (None, 10, 10, 384)  1536        block_8_depthwise[0][0]          \n",
      "__________________________________________________________________________________________________\n",
      "block_8_depthwise_relu (ReLU)   (None, 10, 10, 384)  0           block_8_depthwise_BN[0][0]       \n",
      "__________________________________________________________________________________________________\n",
      "block_8_project (Conv2D)        (None, 10, 10, 64)   24576       block_8_depthwise_relu[0][0]     \n",
      "__________________________________________________________________________________________________\n",
      "block_8_project_BN (BatchNormal (None, 10, 10, 64)   256         block_8_project[0][0]            \n",
      "__________________________________________________________________________________________________\n",
      "block_8_add (Add)               (None, 10, 10, 64)   0           block_7_add[0][0]                \n",
      "                                                                 block_8_project_BN[0][0]         \n",
      "__________________________________________________________________________________________________\n",
      "block_9_expand (Conv2D)         (None, 10, 10, 384)  24576       block_8_add[0][0]                \n",
      "__________________________________________________________________________________________________\n",
      "block_9_expand_BN (BatchNormali (None, 10, 10, 384)  1536        block_9_expand[0][0]             \n",
      "__________________________________________________________________________________________________\n",
      "block_9_expand_relu (ReLU)      (None, 10, 10, 384)  0           block_9_expand_BN[0][0]          \n",
      "__________________________________________________________________________________________________\n",
      "block_9_depthwise (DepthwiseCon (None, 10, 10, 384)  3456        block_9_expand_relu[0][0]        \n",
      "__________________________________________________________________________________________________\n",
      "block_9_depthwise_BN (BatchNorm (None, 10, 10, 384)  1536        block_9_depthwise[0][0]          \n",
      "__________________________________________________________________________________________________\n",
      "block_9_depthwise_relu (ReLU)   (None, 10, 10, 384)  0           block_9_depthwise_BN[0][0]       \n",
      "__________________________________________________________________________________________________\n",
      "block_9_project (Conv2D)        (None, 10, 10, 64)   24576       block_9_depthwise_relu[0][0]     \n",
      "__________________________________________________________________________________________________\n",
      "block_9_project_BN (BatchNormal (None, 10, 10, 64)   256         block_9_project[0][0]            \n",
      "__________________________________________________________________________________________________\n",
      "block_9_add (Add)               (None, 10, 10, 64)   0           block_8_add[0][0]                \n",
      "                                                                 block_9_project_BN[0][0]         \n",
      "__________________________________________________________________________________________________\n",
      "block_10_expand (Conv2D)        (None, 10, 10, 384)  24576       block_9_add[0][0]                \n",
      "__________________________________________________________________________________________________\n",
      "block_10_expand_BN (BatchNormal (None, 10, 10, 384)  1536        block_10_expand[0][0]            \n",
      "__________________________________________________________________________________________________\n",
      "block_10_expand_relu (ReLU)     (None, 10, 10, 384)  0           block_10_expand_BN[0][0]         \n",
      "__________________________________________________________________________________________________\n",
      "block_10_depthwise (DepthwiseCo (None, 10, 10, 384)  3456        block_10_expand_relu[0][0]       \n",
      "__________________________________________________________________________________________________\n",
      "block_10_depthwise_BN (BatchNor (None, 10, 10, 384)  1536        block_10_depthwise[0][0]         \n",
      "__________________________________________________________________________________________________\n",
      "block_10_depthwise_relu (ReLU)  (None, 10, 10, 384)  0           block_10_depthwise_BN[0][0]      \n",
      "__________________________________________________________________________________________________\n",
      "block_10_project (Conv2D)       (None, 10, 10, 96)   36864       block_10_depthwise_relu[0][0]    \n",
      "__________________________________________________________________________________________________\n",
      "block_10_project_BN (BatchNorma (None, 10, 10, 96)   384         block_10_project[0][0]           \n",
      "__________________________________________________________________________________________________\n",
      "block_11_expand (Conv2D)        (None, 10, 10, 576)  55296       block_10_project_BN[0][0]        \n",
      "__________________________________________________________________________________________________\n",
      "block_11_expand_BN (BatchNormal (None, 10, 10, 576)  2304        block_11_expand[0][0]            \n",
      "__________________________________________________________________________________________________\n",
      "block_11_expand_relu (ReLU)     (None, 10, 10, 576)  0           block_11_expand_BN[0][0]         \n",
      "__________________________________________________________________________________________________\n",
      "block_11_depthwise (DepthwiseCo (None, 10, 10, 576)  5184        block_11_expand_relu[0][0]       \n",
      "__________________________________________________________________________________________________\n",
      "block_11_depthwise_BN (BatchNor (None, 10, 10, 576)  2304        block_11_depthwise[0][0]         \n",
      "__________________________________________________________________________________________________\n",
      "block_11_depthwise_relu (ReLU)  (None, 10, 10, 576)  0           block_11_depthwise_BN[0][0]      \n",
      "__________________________________________________________________________________________________\n",
      "block_11_project (Conv2D)       (None, 10, 10, 96)   55296       block_11_depthwise_relu[0][0]    \n",
      "__________________________________________________________________________________________________\n",
      "block_11_project_BN (BatchNorma (None, 10, 10, 96)   384         block_11_project[0][0]           \n",
      "__________________________________________________________________________________________________\n",
      "block_11_add (Add)              (None, 10, 10, 96)   0           block_10_project_BN[0][0]        \n",
      "                                                                 block_11_project_BN[0][0]        \n",
      "__________________________________________________________________________________________________\n",
      "block_12_expand (Conv2D)        (None, 10, 10, 576)  55296       block_11_add[0][0]               \n",
      "__________________________________________________________________________________________________\n",
      "block_12_expand_BN (BatchNormal (None, 10, 10, 576)  2304        block_12_expand[0][0]            \n",
      "__________________________________________________________________________________________________\n",
      "block_12_expand_relu (ReLU)     (None, 10, 10, 576)  0           block_12_expand_BN[0][0]         \n",
      "__________________________________________________________________________________________________\n",
      "block_12_depthwise (DepthwiseCo (None, 10, 10, 576)  5184        block_12_expand_relu[0][0]       \n",
      "__________________________________________________________________________________________________\n",
      "block_12_depthwise_BN (BatchNor (None, 10, 10, 576)  2304        block_12_depthwise[0][0]         \n",
      "__________________________________________________________________________________________________\n",
      "block_12_depthwise_relu (ReLU)  (None, 10, 10, 576)  0           block_12_depthwise_BN[0][0]      \n",
      "__________________________________________________________________________________________________\n",
      "block_12_project (Conv2D)       (None, 10, 10, 96)   55296       block_12_depthwise_relu[0][0]    \n",
      "__________________________________________________________________________________________________\n",
      "block_12_project_BN (BatchNorma (None, 10, 10, 96)   384         block_12_project[0][0]           \n",
      "__________________________________________________________________________________________________\n",
      "block_12_add (Add)              (None, 10, 10, 96)   0           block_11_add[0][0]               \n",
      "                                                                 block_12_project_BN[0][0]        \n",
      "__________________________________________________________________________________________________\n",
      "block_13_expand (Conv2D)        (None, 10, 10, 576)  55296       block_12_add[0][0]               \n",
      "__________________________________________________________________________________________________\n",
      "block_13_expand_BN (BatchNormal (None, 10, 10, 576)  2304        block_13_expand[0][0]            \n",
      "__________________________________________________________________________________________________\n",
      "block_13_expand_relu (ReLU)     (None, 10, 10, 576)  0           block_13_expand_BN[0][0]         \n",
      "__________________________________________________________________________________________________\n",
      "block_13_pad (ZeroPadding2D)    (None, 11, 11, 576)  0           block_13_expand_relu[0][0]       \n",
      "__________________________________________________________________________________________________\n",
      "block_13_depthwise (DepthwiseCo (None, 5, 5, 576)    5184        block_13_pad[0][0]               \n",
      "__________________________________________________________________________________________________\n",
      "block_13_depthwise_BN (BatchNor (None, 5, 5, 576)    2304        block_13_depthwise[0][0]         \n",
      "__________________________________________________________________________________________________\n",
      "block_13_depthwise_relu (ReLU)  (None, 5, 5, 576)    0           block_13_depthwise_BN[0][0]      \n",
      "__________________________________________________________________________________________________\n",
      "block_13_project (Conv2D)       (None, 5, 5, 160)    92160       block_13_depthwise_relu[0][0]    \n",
      "__________________________________________________________________________________________________\n",
      "block_13_project_BN (BatchNorma (None, 5, 5, 160)    640         block_13_project[0][0]           \n",
      "__________________________________________________________________________________________________\n",
      "block_14_expand (Conv2D)        (None, 5, 5, 960)    153600      block_13_project_BN[0][0]        \n",
      "__________________________________________________________________________________________________\n",
      "block_14_expand_BN (BatchNormal (None, 5, 5, 960)    3840        block_14_expand[0][0]            \n",
      "__________________________________________________________________________________________________\n",
      "block_14_expand_relu (ReLU)     (None, 5, 5, 960)    0           block_14_expand_BN[0][0]         \n",
      "__________________________________________________________________________________________________\n",
      "block_14_depthwise (DepthwiseCo (None, 5, 5, 960)    8640        block_14_expand_relu[0][0]       \n",
      "__________________________________________________________________________________________________\n",
      "block_14_depthwise_BN (BatchNor (None, 5, 5, 960)    3840        block_14_depthwise[0][0]         \n",
      "__________________________________________________________________________________________________\n",
      "block_14_depthwise_relu (ReLU)  (None, 5, 5, 960)    0           block_14_depthwise_BN[0][0]      \n",
      "__________________________________________________________________________________________________\n",
      "block_14_project (Conv2D)       (None, 5, 5, 160)    153600      block_14_depthwise_relu[0][0]    \n",
      "__________________________________________________________________________________________________\n",
      "block_14_project_BN (BatchNorma (None, 5, 5, 160)    640         block_14_project[0][0]           \n",
      "__________________________________________________________________________________________________\n",
      "block_14_add (Add)              (None, 5, 5, 160)    0           block_13_project_BN[0][0]        \n",
      "                                                                 block_14_project_BN[0][0]        \n",
      "__________________________________________________________________________________________________\n",
      "block_15_expand (Conv2D)        (None, 5, 5, 960)    153600      block_14_add[0][0]               \n",
      "__________________________________________________________________________________________________\n",
      "block_15_expand_BN (BatchNormal (None, 5, 5, 960)    3840        block_15_expand[0][0]            \n",
      "__________________________________________________________________________________________________\n",
      "block_15_expand_relu (ReLU)     (None, 5, 5, 960)    0           block_15_expand_BN[0][0]         \n",
      "__________________________________________________________________________________________________\n",
      "block_15_depthwise (DepthwiseCo (None, 5, 5, 960)    8640        block_15_expand_relu[0][0]       \n",
      "__________________________________________________________________________________________________\n",
      "block_15_depthwise_BN (BatchNor (None, 5, 5, 960)    3840        block_15_depthwise[0][0]         \n",
      "__________________________________________________________________________________________________\n",
      "block_15_depthwise_relu (ReLU)  (None, 5, 5, 960)    0           block_15_depthwise_BN[0][0]      \n",
      "__________________________________________________________________________________________________\n",
      "block_15_project (Conv2D)       (None, 5, 5, 160)    153600      block_15_depthwise_relu[0][0]    \n",
      "__________________________________________________________________________________________________\n",
      "block_15_project_BN (BatchNorma (None, 5, 5, 160)    640         block_15_project[0][0]           \n",
      "__________________________________________________________________________________________________\n",
      "block_15_add (Add)              (None, 5, 5, 160)    0           block_14_add[0][0]               \n",
      "                                                                 block_15_project_BN[0][0]        \n",
      "__________________________________________________________________________________________________\n",
      "block_16_expand (Conv2D)        (None, 5, 5, 960)    153600      block_15_add[0][0]               \n",
      "__________________________________________________________________________________________________\n",
      "block_16_expand_BN (BatchNormal (None, 5, 5, 960)    3840        block_16_expand[0][0]            \n",
      "__________________________________________________________________________________________________\n",
      "block_16_expand_relu (ReLU)     (None, 5, 5, 960)    0           block_16_expand_BN[0][0]         \n",
      "__________________________________________________________________________________________________\n",
      "block_16_depthwise (DepthwiseCo (None, 5, 5, 960)    8640        block_16_expand_relu[0][0]       \n",
      "__________________________________________________________________________________________________\n",
      "block_16_depthwise_BN (BatchNor (None, 5, 5, 960)    3840        block_16_depthwise[0][0]         \n",
      "__________________________________________________________________________________________________\n",
      "block_16_depthwise_relu (ReLU)  (None, 5, 5, 960)    0           block_16_depthwise_BN[0][0]      \n",
      "__________________________________________________________________________________________________\n",
      "block_16_project (Conv2D)       (None, 5, 5, 320)    307200      block_16_depthwise_relu[0][0]    \n",
      "__________________________________________________________________________________________________\n",
      "block_16_project_BN (BatchNorma (None, 5, 5, 320)    1280        block_16_project[0][0]           \n",
      "__________________________________________________________________________________________________\n",
      "Conv_1 (Conv2D)                 (None, 5, 5, 1280)   409600      block_16_project_BN[0][0]        \n",
      "__________________________________________________________________________________________________\n",
      "Conv_1_bn (BatchNormalization)  (None, 5, 5, 1280)   5120        Conv_1[0][0]                     \n",
      "__________________________________________________________________________________________________\n",
      "out_relu (ReLU)                 (None, 5, 5, 1280)   0           Conv_1_bn[0][0]                  \n",
      "==================================================================================================\n",
      "Total params: 2,257,984\n",
      "Trainable params: 0\n",
      "Non-trainable params: 2,257,984\n",
      "__________________________________________________________________________________________________\n"
     ]
    }
   ],
   "source": [
    "base_model.trainable = False\n",
    "# Let's take a look at the base model architecture\n",
    "base_model.summary()"
   ]
  },
  {
   "cell_type": "code",
   "execution_count": 16,
   "id": "c80edfd8",
   "metadata": {
    "execution": {
     "iopub.execute_input": "2022-06-04T07:46:40.614866Z",
     "iopub.status.busy": "2022-06-04T07:46:40.614130Z",
     "iopub.status.idle": "2022-06-04T07:46:40.628267Z",
     "shell.execute_reply": "2022-06-04T07:46:40.627233Z"
    },
    "papermill": {
     "duration": 0.033649,
     "end_time": "2022-06-04T07:46:40.630673",
     "exception": false,
     "start_time": "2022-06-04T07:46:40.597024",
     "status": "completed"
    },
    "tags": []
   },
   "outputs": [
    {
     "name": "stdout",
     "output_type": "stream",
     "text": [
      "(32, 1280)\n"
     ]
    }
   ],
   "source": [
    "global_average_layer = tf.keras.layers.GlobalAveragePooling2D()\n",
    "feature_batch_average = global_average_layer(feature_batch)\n",
    "print(feature_batch_average.shape)"
   ]
  },
  {
   "cell_type": "code",
   "execution_count": 17,
   "id": "e71b6eaf",
   "metadata": {
    "execution": {
     "iopub.execute_input": "2022-06-04T07:46:40.664392Z",
     "iopub.status.busy": "2022-06-04T07:46:40.663634Z",
     "iopub.status.idle": "2022-06-04T07:46:40.681064Z",
     "shell.execute_reply": "2022-06-04T07:46:40.680028Z"
    },
    "papermill": {
     "duration": 0.03736,
     "end_time": "2022-06-04T07:46:40.683946",
     "exception": false,
     "start_time": "2022-06-04T07:46:40.646586",
     "status": "completed"
    },
    "tags": []
   },
   "outputs": [
    {
     "name": "stdout",
     "output_type": "stream",
     "text": [
      "(32, 39)\n"
     ]
    }
   ],
   "source": [
    "prediction_layer = tf.keras.layers.Dense(num_classes)\n",
    "prediction_batch = prediction_layer(feature_batch_average)\n",
    "print(prediction_batch.shape)"
   ]
  },
  {
   "cell_type": "markdown",
   "id": "7ed79bbf",
   "metadata": {
    "papermill": {
     "duration": 0.015629,
     "end_time": "2022-06-04T07:46:40.716720",
     "exception": false,
     "start_time": "2022-06-04T07:46:40.701091",
     "status": "completed"
    },
    "tags": []
   },
   "source": [
    "# Model Architecture with Transfer Learning"
   ]
  },
  {
   "cell_type": "code",
   "execution_count": 18,
   "id": "46409e71",
   "metadata": {
    "execution": {
     "iopub.execute_input": "2022-06-04T07:46:40.750230Z",
     "iopub.status.busy": "2022-06-04T07:46:40.749370Z",
     "iopub.status.idle": "2022-06-04T07:46:41.083790Z",
     "shell.execute_reply": "2022-06-04T07:46:41.082947Z"
    },
    "papermill": {
     "duration": 0.353815,
     "end_time": "2022-06-04T07:46:41.085959",
     "exception": false,
     "start_time": "2022-06-04T07:46:40.732144",
     "status": "completed"
    },
    "tags": []
   },
   "outputs": [],
   "source": [
    "inputs = tf.keras.Input(shape=IMG_SHAPE)\n",
    "# x = data_augmentation(inputs)\n",
    "x = preprocess_input(inputs)\n",
    "x = base_model(x, training=False)\n",
    "x = global_average_layer(x)\n",
    "x = tf.keras.layers.Dropout(0.2)(x)\n",
    "outputs = prediction_layer(x)\n",
    "model = tf.keras.Model(inputs, outputs)"
   ]
  },
  {
   "cell_type": "code",
   "execution_count": 19,
   "id": "0b41f225",
   "metadata": {
    "execution": {
     "iopub.execute_input": "2022-06-04T07:46:41.119004Z",
     "iopub.status.busy": "2022-06-04T07:46:41.118651Z",
     "iopub.status.idle": "2022-06-04T07:46:41.136008Z",
     "shell.execute_reply": "2022-06-04T07:46:41.135143Z"
    },
    "papermill": {
     "duration": 0.035641,
     "end_time": "2022-06-04T07:46:41.138004",
     "exception": false,
     "start_time": "2022-06-04T07:46:41.102363",
     "status": "completed"
    },
    "tags": []
   },
   "outputs": [],
   "source": [
    "base_learning_rate = 0.0001\n",
    "model.compile(optimizer=tf.keras.optimizers.Adam(learning_rate=base_learning_rate),\n",
    "              loss=tf.keras.losses.SparseCategoricalCrossentropy(from_logits=True),\n",
    "              metrics=['accuracy'])"
   ]
  },
  {
   "cell_type": "code",
   "execution_count": 20,
   "id": "829bfa3a",
   "metadata": {
    "execution": {
     "iopub.execute_input": "2022-06-04T07:46:41.170326Z",
     "iopub.status.busy": "2022-06-04T07:46:41.169919Z",
     "iopub.status.idle": "2022-06-04T07:46:41.184379Z",
     "shell.execute_reply": "2022-06-04T07:46:41.183451Z"
    },
    "papermill": {
     "duration": 0.034483,
     "end_time": "2022-06-04T07:46:41.187657",
     "exception": false,
     "start_time": "2022-06-04T07:46:41.153174",
     "status": "completed"
    },
    "tags": []
   },
   "outputs": [
    {
     "name": "stdout",
     "output_type": "stream",
     "text": [
      "Model: \"model\"\n",
      "_________________________________________________________________\n",
      "Layer (type)                 Output Shape              Param #   \n",
      "=================================================================\n",
      "input_2 (InputLayer)         [(None, 160, 160, 3)]     0         \n",
      "_________________________________________________________________\n",
      "tf.math.truediv (TFOpLambda) (None, 160, 160, 3)       0         \n",
      "_________________________________________________________________\n",
      "tf.math.subtract (TFOpLambda (None, 160, 160, 3)       0         \n",
      "_________________________________________________________________\n",
      "mobilenetv2_1.00_160 (Functi (None, 5, 5, 1280)        2257984   \n",
      "_________________________________________________________________\n",
      "global_average_pooling2d (Gl (None, 1280)              0         \n",
      "_________________________________________________________________\n",
      "dropout (Dropout)            (None, 1280)              0         \n",
      "_________________________________________________________________\n",
      "dense (Dense)                (None, 39)                49959     \n",
      "=================================================================\n",
      "Total params: 2,307,943\n",
      "Trainable params: 49,959\n",
      "Non-trainable params: 2,257,984\n",
      "_________________________________________________________________\n"
     ]
    }
   ],
   "source": [
    "model.summary()"
   ]
  },
  {
   "cell_type": "code",
   "execution_count": 21,
   "id": "4acf6e29",
   "metadata": {
    "execution": {
     "iopub.execute_input": "2022-06-04T07:46:41.221430Z",
     "iopub.status.busy": "2022-06-04T07:46:41.220893Z",
     "iopub.status.idle": "2022-06-04T07:46:42.271106Z",
     "shell.execute_reply": "2022-06-04T07:46:42.270030Z"
    },
    "papermill": {
     "duration": 1.069222,
     "end_time": "2022-06-04T07:46:42.273225",
     "exception": false,
     "start_time": "2022-06-04T07:46:41.204003",
     "status": "completed"
    },
    "tags": []
   },
   "outputs": [
    {
     "data": {
      "image/png": "[encoded data removed]",
      "text/plain": [
       "<IPython.core.display.Image object>"
      ]
     },
     "execution_count": 21,
     "metadata": {},
     "output_type": "execute_result"
    }
   ],
   "source": [
    "tf.keras.utils.plot_model(model, to_file=\"my_model.png\", show_shapes=True)"
   ]
  },
  {
   "cell_type": "code",
   "execution_count": 22,
   "id": "20c329cc",
   "metadata": {
    "execution": {
     "iopub.execute_input": "2022-06-04T07:46:42.308846Z",
     "iopub.status.busy": "2022-06-04T07:46:42.307747Z",
     "iopub.status.idle": "2022-06-04T07:46:42.314704Z",
     "shell.execute_reply": "2022-06-04T07:46:42.313865Z"
    },
    "papermill": {
     "duration": 0.026369,
     "end_time": "2022-06-04T07:46:42.316565",
     "exception": false,
     "start_time": "2022-06-04T07:46:42.290196",
     "status": "completed"
    },
    "tags": []
   },
   "outputs": [
    {
     "data": {
      "text/plain": [
       "2"
      ]
     },
     "execution_count": 22,
     "metadata": {},
     "output_type": "execute_result"
    }
   ],
   "source": [
    "len(model.trainable_variables)"
   ]
  },
  {
   "cell_type": "code",
   "execution_count": 23,
   "id": "7bc90bdf",
   "metadata": {
    "execution": {
     "iopub.execute_input": "2022-06-04T07:46:42.351904Z",
     "iopub.status.busy": "2022-06-04T07:46:42.351504Z",
     "iopub.status.idle": "2022-06-04T07:50:05.558609Z",
     "shell.execute_reply": "2022-06-04T07:50:05.557738Z"
    },
    "papermill": {
     "duration": 203.227885,
     "end_time": "2022-06-04T07:50:05.561003",
     "exception": false,
     "start_time": "2022-06-04T07:46:42.333118",
     "status": "completed"
    },
    "tags": []
   },
   "outputs": [
    {
     "name": "stderr",
     "output_type": "stream",
     "text": [
      "Cleanup called...\n"
     ]
    },
    {
     "name": "stdout",
     "output_type": "stream",
     "text": [
      "192/192 [==============================] - 150s 93ms/step - loss: 4.3386 - accuracy: 0.0326\n"
     ]
    }
   ],
   "source": [
    "loss0, accuracy0 = model.evaluate(val_ds)"
   ]
  },
  {
   "cell_type": "code",
   "execution_count": 24,
   "id": "0fb7df3d",
   "metadata": {
    "execution": {
     "iopub.execute_input": "2022-06-04T07:50:05.621358Z",
     "iopub.status.busy": "2022-06-04T07:50:05.620548Z",
     "iopub.status.idle": "2022-06-04T08:33:58.205016Z",
     "shell.execute_reply": "2022-06-04T08:33:58.204185Z"
    },
    "papermill": {
     "duration": 2632.616583,
     "end_time": "2022-06-04T08:33:58.207094",
     "exception": false,
     "start_time": "2022-06-04T07:50:05.590511",
     "status": "completed"
    },
    "tags": []
   },
   "outputs": [
    {
     "name": "stdout",
     "output_type": "stream",
     "text": [
      "Epoch 1/20\n",
      "1270/1537 [=======================>......] - ETA: 11s - loss: 1.5114 - accuracy: 0.6198"
     ]
    },
    {
     "name": "stderr",
     "output_type": "stream",
     "text": [
      "Cleanup called...\n"
     ]
    },
    {
     "name": "stdout",
     "output_type": "stream",
     "text": [
      "1536/1537 [============================>.] - ETA: 0s - loss: 1.3608 - accuracy: 0.6577"
     ]
    },
    {
     "name": "stderr",
     "output_type": "stream",
     "text": [
      "Cleanup called...\n"
     ]
    },
    {
     "name": "stdout",
     "output_type": "stream",
     "text": [
      "1537/1537 [==============================] - 120s 76ms/step - loss: 1.3603 - accuracy: 0.6578 - val_loss: 0.5168 - val_accuracy: 0.8885\n",
      "Epoch 2/20\n",
      "1269/1537 [=======================>......] - ETA: 10s - loss: 0.4691 - accuracy: 0.8800"
     ]
    },
    {
     "name": "stderr",
     "output_type": "stream",
     "text": [
      "Cleanup called...\n"
     ]
    },
    {
     "name": "stdout",
     "output_type": "stream",
     "text": [
      "1537/1537 [==============================] - ETA: 0s - loss: 0.4525 - accuracy: 0.8836"
     ]
    },
    {
     "name": "stderr",
     "output_type": "stream",
     "text": [
      "Cleanup called...\n"
     ]
    },
    {
     "name": "stdout",
     "output_type": "stream",
     "text": [
      "1537/1537 [==============================] - 111s 72ms/step - loss: 0.4525 - accuracy: 0.8836 - val_loss: 0.3134 - val_accuracy: 0.9242\n",
      "Epoch 3/20\n",
      "1269/1537 [=======================>......] - ETA: 10s - loss: 0.3206 - accuracy: 0.9135"
     ]
    },
    {
     "name": "stderr",
     "output_type": "stream",
     "text": [
      "Cleanup called...\n"
     ]
    },
    {
     "name": "stdout",
     "output_type": "stream",
     "text": [
      "1536/1537 [============================>.] - ETA: 0s - loss: 0.3135 - accuracy: 0.9153"
     ]
    },
    {
     "name": "stderr",
     "output_type": "stream",
     "text": [
      "Cleanup called...\n"
     ]
    },
    {
     "name": "stdout",
     "output_type": "stream",
     "text": [
      "1537/1537 [==============================] - 111s 72ms/step - loss: 0.3133 - accuracy: 0.9153 - val_loss: 0.2417 - val_accuracy: 0.9382\n",
      "Epoch 4/20\n",
      "1269/1537 [=======================>......] - ETA: 10s - loss: 0.2553 - accuracy: 0.9288"
     ]
    },
    {
     "name": "stderr",
     "output_type": "stream",
     "text": [
      "Cleanup called...\n"
     ]
    },
    {
     "name": "stdout",
     "output_type": "stream",
     "text": [
      "1536/1537 [============================>.] - ETA: 0s - loss: 0.2513 - accuracy: 0.9304"
     ]
    },
    {
     "name": "stderr",
     "output_type": "stream",
     "text": [
      "Cleanup called...\n"
     ]
    },
    {
     "name": "stdout",
     "output_type": "stream",
     "text": [
      "1537/1537 [==============================] - 109s 71ms/step - loss: 0.2513 - accuracy: 0.9304 - val_loss: 0.2073 - val_accuracy: 0.9443\n",
      "Epoch 5/20\n",
      "1271/1537 [=======================>......] - ETA: 10s - loss: 0.2157 - accuracy: 0.9398"
     ]
    },
    {
     "name": "stderr",
     "output_type": "stream",
     "text": [
      "Cleanup called...\n"
     ]
    },
    {
     "name": "stdout",
     "output_type": "stream",
     "text": [
      "1537/1537 [==============================] - ETA: 0s - loss: 0.2133 - accuracy: 0.9400"
     ]
    },
    {
     "name": "stderr",
     "output_type": "stream",
     "text": [
      "Cleanup called...\n"
     ]
    },
    {
     "name": "stdout",
     "output_type": "stream",
     "text": [
      "1537/1537 [==============================] - 107s 69ms/step - loss: 0.2133 - accuracy: 0.9400 - val_loss: 0.1844 - val_accuracy: 0.9469\n",
      "Epoch 6/20\n",
      "1270/1537 [=======================>......] - ETA: 9s - loss: 0.1888 - accuracy: 0.9467"
     ]
    },
    {
     "name": "stderr",
     "output_type": "stream",
     "text": [
      "Cleanup called...\n"
     ]
    },
    {
     "name": "stdout",
     "output_type": "stream",
     "text": [
      "1537/1537 [==============================] - ETA: 0s - loss: 0.1873 - accuracy: 0.9472"
     ]
    },
    {
     "name": "stderr",
     "output_type": "stream",
     "text": [
      "Cleanup called...\n"
     ]
    },
    {
     "name": "stdout",
     "output_type": "stream",
     "text": [
      "1537/1537 [==============================] - 103s 67ms/step - loss: 0.1873 - accuracy: 0.9472 - val_loss: 0.1654 - val_accuracy: 0.9539\n",
      "Epoch 7/20\n",
      "1271/1537 [=======================>......] - ETA: 9s - loss: 0.1699 - accuracy: 0.9519"
     ]
    },
    {
     "name": "stderr",
     "output_type": "stream",
     "text": [
      "Cleanup called...\n"
     ]
    },
    {
     "name": "stdout",
     "output_type": "stream",
     "text": [
      "1537/1537 [==============================] - ETA: 0s - loss: 0.1690 - accuracy: 0.9520"
     ]
    },
    {
     "name": "stderr",
     "output_type": "stream",
     "text": [
      "Cleanup called...\n"
     ]
    },
    {
     "name": "stdout",
     "output_type": "stream",
     "text": [
      "1537/1537 [==============================] - 103s 67ms/step - loss: 0.1690 - accuracy: 0.9520 - val_loss: 0.1571 - val_accuracy: 0.9528\n",
      "Epoch 8/20\n",
      "1270/1537 [=======================>......] - ETA: 9s - loss: 0.1559 - accuracy: 0.9563"
     ]
    },
    {
     "name": "stderr",
     "output_type": "stream",
     "text": [
      "Cleanup called...\n"
     ]
    },
    {
     "name": "stdout",
     "output_type": "stream",
     "text": [
      "1536/1537 [============================>.] - ETA: 0s - loss: 0.1554 - accuracy: 0.9563"
     ]
    },
    {
     "name": "stderr",
     "output_type": "stream",
     "text": [
      "Cleanup called...\n"
     ]
    },
    {
     "name": "stdout",
     "output_type": "stream",
     "text": [
      "1537/1537 [==============================] - 105s 68ms/step - loss: 0.1555 - accuracy: 0.9562 - val_loss: 0.1452 - val_accuracy: 0.9572\n",
      "Epoch 9/20\n",
      "1270/1537 [=======================>......] - ETA: 9s - loss: 0.1455 - accuracy: 0.9580"
     ]
    },
    {
     "name": "stderr",
     "output_type": "stream",
     "text": [
      "Cleanup called...\n"
     ]
    },
    {
     "name": "stdout",
     "output_type": "stream",
     "text": [
      "1536/1537 [============================>.] - ETA: 0s - loss: 0.1444 - accuracy: 0.9583"
     ]
    },
    {
     "name": "stderr",
     "output_type": "stream",
     "text": [
      "Cleanup called...\n"
     ]
    },
    {
     "name": "stdout",
     "output_type": "stream",
     "text": [
      "1537/1537 [==============================] - 103s 67ms/step - loss: 0.1444 - accuracy: 0.9583 - val_loss: 0.1373 - val_accuracy: 0.9585\n",
      "Epoch 10/20\n",
      "1270/1537 [=======================>......] - ETA: 9s - loss: 0.1358 - accuracy: 0.9616"
     ]
    },
    {
     "name": "stderr",
     "output_type": "stream",
     "text": [
      "Cleanup called...\n"
     ]
    },
    {
     "name": "stdout",
     "output_type": "stream",
     "text": [
      "1536/1537 [============================>.] - ETA: 0s - loss: 0.1349 - accuracy: 0.9619"
     ]
    },
    {
     "name": "stderr",
     "output_type": "stream",
     "text": [
      "Cleanup called...\n"
     ]
    },
    {
     "name": "stdout",
     "output_type": "stream",
     "text": [
      "1537/1537 [==============================] - 104s 68ms/step - loss: 0.1349 - accuracy: 0.9619 - val_loss: 0.1320 - val_accuracy: 0.9600\n",
      "Epoch 11/20\n",
      "1270/1537 [=======================>......] - ETA: 9s - loss: 0.1281 - accuracy: 0.9631"
     ]
    },
    {
     "name": "stderr",
     "output_type": "stream",
     "text": [
      "Cleanup called...\n"
     ]
    },
    {
     "name": "stdout",
     "output_type": "stream",
     "text": [
      "1537/1537 [==============================] - ETA: 0s - loss: 0.1272 - accuracy: 0.9635"
     ]
    },
    {
     "name": "stderr",
     "output_type": "stream",
     "text": [
      "Cleanup called...\n"
     ]
    },
    {
     "name": "stdout",
     "output_type": "stream",
     "text": [
      "1537/1537 [==============================] - 105s 68ms/step - loss: 0.1272 - accuracy: 0.9635 - val_loss: 0.1268 - val_accuracy: 0.9621\n",
      "Epoch 12/20\n",
      "1270/1537 [=======================>......] - ETA: 9s - loss: 0.1195 - accuracy: 0.9656"
     ]
    },
    {
     "name": "stderr",
     "output_type": "stream",
     "text": [
      "Cleanup called...\n"
     ]
    },
    {
     "name": "stdout",
     "output_type": "stream",
     "text": [
      "1536/1537 [============================>.] - ETA: 0s - loss: 0.1187 - accuracy: 0.9657"
     ]
    },
    {
     "name": "stderr",
     "output_type": "stream",
     "text": [
      "Cleanup called...\n"
     ]
    },
    {
     "name": "stdout",
     "output_type": "stream",
     "text": [
      "1537/1537 [==============================] - 102s 66ms/step - loss: 0.1187 - accuracy: 0.9657 - val_loss: 0.1232 - val_accuracy: 0.9629\n",
      "Epoch 13/20\n",
      "1270/1537 [=======================>......] - ETA: 9s - loss: 0.1152 - accuracy: 0.9664"
     ]
    },
    {
     "name": "stderr",
     "output_type": "stream",
     "text": [
      "Cleanup called...\n"
     ]
    },
    {
     "name": "stdout",
     "output_type": "stream",
     "text": [
      "1536/1537 [============================>.] - ETA: 0s - loss: 0.1150 - accuracy: 0.9663"
     ]
    },
    {
     "name": "stderr",
     "output_type": "stream",
     "text": [
      "Cleanup called...\n"
     ]
    },
    {
     "name": "stdout",
     "output_type": "stream",
     "text": [
      "1537/1537 [==============================] - 103s 67ms/step - loss: 0.1150 - accuracy: 0.9663 - val_loss: 0.1197 - val_accuracy: 0.9637\n",
      "Epoch 14/20\n",
      "1268/1537 [=======================>......] - ETA: 9s - loss: 0.1114 - accuracy: 0.9677 "
     ]
    },
    {
     "name": "stderr",
     "output_type": "stream",
     "text": [
      "Cleanup called...\n"
     ]
    },
    {
     "name": "stdout",
     "output_type": "stream",
     "text": [
      "1537/1537 [==============================] - ETA: 0s - loss: 0.1105 - accuracy: 0.9679"
     ]
    },
    {
     "name": "stderr",
     "output_type": "stream",
     "text": [
      "Cleanup called...\n"
     ]
    },
    {
     "name": "stdout",
     "output_type": "stream",
     "text": [
      "1537/1537 [==============================] - 109s 71ms/step - loss: 0.1105 - accuracy: 0.9679 - val_loss: 0.1164 - val_accuracy: 0.9645\n",
      "Epoch 15/20\n",
      "1270/1537 [=======================>......] - ETA: 9s - loss: 0.1067 - accuracy: 0.9695"
     ]
    },
    {
     "name": "stderr",
     "output_type": "stream",
     "text": [
      "Cleanup called...\n"
     ]
    },
    {
     "name": "stdout",
     "output_type": "stream",
     "text": [
      "1536/1537 [============================>.] - ETA: 0s - loss: 0.1067 - accuracy: 0.9696"
     ]
    },
    {
     "name": "stderr",
     "output_type": "stream",
     "text": [
      "Cleanup called...\n"
     ]
    },
    {
     "name": "stdout",
     "output_type": "stream",
     "text": [
      "1537/1537 [==============================] - 105s 68ms/step - loss: 0.1067 - accuracy: 0.9696 - val_loss: 0.1135 - val_accuracy: 0.9653\n",
      "Epoch 16/20\n",
      "1271/1537 [=======================>......] - ETA: 9s - loss: 0.1033 - accuracy: 0.9695"
     ]
    },
    {
     "name": "stderr",
     "output_type": "stream",
     "text": [
      "Cleanup called...\n"
     ]
    },
    {
     "name": "stdout",
     "output_type": "stream",
     "text": [
      "1537/1537 [==============================] - ETA: 0s - loss: 0.1031 - accuracy: 0.9696"
     ]
    },
    {
     "name": "stderr",
     "output_type": "stream",
     "text": [
      "Cleanup called...\n"
     ]
    },
    {
     "name": "stdout",
     "output_type": "stream",
     "text": [
      "1537/1537 [==============================] - 105s 68ms/step - loss: 0.1031 - accuracy: 0.9696 - val_loss: 0.1097 - val_accuracy: 0.9661\n",
      "Epoch 17/20\n",
      "1268/1537 [=======================>......] - ETA: 9s - loss: 0.0976 - accuracy: 0.9722"
     ]
    },
    {
     "name": "stderr",
     "output_type": "stream",
     "text": [
      "Cleanup called...\n"
     ]
    },
    {
     "name": "stdout",
     "output_type": "stream",
     "text": [
      "1536/1537 [============================>.] - ETA: 0s - loss: 0.0983 - accuracy: 0.9719"
     ]
    },
    {
     "name": "stderr",
     "output_type": "stream",
     "text": [
      "Cleanup called...\n"
     ]
    },
    {
     "name": "stdout",
     "output_type": "stream",
     "text": [
      "1537/1537 [==============================] - 103s 67ms/step - loss: 0.0983 - accuracy: 0.9719 - val_loss: 0.1078 - val_accuracy: 0.9665\n",
      "Epoch 18/20\n",
      "1271/1537 [=======================>......] - ETA: 9s - loss: 0.0961 - accuracy: 0.9722"
     ]
    },
    {
     "name": "stderr",
     "output_type": "stream",
     "text": [
      "Cleanup called...\n"
     ]
    },
    {
     "name": "stdout",
     "output_type": "stream",
     "text": [
      "1536/1537 [============================>.] - ETA: 0s - loss: 0.0966 - accuracy: 0.9722"
     ]
    },
    {
     "name": "stderr",
     "output_type": "stream",
     "text": [
      "Cleanup called...\n"
     ]
    },
    {
     "name": "stdout",
     "output_type": "stream",
     "text": [
      "1537/1537 [==============================] - 104s 67ms/step - loss: 0.0965 - accuracy: 0.9722 - val_loss: 0.1061 - val_accuracy: 0.9674\n",
      "Epoch 19/20\n",
      "1271/1537 [=======================>......] - ETA: 9s - loss: 0.0918 - accuracy: 0.9731"
     ]
    },
    {
     "name": "stderr",
     "output_type": "stream",
     "text": [
      "Cleanup called...\n"
     ]
    },
    {
     "name": "stdout",
     "output_type": "stream",
     "text": [
      "1537/1537 [==============================] - ETA: 0s - loss: 0.0917 - accuracy: 0.9734"
     ]
    },
    {
     "name": "stderr",
     "output_type": "stream",
     "text": [
      "Cleanup called...\n"
     ]
    },
    {
     "name": "stdout",
     "output_type": "stream",
     "text": [
      "1537/1537 [==============================] - 109s 71ms/step - loss: 0.0917 - accuracy: 0.9734 - val_loss: 0.1064 - val_accuracy: 0.9673\n",
      "Epoch 20/20\n",
      "1270/1537 [=======================>......] - ETA: 10s - loss: 0.0913 - accuracy: 0.9731"
     ]
    },
    {
     "name": "stderr",
     "output_type": "stream",
     "text": [
      "Cleanup called...\n"
     ]
    },
    {
     "name": "stdout",
     "output_type": "stream",
     "text": [
      "1536/1537 [============================>.] - ETA: 0s - loss: 0.0909 - accuracy: 0.9732"
     ]
    },
    {
     "name": "stderr",
     "output_type": "stream",
     "text": [
      "Cleanup called...\n"
     ]
    },
    {
     "name": "stdout",
     "output_type": "stream",
     "text": [
      "1537/1537 [==============================] - 111s 72ms/step - loss: 0.0909 - accuracy: 0.9732 - val_loss: 0.1046 - val_accuracy: 0.9676\n"
     ]
    }
   ],
   "source": [
    "history = model.fit(\n",
    "  train_ds,\n",
    "  validation_data=val_ds,\n",
    "  epochs=EPOCHS,\n",
    "#   callbacks=[early_stop_callback]\n",
    ")"
   ]
  },
  {
   "cell_type": "markdown",
   "id": "e01aadbe",
   "metadata": {
    "papermill": {
     "duration": 1.072457,
     "end_time": "2022-06-04T08:34:00.312202",
     "exception": false,
     "start_time": "2022-06-04T08:33:59.239745",
     "status": "completed"
    },
    "tags": []
   },
   "source": [
    "# Plot Train and Validation Accuracy and Loss"
   ]
  },
  {
   "cell_type": "code",
   "execution_count": 25,
   "id": "ebc37a43",
   "metadata": {
    "execution": {
     "iopub.execute_input": "2022-06-04T08:34:02.463794Z",
     "iopub.status.busy": "2022-06-04T08:34:02.463317Z",
     "iopub.status.idle": "2022-06-04T08:34:02.831847Z",
     "shell.execute_reply": "2022-06-04T08:34:02.831042Z"
    },
    "papermill": {
     "duration": 1.440342,
     "end_time": "2022-06-04T08:34:02.833948",
     "exception": false,
     "start_time": "2022-06-04T08:34:01.393606",
     "status": "completed"
    },
    "tags": []
   },
   "outputs": [
    {
     "data": {
      "image/png": "[encoded data removed]",
      "text/plain": [
       "<Figure size 576x576 with 2 Axes>"
      ]
     },
     "metadata": {
      "needs_background": "light"
     },
     "output_type": "display_data"
    }
   ],
   "source": [
    "acc = history.history['accuracy']\n",
    "val_acc = history.history['val_accuracy']\n",
    "\n",
    "loss = history.history['loss']\n",
    "val_loss = history.history['val_loss']\n",
    "\n",
    "plt.figure(figsize=(8, 8))\n",
    "plt.subplot(2, 1, 1)\n",
    "plt.plot(acc, label='Training Accuracy')\n",
    "plt.plot(val_acc, label='Validation Accuracy')\n",
    "plt.legend(loc='lower right')\n",
    "plt.ylabel('Accuracy')\n",
    "plt.ylim([min(plt.ylim()),1])\n",
    "plt.title('Training and Validation Accuracy')\n",
    "\n",
    "plt.subplot(2, 1, 2)\n",
    "plt.plot(loss, label='Training Loss')\n",
    "plt.plot(val_loss, label='Validation Loss')\n",
    "plt.legend(loc='upper right')\n",
    "plt.ylabel('Cross Entropy')\n",
    "plt.ylim([0,1.0])\n",
    "plt.title('Training and Validation Loss')\n",
    "plt.xlabel('epoch')\n",
    "plt.show()"
   ]
  },
  {
   "cell_type": "markdown",
   "id": "2102276a",
   "metadata": {
    "papermill": {
     "duration": 1.113835,
     "end_time": "2022-06-04T08:34:05.369736",
     "exception": false,
     "start_time": "2022-06-04T08:34:04.255901",
     "status": "completed"
    },
    "tags": []
   },
   "source": [
    "# Now fine tune the model "
   ]
  },
  {
   "cell_type": "code",
   "execution_count": 26,
   "id": "86aae28d",
   "metadata": {
    "execution": {
     "iopub.execute_input": "2022-06-04T08:34:07.645296Z",
     "iopub.status.busy": "2022-06-04T08:34:07.644750Z",
     "iopub.status.idle": "2022-06-04T08:34:07.657143Z",
     "shell.execute_reply": "2022-06-04T08:34:07.656356Z"
    },
    "papermill": {
     "duration": 1.149553,
     "end_time": "2022-06-04T08:34:07.659154",
     "exception": false,
     "start_time": "2022-06-04T08:34:06.509601",
     "status": "completed"
    },
    "tags": []
   },
   "outputs": [],
   "source": [
    "base_model.trainable = True"
   ]
  },
  {
   "cell_type": "code",
   "execution_count": 27,
   "id": "85c4affb",
   "metadata": {
    "execution": {
     "iopub.execute_input": "2022-06-04T08:34:10.059620Z",
     "iopub.status.busy": "2022-06-04T08:34:10.059072Z",
     "iopub.status.idle": "2022-06-04T08:34:10.069465Z",
     "shell.execute_reply": "2022-06-04T08:34:10.068450Z"
    },
    "papermill": {
     "duration": 1.194516,
     "end_time": "2022-06-04T08:34:10.073406",
     "exception": false,
     "start_time": "2022-06-04T08:34:08.878890",
     "status": "completed"
    },
    "tags": []
   },
   "outputs": [
    {
     "name": "stdout",
     "output_type": "stream",
     "text": [
      "Number of layers in the base model:  154\n"
     ]
    }
   ],
   "source": [
    "# Let's take a look to see how many layers are in the base model\n",
    "print(\"Number of layers in the base model: \", len(base_model.layers))\n",
    "\n",
    "# Fine-tune from this layer onwards\n",
    "fine_tune_at = 100\n",
    "\n",
    "# Freeze all the layers before the `fine_tune_at` layer\n",
    "for layer in base_model.layers[:fine_tune_at]:\n",
    "    layer.trainable = False"
   ]
  },
  {
   "cell_type": "code",
   "execution_count": 28,
   "id": "d3d1422e",
   "metadata": {
    "execution": {
     "iopub.execute_input": "2022-06-04T08:34:12.463486Z",
     "iopub.status.busy": "2022-06-04T08:34:12.462880Z",
     "iopub.status.idle": "2022-06-04T08:34:12.478687Z",
     "shell.execute_reply": "2022-06-04T08:34:12.477840Z"
    },
    "papermill": {
     "duration": 1.179801,
     "end_time": "2022-06-04T08:34:12.480701",
     "exception": false,
     "start_time": "2022-06-04T08:34:11.300900",
     "status": "completed"
    },
    "tags": []
   },
   "outputs": [],
   "source": [
    "model.compile(loss=tf.keras.losses.SparseCategoricalCrossentropy(from_logits=True),\n",
    "              optimizer = tf.keras.optimizers.RMSprop(learning_rate=base_learning_rate/10),\n",
    "              metrics=['accuracy'])"
   ]
  },
  {
   "cell_type": "code",
   "execution_count": 29,
   "id": "0af038be",
   "metadata": {
    "execution": {
     "iopub.execute_input": "2022-06-04T08:34:15.158201Z",
     "iopub.status.busy": "2022-06-04T08:34:15.157720Z",
     "iopub.status.idle": "2022-06-04T08:34:15.174146Z",
     "shell.execute_reply": "2022-06-04T08:34:15.173278Z"
    },
    "papermill": {
     "duration": 1.453282,
     "end_time": "2022-06-04T08:34:15.178704",
     "exception": false,
     "start_time": "2022-06-04T08:34:13.725422",
     "status": "completed"
    },
    "tags": []
   },
   "outputs": [
    {
     "name": "stdout",
     "output_type": "stream",
     "text": [
      "Model: \"model\"\n",
      "_________________________________________________________________\n",
      "Layer (type)                 Output Shape              Param #   \n",
      "=================================================================\n",
      "input_2 (InputLayer)         [(None, 160, 160, 3)]     0         \n",
      "_________________________________________________________________\n",
      "tf.math.truediv (TFOpLambda) (None, 160, 160, 3)       0         \n",
      "_________________________________________________________________\n",
      "tf.math.subtract (TFOpLambda (None, 160, 160, 3)       0         \n",
      "_________________________________________________________________\n",
      "mobilenetv2_1.00_160 (Functi (None, 5, 5, 1280)        2257984   \n",
      "_________________________________________________________________\n",
      "global_average_pooling2d (Gl (None, 1280)              0         \n",
      "_________________________________________________________________\n",
      "dropout (Dropout)            (None, 1280)              0         \n",
      "_________________________________________________________________\n",
      "dense (Dense)                (None, 39)                49959     \n",
      "=================================================================\n",
      "Total params: 2,307,943\n",
      "Trainable params: 1,911,399\n",
      "Non-trainable params: 396,544\n",
      "_________________________________________________________________\n"
     ]
    }
   ],
   "source": [
    "model.summary()"
   ]
  },
  {
   "cell_type": "code",
   "execution_count": 30,
   "id": "cf354634",
   "metadata": {
    "execution": {
     "iopub.execute_input": "2022-06-04T08:34:17.528325Z",
     "iopub.status.busy": "2022-06-04T08:34:17.527774Z",
     "iopub.status.idle": "2022-06-04T08:34:17.534577Z",
     "shell.execute_reply": "2022-06-04T08:34:17.533765Z"
    },
    "papermill": {
     "duration": 1.136876,
     "end_time": "2022-06-04T08:34:17.536648",
     "exception": false,
     "start_time": "2022-06-04T08:34:16.399772",
     "status": "completed"
    },
    "tags": []
   },
   "outputs": [
    {
     "data": {
      "text/plain": [
       "56"
      ]
     },
     "execution_count": 30,
     "metadata": {},
     "output_type": "execute_result"
    }
   ],
   "source": [
    "len(model.trainable_variables)"
   ]
  },
  {
   "cell_type": "code",
   "execution_count": 31,
   "id": "e682c2c6",
   "metadata": {
    "execution": {
     "iopub.execute_input": "2022-06-04T08:34:19.895026Z",
     "iopub.status.busy": "2022-06-04T08:34:19.894544Z",
     "iopub.status.idle": "2022-06-04T08:59:14.924984Z",
     "shell.execute_reply": "2022-06-04T08:59:14.924168Z"
    },
    "papermill": {
     "duration": 1496.20324,
     "end_time": "2022-06-04T08:59:14.927011",
     "exception": false,
     "start_time": "2022-06-04T08:34:18.723771",
     "status": "completed"
    },
    "tags": []
   },
   "outputs": [
    {
     "name": "stdout",
     "output_type": "stream",
     "text": [
      "Epoch 20/30\n",
      "1267/1537 [=======================>......] - ETA: 12s - loss: 0.0838 - accuracy: 0.9722"
     ]
    },
    {
     "name": "stderr",
     "output_type": "stream",
     "text": [
      "Cleanup called...\n"
     ]
    },
    {
     "name": "stdout",
     "output_type": "stream",
     "text": [
      "1537/1537 [==============================] - ETA: 0s - loss: 0.0815 - accuracy: 0.9728"
     ]
    },
    {
     "name": "stderr",
     "output_type": "stream",
     "text": [
      "Cleanup called...\n"
     ]
    },
    {
     "name": "stdout",
     "output_type": "stream",
     "text": [
      "1537/1537 [==============================] - 129s 80ms/step - loss: 0.0815 - accuracy: 0.9728 - val_loss: 0.0950 - val_accuracy: 0.9678\n",
      "Epoch 21/30\n",
      "1268/1537 [=======================>......] - ETA: 12s - loss: 0.0572 - accuracy: 0.9805"
     ]
    },
    {
     "name": "stderr",
     "output_type": "stream",
     "text": [
      "Cleanup called...\n"
     ]
    },
    {
     "name": "stdout",
     "output_type": "stream",
     "text": [
      "1537/1537 [==============================] - ETA: 0s - loss: 0.0557 - accuracy: 0.9811"
     ]
    },
    {
     "name": "stderr",
     "output_type": "stream",
     "text": [
      "Cleanup called...\n"
     ]
    },
    {
     "name": "stdout",
     "output_type": "stream",
     "text": [
      "1537/1537 [==============================] - 125s 81ms/step - loss: 0.0557 - accuracy: 0.9811 - val_loss: 0.0609 - val_accuracy: 0.9785\n",
      "Epoch 22/30\n",
      "1268/1537 [=======================>......] - ETA: 12s - loss: 0.0401 - accuracy: 0.9866"
     ]
    },
    {
     "name": "stderr",
     "output_type": "stream",
     "text": [
      "Cleanup called...\n"
     ]
    },
    {
     "name": "stdout",
     "output_type": "stream",
     "text": [
      "1536/1537 [============================>.] - ETA: 0s - loss: 0.0397 - accuracy: 0.9865"
     ]
    },
    {
     "name": "stderr",
     "output_type": "stream",
     "text": [
      "Cleanup called...\n"
     ]
    },
    {
     "name": "stdout",
     "output_type": "stream",
     "text": [
      "1537/1537 [==============================] - 123s 80ms/step - loss: 0.0397 - accuracy: 0.9865 - val_loss: 0.0620 - val_accuracy: 0.9787\n",
      "Epoch 23/30\n",
      "1268/1537 [=======================>......] - ETA: 11s - loss: 0.0294 - accuracy: 0.9901"
     ]
    },
    {
     "name": "stderr",
     "output_type": "stream",
     "text": [
      "Cleanup called...\n"
     ]
    },
    {
     "name": "stdout",
     "output_type": "stream",
     "text": [
      "1537/1537 [==============================] - ETA: 0s - loss: 0.0291 - accuracy: 0.9902"
     ]
    },
    {
     "name": "stderr",
     "output_type": "stream",
     "text": [
      "Cleanup called...\n"
     ]
    },
    {
     "name": "stdout",
     "output_type": "stream",
     "text": [
      "1537/1537 [==============================] - 123s 80ms/step - loss: 0.0291 - accuracy: 0.9902 - val_loss: 0.0582 - val_accuracy: 0.9800\n",
      "Epoch 24/30\n",
      "1268/1537 [=======================>......] - ETA: 13s - loss: 0.0215 - accuracy: 0.9930"
     ]
    },
    {
     "name": "stderr",
     "output_type": "stream",
     "text": [
      "Cleanup called...\n"
     ]
    },
    {
     "name": "stdout",
     "output_type": "stream",
     "text": [
      "1536/1537 [============================>.] - ETA: 0s - loss: 0.0211 - accuracy: 0.9931"
     ]
    },
    {
     "name": "stderr",
     "output_type": "stream",
     "text": [
      "Cleanup called...\n"
     ]
    },
    {
     "name": "stdout",
     "output_type": "stream",
     "text": [
      "1537/1537 [==============================] - 133s 86ms/step - loss: 0.0211 - accuracy: 0.9931 - val_loss: 0.0553 - val_accuracy: 0.9814\n",
      "Epoch 25/30\n",
      "1268/1537 [=======================>......] - ETA: 12s - loss: 0.0160 - accuracy: 0.9948"
     ]
    },
    {
     "name": "stderr",
     "output_type": "stream",
     "text": [
      "Cleanup called...\n"
     ]
    },
    {
     "name": "stdout",
     "output_type": "stream",
     "text": [
      "1537/1537 [==============================] - ETA: 0s - loss: 0.0160 - accuracy: 0.9947"
     ]
    },
    {
     "name": "stderr",
     "output_type": "stream",
     "text": [
      "Cleanup called...\n"
     ]
    },
    {
     "name": "stdout",
     "output_type": "stream",
     "text": [
      "1537/1537 [==============================] - 128s 83ms/step - loss: 0.0160 - accuracy: 0.9947 - val_loss: 0.0507 - val_accuracy: 0.9836\n",
      "Epoch 26/30\n",
      "1268/1537 [=======================>......] - ETA: 12s - loss: 0.0124 - accuracy: 0.9959"
     ]
    },
    {
     "name": "stderr",
     "output_type": "stream",
     "text": [
      "Cleanup called...\n"
     ]
    },
    {
     "name": "stdout",
     "output_type": "stream",
     "text": [
      "1537/1537 [==============================] - ETA: 0s - loss: 0.0120 - accuracy: 0.9961"
     ]
    },
    {
     "name": "stderr",
     "output_type": "stream",
     "text": [
      "Cleanup called...\n"
     ]
    },
    {
     "name": "stdout",
     "output_type": "stream",
     "text": [
      "1537/1537 [==============================] - 124s 81ms/step - loss: 0.0120 - accuracy: 0.9961 - val_loss: 0.0498 - val_accuracy: 0.9844\n",
      "Epoch 27/30\n",
      "1268/1537 [=======================>......] - ETA: 12s - loss: 0.0103 - accuracy: 0.9967"
     ]
    },
    {
     "name": "stderr",
     "output_type": "stream",
     "text": [
      "Cleanup called...\n"
     ]
    },
    {
     "name": "stdout",
     "output_type": "stream",
     "text": [
      "1537/1537 [==============================] - ETA: 0s - loss: 0.0100 - accuracy: 0.9967"
     ]
    },
    {
     "name": "stderr",
     "output_type": "stream",
     "text": [
      "Cleanup called...\n"
     ]
    },
    {
     "name": "stdout",
     "output_type": "stream",
     "text": [
      "1537/1537 [==============================] - 119s 77ms/step - loss: 0.0100 - accuracy: 0.9967 - val_loss: 0.0552 - val_accuracy: 0.9824\n",
      "Epoch 28/30\n",
      "1269/1537 [=======================>......] - ETA: 11s - loss: 0.0076 - accuracy: 0.9976"
     ]
    },
    {
     "name": "stderr",
     "output_type": "stream",
     "text": [
      "Cleanup called...\n"
     ]
    },
    {
     "name": "stdout",
     "output_type": "stream",
     "text": [
      "1536/1537 [============================>.] - ETA: 0s - loss: 0.0074 - accuracy: 0.9977"
     ]
    },
    {
     "name": "stderr",
     "output_type": "stream",
     "text": [
      "Cleanup called...\n"
     ]
    },
    {
     "name": "stdout",
     "output_type": "stream",
     "text": [
      "1537/1537 [==============================] - 117s 76ms/step - loss: 0.0074 - accuracy: 0.9977 - val_loss: 0.0416 - val_accuracy: 0.9868\n",
      "Epoch 29/30\n",
      "1270/1537 [=======================>......] - ETA: 11s - loss: 0.0059 - accuracy: 0.9982"
     ]
    },
    {
     "name": "stderr",
     "output_type": "stream",
     "text": [
      "Cleanup called...\n"
     ]
    },
    {
     "name": "stdout",
     "output_type": "stream",
     "text": [
      "1536/1537 [============================>.] - ETA: 0s - loss: 0.0058 - accuracy: 0.9982"
     ]
    },
    {
     "name": "stderr",
     "output_type": "stream",
     "text": [
      "Cleanup called...\n"
     ]
    },
    {
     "name": "stdout",
     "output_type": "stream",
     "text": [
      "1537/1537 [==============================] - 116s 75ms/step - loss: 0.0058 - accuracy: 0.9982 - val_loss: 0.0434 - val_accuracy: 0.9868\n",
      "Epoch 30/30\n",
      "1270/1537 [=======================>......] - ETA: 11s - loss: 0.0046 - accuracy: 0.9986"
     ]
    },
    {
     "name": "stderr",
     "output_type": "stream",
     "text": [
      "Cleanup called...\n"
     ]
    },
    {
     "name": "stdout",
     "output_type": "stream",
     "text": [
      "1537/1537 [==============================] - ETA: 0s - loss: 0.0047 - accuracy: 0.9986"
     ]
    },
    {
     "name": "stderr",
     "output_type": "stream",
     "text": [
      "Cleanup called...\n"
     ]
    },
    {
     "name": "stdout",
     "output_type": "stream",
     "text": [
      "1537/1537 [==============================] - 120s 78ms/step - loss: 0.0047 - accuracy: 0.9986 - val_loss: 0.0511 - val_accuracy: 0.9852\n"
     ]
    }
   ],
   "source": [
    "fine_tune_epochs = 30\n",
    "\n",
    "history_fine = model.fit(train_ds,\n",
    "                         epochs=fine_tune_epochs,\n",
    "                         initial_epoch=history.epoch[-1],\n",
    "                         validation_data=val_ds)"
   ]
  },
  {
   "cell_type": "markdown",
   "id": "4bef0d09",
   "metadata": {
    "papermill": {
     "duration": 1.606922,
     "end_time": "2022-06-04T08:59:18.216113",
     "exception": false,
     "start_time": "2022-06-04T08:59:16.609191",
     "status": "completed"
    },
    "tags": []
   },
   "source": [
    "# Plot all losses and accuracies together"
   ]
  },
  {
   "cell_type": "code",
   "execution_count": 32,
   "id": "9f8d3dfb",
   "metadata": {
    "execution": {
     "iopub.execute_input": "2022-06-04T08:59:21.901032Z",
     "iopub.status.busy": "2022-06-04T08:59:21.900659Z",
     "iopub.status.idle": "2022-06-04T08:59:21.905970Z",
     "shell.execute_reply": "2022-06-04T08:59:21.904916Z"
    },
    "papermill": {
     "duration": 1.990834,
     "end_time": "2022-06-04T08:59:21.908205",
     "exception": false,
     "start_time": "2022-06-04T08:59:19.917371",
     "status": "completed"
    },
    "tags": []
   },
   "outputs": [],
   "source": [
    "acc += history_fine.history['accuracy']\n",
    "val_acc += history_fine.history['val_accuracy']\n",
    "\n",
    "loss += history_fine.history['loss']\n",
    "val_loss += history_fine.history['val_loss']"
   ]
  },
  {
   "cell_type": "code",
   "execution_count": 33,
   "id": "75bb5059",
   "metadata": {
    "execution": {
     "iopub.execute_input": "2022-06-04T08:59:25.283245Z",
     "iopub.status.busy": "2022-06-04T08:59:25.282899Z",
     "iopub.status.idle": "2022-06-04T08:59:25.624838Z",
     "shell.execute_reply": "2022-06-04T08:59:25.624066Z"
    },
    "papermill": {
     "duration": 2.025895,
     "end_time": "2022-06-04T08:59:25.626809",
     "exception": false,
     "start_time": "2022-06-04T08:59:23.600914",
     "status": "completed"
    },
    "tags": []
   },
   "outputs": [
    {
     "data": {
      "image/png": "[encoded data removed]",
      "text/plain": [
       "<Figure size 576x576 with 2 Axes>"
      ]
     },
     "metadata": {
      "needs_background": "light"
     },
     "output_type": "display_data"
    }
   ],
   "source": [
    "plt.figure(figsize=(8, 8))\n",
    "plt.subplot(2, 1, 1)\n",
    "plt.plot(acc, label='Training Accuracy')\n",
    "plt.plot(val_acc, label='Validation Accuracy')\n",
    "plt.ylim([0.8, 1])\n",
    "plt.plot([EPOCHS-1,EPOCHS-1],\n",
    "          plt.ylim(), label='Start Fine Tuning')\n",
    "plt.legend(loc='lower right')\n",
    "plt.title('Training and Validation Accuracy')\n",
    "\n",
    "plt.subplot(2, 1, 2)\n",
    "plt.plot(loss, label='Training Loss')\n",
    "plt.plot(val_loss, label='Validation Loss')\n",
    "plt.ylim([0, 1.0])\n",
    "plt.plot([EPOCHS-1,EPOCHS-1],\n",
    "         plt.ylim(), label='Start Fine Tuning')\n",
    "plt.legend(loc='upper right')\n",
    "plt.title('Training and Validation Loss')\n",
    "plt.xlabel('epoch')\n",
    "plt.show()"
   ]
  },
  {
   "cell_type": "code",
   "execution_count": 34,
   "id": "81706b61",
   "metadata": {
    "execution": {
     "iopub.execute_input": "2022-06-04T08:59:29.049695Z",
     "iopub.status.busy": "2022-06-04T08:59:29.049355Z",
     "iopub.status.idle": "2022-06-04T09:00:37.939918Z",
     "shell.execute_reply": "2022-06-04T09:00:37.938999Z"
    },
    "papermill": {
     "duration": 70.573401,
     "end_time": "2022-06-04T09:00:37.942050",
     "exception": false,
     "start_time": "2022-06-04T08:59:27.368649",
     "status": "completed"
    },
    "tags": []
   },
   "outputs": [
    {
     "name": "stderr",
     "output_type": "stream",
     "text": [
      "Cleanup called...\n"
     ]
    }
   ],
   "source": [
    "y_true, y_pred = [], []\n",
    "for image_batch, labels in test_ds:\n",
    "    predictions = model.predict_on_batch(image_batch)\n",
    "    scores = tf.nn.softmax(predictions, axis=1)\n",
    "    score = tf.nn.softmax(predictions[0])\n",
    "    for label, score in zip(labels, scores):\n",
    "        y_true.append(class_names[label])\n",
    "        y_pred.append(class_names[np.argmax(score)])"
   ]
  },
  {
   "cell_type": "code",
   "execution_count": 35,
   "id": "90e38f4e",
   "metadata": {
    "execution": {
     "iopub.execute_input": "2022-06-04T09:00:41.616894Z",
     "iopub.status.busy": "2022-06-04T09:00:41.616539Z",
     "iopub.status.idle": "2022-06-04T09:00:42.203713Z",
     "shell.execute_reply": "2022-06-04T09:00:42.202903Z"
    },
    "papermill": {
     "duration": 2.274671,
     "end_time": "2022-06-04T09:00:42.205809",
     "exception": false,
     "start_time": "2022-06-04T09:00:39.931138",
     "status": "completed"
    },
    "tags": []
   },
   "outputs": [],
   "source": [
    "from sklearn.metrics import classification_report"
   ]
  },
  {
   "cell_type": "code",
   "execution_count": 36,
   "id": "7a40ce90",
   "metadata": {
    "execution": {
     "iopub.execute_input": "2022-06-04T09:00:45.599213Z",
     "iopub.status.busy": "2022-06-04T09:00:45.598838Z",
     "iopub.status.idle": "2022-06-04T09:00:45.773566Z",
     "shell.execute_reply": "2022-06-04T09:00:45.772567Z"
    },
    "papermill": {
     "duration": 1.878647,
     "end_time": "2022-06-04T09:00:45.776562",
     "exception": false,
     "start_time": "2022-06-04T09:00:43.897915",
     "status": "completed"
    },
    "tags": []
   },
   "outputs": [
    {
     "name": "stdout",
     "output_type": "stream",
     "text": [
      "                                               precision    recall  f1-score   support\n",
      "\n",
      "                           Apple___Apple_scab       1.00      0.96      0.98        94\n",
      "                            Apple___Black_rot       1.00      0.99      1.00       113\n",
      "                     Apple___Cedar_apple_rust       1.00      0.99      0.99       100\n",
      "                              Apple___healthy       0.99      1.00      0.99       148\n",
      "                    Background_without_leaves       0.99      1.00      1.00       123\n",
      "                          Blueberry___healthy       1.00      1.00      1.00       156\n",
      "                      Cherry___Powdery_mildew       0.99      1.00      1.00       107\n",
      "                             Cherry___healthy       1.00      0.99      0.99        94\n",
      "   Corn___Cercospora_leaf_spot Gray_leaf_spot       0.82      0.98      0.89        87\n",
      "                           Corn___Common_rust       1.00      1.00      1.00       154\n",
      "                  Corn___Northern_Leaf_Blight       0.98      0.82      0.89       105\n",
      "                               Corn___healthy       1.00      1.00      1.00       121\n",
      "                            Grape___Black_rot       0.99      1.00      0.99        98\n",
      "                 Grape___Esca_(Black_Measles)       1.00      0.99      1.00       131\n",
      "   Grape___Leaf_blight_(Isariopsis_Leaf_Spot)       1.00      0.99      1.00       112\n",
      "                              Grape___healthy       1.00      1.00      1.00        98\n",
      "     Orange___Haunglongbing_(Citrus_greening)       1.00      1.00      1.00       577\n",
      "                       Peach___Bacterial_spot       0.99      0.98      0.99       236\n",
      "                              Peach___healthy       0.97      1.00      0.98       124\n",
      "                Pepper,_bell___Bacterial_spot       1.00      1.00      1.00       108\n",
      "                       Pepper,_bell___healthy       1.00      1.00      1.00       161\n",
      "                        Potato___Early_blight       1.00      0.99      0.99        94\n",
      "                         Potato___Late_blight       0.94      0.92      0.93        87\n",
      "                             Potato___healthy       0.99      0.98      0.98        97\n",
      "                          Raspberry___healthy       1.00      0.99      0.99        90\n",
      "                            Soybean___healthy       0.99      1.00      1.00       506\n",
      "                      Squash___Powdery_mildew       1.00      1.00      1.00       170\n",
      "                     Strawberry___Leaf_scorch       1.00      0.99      0.99        98\n",
      "                         Strawberry___healthy       0.99      1.00      0.99        92\n",
      "                      Tomato___Bacterial_spot       1.00      0.94      0.97       212\n",
      "                        Tomato___Early_blight       0.84      0.88      0.86       101\n",
      "                         Tomato___Late_blight       0.95      0.95      0.95       192\n",
      "                           Tomato___Leaf_Mold       1.00      0.88      0.94        86\n",
      "                  Tomato___Septoria_leaf_spot       0.93      0.98      0.96       169\n",
      "Tomato___Spider_mites Two-spotted_spider_mite       0.97      0.94      0.96       163\n",
      "                         Tomato___Target_Spot       0.91      0.98      0.94       147\n",
      "       Tomato___Tomato_Yellow_Leaf_Curl_Virus       0.99      1.00      1.00       536\n",
      "                 Tomato___Tomato_mosaic_virus       0.99      1.00      0.99        97\n",
      "                             Tomato___healthy       0.99      1.00      0.99       174\n",
      "\n",
      "                                     accuracy                           0.98      6158\n",
      "                                    macro avg       0.98      0.98      0.98      6158\n",
      "                                 weighted avg       0.98      0.98      0.98      6158\n",
      "\n"
     ]
    }
   ],
   "source": [
    "print(classification_report(y_true, y_pred))"
   ]
  },
  {
   "cell_type": "code",
   "execution_count": 37,
   "id": "8ead3dd3",
   "metadata": {
    "execution": {
     "iopub.execute_input": "2022-06-04T09:00:49.308340Z",
     "iopub.status.busy": "2022-06-04T09:00:49.307859Z",
     "iopub.status.idle": "2022-06-04T09:00:50.162507Z",
     "shell.execute_reply": "2022-06-04T09:00:50.161334Z"
    },
    "papermill": {
     "duration": 2.680876,
     "end_time": "2022-06-04T09:00:50.165020",
     "exception": false,
     "start_time": "2022-06-04T09:00:47.484144",
     "status": "completed"
    },
    "tags": []
   },
   "outputs": [],
   "source": [
    "!mkdir -p saved_model"
   ]
  },
  {
   "cell_type": "code",
   "execution_count": 38,
   "id": "f8d76fc7",
   "metadata": {
    "execution": {
     "iopub.execute_input": "2022-06-04T09:00:53.598473Z",
     "iopub.status.busy": "2022-06-04T09:00:53.598058Z",
     "iopub.status.idle": "2022-06-04T09:01:18.986015Z",
     "shell.execute_reply": "2022-06-04T09:01:18.984970Z"
    },
    "papermill": {
     "duration": 27.000018,
     "end_time": "2022-06-04T09:01:18.989048",
     "exception": false,
     "start_time": "2022-06-04T09:00:51.989030",
     "status": "completed"
    },
    "tags": []
   },
   "outputs": [
    {
     "name": "stderr",
     "output_type": "stream",
     "text": [
      "2022-06-04 09:01:03.310479: W tensorflow/python/util/util.cc:348] Sets are not currently considered sequences, but this may change in the future, so consider avoiding using them.\n",
      "/opt/conda/lib/python3.7/site-packages/keras/utils/generic_utils.py:497: CustomMaskWarning: Custom mask layers require a config and must override get_config. When loading, the custom mask layer must be passed to the custom_objects argument.\n",
      "  category=CustomMaskWarning)\n"
     ]
    }
   ],
   "source": [
    "model.save('saved_model/my_model')"
   ]
  },
  {
   "cell_type": "code",
   "execution_count": 39,
   "id": "1eaf1f43",
   "metadata": {
    "execution": {
     "iopub.execute_input": "2022-06-04T09:01:22.636426Z",
     "iopub.status.busy": "2022-06-04T09:01:22.635752Z",
     "iopub.status.idle": "2022-06-04T09:01:31.650990Z",
     "shell.execute_reply": "2022-06-04T09:01:31.650109Z"
    },
    "papermill": {
     "duration": 10.97473,
     "end_time": "2022-06-04T09:01:31.654575",
     "exception": false,
     "start_time": "2022-06-04T09:01:20.679845",
     "status": "completed"
    },
    "tags": []
   },
   "outputs": [],
   "source": [
    "saved_model = tf.keras.models.load_model('./saved_model/my_model/')"
   ]
  }
 ],
 "metadata": {
  "kernelspec": {
   "display_name": "Python 3",
   "language": "python",
   "name": "python3"
  },
  "language_info": {
   "codemirror_mode": {
    "name": "ipython",
    "version": 3
   },
   "file_extension": ".py",
   "mimetype": "text/x-python",
   "name": "python",
   "nbconvert_exporter": "python",
   "pygments_lexer": "ipython3",
   "version": "3.7.12"
  },
  "papermill": {
   "default_parameters": {},
   "duration": 4545.236184,
   "end_time": "2022-06-04T09:01:36.533128",
   "environment_variables": {},
   "exception": null,
   "input_path": "__notebook__.ipynb",
   "output_path": "__notebook__.ipynb",
   "parameters": {},
   "start_time": "2022-06-04T07:45:51.296944",
   "version": "2.3.4"
  }
 },
 "nbformat": 4,
 "nbformat_minor": 5
}
