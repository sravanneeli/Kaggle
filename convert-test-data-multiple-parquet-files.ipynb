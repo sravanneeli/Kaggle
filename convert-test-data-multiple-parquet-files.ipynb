{
 "cells": [
  {
   "cell_type": "code",
   "execution_count": 1,
   "id": "d176cab3",
   "metadata": {
    "_cell_guid": "b1076dfc-b9ad-4769-8c92-a6c4dae69d19",
    "_uuid": "8f2839f25d086af736a60e9eeb907d3b93b6e0e5",
    "execution": {
     "iopub.execute_input": "2022-05-31T10:41:07.141197Z",
     "iopub.status.busy": "2022-05-31T10:41:07.140302Z",
     "iopub.status.idle": "2022-05-31T10:41:07.154149Z",
     "shell.execute_reply": "2022-05-31T10:41:07.153246Z"
    },
    "papermill": {
     "duration": 0.025867,
     "end_time": "2022-05-31T10:41:07.159021",
     "exception": false,
     "start_time": "2022-05-31T10:41:07.133154",
     "status": "completed"
    },
    "tags": []
   },
   "outputs": [
    {
     "name": "stdout",
     "output_type": "stream",
     "text": [
      "/kaggle/input/amex-default-prediction/sample_submission.csv\n",
      "/kaggle/input/amex-default-prediction/train_data.csv\n",
      "/kaggle/input/amex-default-prediction/test_data.csv\n",
      "/kaggle/input/amex-default-prediction/train_labels.csv\n"
     ]
    }
   ],
   "source": [
    "# This Python 3 environment comes with many helpful analytics libraries installed\n",
    "# It is defined by the kaggle/python Docker image: https://github.com/kaggle/docker-python\n",
    "# For example, here's several helpful packages to load\n",
    "\n",
    "import numpy as np # linear algebra\n",
    "import pandas as pd # data processing, CSV file I/O (e.g. pd.read_csv)\n",
    "\n",
    "# Input data files are available in the read-only \"../input/\" directory\n",
    "# For example, running this (by clicking run or pressing Shift+Enter) will list all files under the input directory\n",
    "\n",
    "import os\n",
    "for dirname, _, filenames in os.walk('/kaggle/input'):\n",
    "    for filename in filenames:\n",
    "        print(os.path.join(dirname, filename))\n",
    "\n",
    "# You can write up to 20GB to the current directory (/kaggle/working/) that gets preserved as output when you create a version using \"Save & Run All\" \n",
    "# You can also write temporary files to /kaggle/temp/, but they won't be saved outside of the current session"
   ]
  },
  {
   "cell_type": "code",
   "execution_count": 2,
   "id": "f13ff41f",
   "metadata": {
    "execution": {
     "iopub.execute_input": "2022-05-31T10:41:07.169578Z",
     "iopub.status.busy": "2022-05-31T10:41:07.169191Z",
     "iopub.status.idle": "2022-05-31T10:41:08.004140Z",
     "shell.execute_reply": "2022-05-31T10:41:08.003213Z"
    },
    "papermill": {
     "duration": 0.842859,
     "end_time": "2022-05-31T10:41:08.006465",
     "exception": false,
     "start_time": "2022-05-31T10:41:07.163606",
     "status": "completed"
    },
    "tags": []
   },
   "outputs": [],
   "source": [
    "import dask.dataframe as dd\n",
    "import gc"
   ]
  },
  {
   "cell_type": "code",
   "execution_count": 3,
   "id": "fde2dea6",
   "metadata": {
    "execution": {
     "iopub.execute_input": "2022-05-31T10:41:08.017428Z",
     "iopub.status.busy": "2022-05-31T10:41:08.017062Z",
     "iopub.status.idle": "2022-05-31T10:41:08.048340Z",
     "shell.execute_reply": "2022-05-31T10:41:08.047658Z"
    },
    "papermill": {
     "duration": 0.039401,
     "end_time": "2022-05-31T10:41:08.050541",
     "exception": false,
     "start_time": "2022-05-31T10:41:08.011140",
     "status": "completed"
    },
    "tags": []
   },
   "outputs": [],
   "source": [
    "test_df = pd.read_csv('../input/amex-default-prediction/test_data.csv', nrows=10)"
   ]
  },
  {
   "cell_type": "code",
   "execution_count": 4,
   "id": "c7fd1ee3",
   "metadata": {
    "execution": {
     "iopub.execute_input": "2022-05-31T10:41:08.061579Z",
     "iopub.status.busy": "2022-05-31T10:41:08.060977Z",
     "iopub.status.idle": "2022-05-31T10:41:08.065414Z",
     "shell.execute_reply": "2022-05-31T10:41:08.064615Z"
    },
    "papermill": {
     "duration": 0.012208,
     "end_time": "2022-05-31T10:41:08.067474",
     "exception": false,
     "start_time": "2022-05-31T10:41:08.055266",
     "status": "completed"
    },
    "tags": []
   },
   "outputs": [],
   "source": [
    "dtype_dict = {}"
   ]
  },
  {
   "cell_type": "code",
   "execution_count": 5,
   "id": "2d7afcef",
   "metadata": {
    "execution": {
     "iopub.execute_input": "2022-05-31T10:41:08.077791Z",
     "iopub.status.busy": "2022-05-31T10:41:08.077399Z",
     "iopub.status.idle": "2022-05-31T10:41:08.088108Z",
     "shell.execute_reply": "2022-05-31T10:41:08.087411Z"
    },
    "papermill": {
     "duration": 0.018009,
     "end_time": "2022-05-31T10:41:08.089952",
     "exception": false,
     "start_time": "2022-05-31T10:41:08.071943",
     "status": "completed"
    },
    "tags": []
   },
   "outputs": [],
   "source": [
    "cat_cols = ['B_30', 'B_38', 'D_114', 'D_116', 'D_117', 'D_120', 'D_126', 'D_63', 'D_64', 'D_66', 'D_68']\n",
    "for col in cat_cols:\n",
    "    if test_df[col].dtype == \"float64\":\n",
    "        dtype_dict[col] = \"int8\" # category to \n",
    "    else:\n",
    "        dtype_dict[col] = str"
   ]
  },
  {
   "cell_type": "code",
   "execution_count": 6,
   "id": "e96d47f4",
   "metadata": {
    "execution": {
     "iopub.execute_input": "2022-05-31T10:41:08.100908Z",
     "iopub.status.busy": "2022-05-31T10:41:08.100304Z",
     "iopub.status.idle": "2022-05-31T10:41:08.217175Z",
     "shell.execute_reply": "2022-05-31T10:41:08.216481Z"
    },
    "papermill": {
     "duration": 0.125052,
     "end_time": "2022-05-31T10:41:08.219563",
     "exception": false,
     "start_time": "2022-05-31T10:41:08.094511",
     "status": "completed"
    },
    "tags": []
   },
   "outputs": [],
   "source": [
    "for col in test_df.columns:\n",
    "    \n",
    "    if test_df[col].dtype == \"float64\":\n",
    "        dtype_dict[col] = \"float32\""
   ]
  },
  {
   "cell_type": "code",
   "execution_count": 7,
   "id": "096a1850",
   "metadata": {
    "execution": {
     "iopub.execute_input": "2022-05-31T10:41:08.230774Z",
     "iopub.status.busy": "2022-05-31T10:41:08.230203Z",
     "iopub.status.idle": "2022-05-31T10:41:08.243538Z",
     "shell.execute_reply": "2022-05-31T10:41:08.242524Z"
    },
    "papermill": {
     "duration": 0.021526,
     "end_time": "2022-05-31T10:41:08.245916",
     "exception": false,
     "start_time": "2022-05-31T10:41:08.224390",
     "status": "completed"
    },
    "tags": []
   },
   "outputs": [],
   "source": [
    "train_df = pd.read_csv('../input/amex-default-prediction/train_data.csv', chunksize=100000)"
   ]
  },
  {
   "cell_type": "code",
   "execution_count": 8,
   "id": "39a0e3f6",
   "metadata": {
    "execution": {
     "iopub.execute_input": "2022-05-31T10:41:08.256814Z",
     "iopub.status.busy": "2022-05-31T10:41:08.256398Z",
     "iopub.status.idle": "2022-05-31T10:48:41.090441Z",
     "shell.execute_reply": "2022-05-31T10:48:41.089260Z"
    },
    "papermill": {
     "duration": 452.843735,
     "end_time": "2022-05-31T10:48:41.094255",
     "exception": false,
     "start_time": "2022-05-31T10:41:08.250520",
     "status": "completed"
    },
    "tags": []
   },
   "outputs": [],
   "source": [
    "for index, row in enumerate(train_df):\n",
    "    row = row.astype(dtype_dict)\n",
    "    row['customer_ID'] = row['customer_ID'].astype('|S')\n",
    "    row['S_2'] = row['S_2'].astype('datetime64[ns]')\n",
    "    row.to_parquet(f'train_file_{index+1}.pqt', index=False)\n",
    "    del(row)\n",
    "    gc.collect()"
   ]
  },
  {
   "cell_type": "code",
   "execution_count": 9,
   "id": "17190889",
   "metadata": {
    "execution": {
     "iopub.execute_input": "2022-05-31T10:48:41.107083Z",
     "iopub.status.busy": "2022-05-31T10:48:41.106528Z",
     "iopub.status.idle": "2022-05-31T10:48:41.111772Z",
     "shell.execute_reply": "2022-05-31T10:48:41.110745Z"
    },
    "papermill": {
     "duration": 0.013138,
     "end_time": "2022-05-31T10:48:41.113829",
     "exception": false,
     "start_time": "2022-05-31T10:48:41.100691",
     "status": "completed"
    },
    "tags": []
   },
   "outputs": [],
   "source": [
    "del(train_df)"
   ]
  },
  {
   "cell_type": "code",
   "execution_count": 10,
   "id": "315bf4b8",
   "metadata": {
    "execution": {
     "iopub.execute_input": "2022-05-31T10:48:41.124667Z",
     "iopub.status.busy": "2022-05-31T10:48:41.123943Z",
     "iopub.status.idle": "2022-05-31T10:48:41.242009Z",
     "shell.execute_reply": "2022-05-31T10:48:41.241048Z"
    },
    "papermill": {
     "duration": 0.125908,
     "end_time": "2022-05-31T10:48:41.244289",
     "exception": false,
     "start_time": "2022-05-31T10:48:41.118381",
     "status": "completed"
    },
    "tags": []
   },
   "outputs": [
    {
     "data": {
      "text/plain": [
       "42"
      ]
     },
     "execution_count": 10,
     "metadata": {},
     "output_type": "execute_result"
    }
   ],
   "source": [
    "gc.collect()"
   ]
  },
  {
   "cell_type": "code",
   "execution_count": 11,
   "id": "d3b9334d",
   "metadata": {
    "execution": {
     "iopub.execute_input": "2022-05-31T10:48:41.254768Z",
     "iopub.status.busy": "2022-05-31T10:48:41.254382Z",
     "iopub.status.idle": "2022-05-31T10:48:41.273430Z",
     "shell.execute_reply": "2022-05-31T10:48:41.272319Z"
    },
    "papermill": {
     "duration": 0.026922,
     "end_time": "2022-05-31T10:48:41.275744",
     "exception": false,
     "start_time": "2022-05-31T10:48:41.248822",
     "status": "completed"
    },
    "tags": []
   },
   "outputs": [],
   "source": [
    "test_df = pd.read_csv('../input/amex-default-prediction/test_data.csv', chunksize=100000)"
   ]
  },
  {
   "cell_type": "code",
   "execution_count": 12,
   "id": "571f2b87",
   "metadata": {
    "execution": {
     "iopub.execute_input": "2022-05-31T10:48:41.286927Z",
     "iopub.status.busy": "2022-05-31T10:48:41.286497Z",
     "iopub.status.idle": "2022-05-31T11:04:40.096067Z",
     "shell.execute_reply": "2022-05-31T11:04:40.094647Z"
    },
    "papermill": {
     "duration": 958.821129,
     "end_time": "2022-05-31T11:04:40.101577",
     "exception": false,
     "start_time": "2022-05-31T10:48:41.280448",
     "status": "completed"
    },
    "tags": []
   },
   "outputs": [],
   "source": [
    "for index, row in enumerate(test_df):\n",
    "    row = row.astype(dtype_dict)\n",
    "    row['customer_ID'] = row['customer_ID'].astype('|S')\n",
    "    row['S_2'] = row['S_2'].astype('datetime64[ns]')\n",
    "    row.to_parquet(f'test_file_{index+1}.pqt', index=False)\n",
    "    del(row)\n",
    "    gc.collect()"
   ]
  },
  {
   "cell_type": "code",
   "execution_count": 13,
   "id": "19e94c33",
   "metadata": {
    "execution": {
     "iopub.execute_input": "2022-05-31T11:04:40.117290Z",
     "iopub.status.busy": "2022-05-31T11:04:40.116776Z",
     "iopub.status.idle": "2022-05-31T11:04:40.235067Z",
     "shell.execute_reply": "2022-05-31T11:04:40.234153Z"
    },
    "papermill": {
     "duration": 0.127483,
     "end_time": "2022-05-31T11:04:40.238064",
     "exception": false,
     "start_time": "2022-05-31T11:04:40.110581",
     "status": "completed"
    },
    "tags": []
   },
   "outputs": [
    {
     "data": {
      "text/plain": [
       "21"
      ]
     },
     "execution_count": 13,
     "metadata": {},
     "output_type": "execute_result"
    }
   ],
   "source": [
    "del(test_df)\n",
    "gc.collect()"
   ]
  }
 ],
 "metadata": {
  "kernelspec": {
   "display_name": "Python 3",
   "language": "python",
   "name": "python3"
  },
  "language_info": {
   "codemirror_mode": {
    "name": "ipython",
    "version": 3
   },
   "file_extension": ".py",
   "mimetype": "text/x-python",
   "name": "python",
   "nbconvert_exporter": "python",
   "pygments_lexer": "ipython3",
   "version": "3.7.12"
  },
  "papermill": {
   "default_parameters": {},
   "duration": 1423.493537,
   "end_time": "2022-05-31T11:04:41.070971",
   "environment_variables": {},
   "exception": null,
   "input_path": "__notebook__.ipynb",
   "output_path": "__notebook__.ipynb",
   "parameters": {},
   "start_time": "2022-05-31T10:40:57.577434",
   "version": "2.3.4"
  }
 },
 "nbformat": 4,
 "nbformat_minor": 5
}
