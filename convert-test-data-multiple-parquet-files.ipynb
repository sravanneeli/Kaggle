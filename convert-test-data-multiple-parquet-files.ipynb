{
 "cells": [
  {
   "cell_type": "code",
   "execution_count": 1,
   "id": "c6177c5b",
   "metadata": {
    "_cell_guid": "b1076dfc-b9ad-4769-8c92-a6c4dae69d19",
    "_uuid": "8f2839f25d086af736a60e9eeb907d3b93b6e0e5",
    "execution": {
     "iopub.execute_input": "2022-05-31T08:47:18.258446Z",
     "iopub.status.busy": "2022-05-31T08:47:18.257370Z",
     "iopub.status.idle": "2022-05-31T08:47:18.279975Z",
     "shell.execute_reply": "2022-05-31T08:47:18.278424Z"
    },
    "papermill": {
     "duration": 0.035641,
     "end_time": "2022-05-31T08:47:18.284122",
     "exception": false,
     "start_time": "2022-05-31T08:47:18.248481",
     "status": "completed"
    },
    "tags": []
   },
   "outputs": [
    {
     "name": "stdout",
     "output_type": "stream",
     "text": [
      "/kaggle/input/amex-default-prediction/sample_submission.csv\n",
      "/kaggle/input/amex-default-prediction/train_data.csv\n",
      "/kaggle/input/amex-default-prediction/test_data.csv\n",
      "/kaggle/input/amex-default-prediction/train_labels.csv\n"
     ]
    }
   ],
   "source": [
    "# This Python 3 environment comes with many helpful analytics libraries installed\n",
    "# It is defined by the kaggle/python Docker image: https://github.com/kaggle/docker-python\n",
    "# For example, here's several helpful packages to load\n",
    "\n",
    "import numpy as np # linear algebra\n",
    "import pandas as pd # data processing, CSV file I/O (e.g. pd.read_csv)\n",
    "\n",
    "# Input data files are available in the read-only \"../input/\" directory\n",
    "# For example, running this (by clicking run or pressing Shift+Enter) will list all files under the input directory\n",
    "\n",
    "import os\n",
    "for dirname, _, filenames in os.walk('/kaggle/input'):\n",
    "    for filename in filenames:\n",
    "        print(os.path.join(dirname, filename))\n",
    "\n",
    "# You can write up to 20GB to the current directory (/kaggle/working/) that gets preserved as output when you create a version using \"Save & Run All\" \n",
    "# You can also write temporary files to /kaggle/temp/, but they won't be saved outside of the current session"
   ]
  },
  {
   "cell_type": "code",
   "execution_count": 2,
   "id": "747b7efb",
   "metadata": {
    "execution": {
     "iopub.execute_input": "2022-05-31T08:47:18.295551Z",
     "iopub.status.busy": "2022-05-31T08:47:18.294557Z",
     "iopub.status.idle": "2022-05-31T08:47:19.219307Z",
     "shell.execute_reply": "2022-05-31T08:47:19.218024Z"
    },
    "papermill": {
     "duration": 0.93358,
     "end_time": "2022-05-31T08:47:19.222197",
     "exception": false,
     "start_time": "2022-05-31T08:47:18.288617",
     "status": "completed"
    },
    "tags": []
   },
   "outputs": [],
   "source": [
    "import dask.dataframe as dd\n",
    "import gc"
   ]
  },
  {
   "cell_type": "code",
   "execution_count": 3,
   "id": "89a21514",
   "metadata": {
    "execution": {
     "iopub.execute_input": "2022-05-31T08:47:19.233151Z",
     "iopub.status.busy": "2022-05-31T08:47:19.232624Z",
     "iopub.status.idle": "2022-05-31T08:47:19.270178Z",
     "shell.execute_reply": "2022-05-31T08:47:19.269044Z"
    },
    "papermill": {
     "duration": 0.046253,
     "end_time": "2022-05-31T08:47:19.272980",
     "exception": false,
     "start_time": "2022-05-31T08:47:19.226727",
     "status": "completed"
    },
    "tags": []
   },
   "outputs": [],
   "source": [
    "test_df = pd.read_csv('../input/amex-default-prediction/test_data.csv', nrows=10)"
   ]
  },
  {
   "cell_type": "code",
   "execution_count": 4,
   "id": "7183c271",
   "metadata": {
    "execution": {
     "iopub.execute_input": "2022-05-31T08:47:19.283158Z",
     "iopub.status.busy": "2022-05-31T08:47:19.282688Z",
     "iopub.status.idle": "2022-05-31T08:47:19.287314Z",
     "shell.execute_reply": "2022-05-31T08:47:19.286496Z"
    },
    "papermill": {
     "duration": 0.011911,
     "end_time": "2022-05-31T08:47:19.289248",
     "exception": false,
     "start_time": "2022-05-31T08:47:19.277337",
     "status": "completed"
    },
    "tags": []
   },
   "outputs": [],
   "source": [
    "dtype_dict = {}"
   ]
  },
  {
   "cell_type": "code",
   "execution_count": 5,
   "id": "ef4b9137",
   "metadata": {
    "execution": {
     "iopub.execute_input": "2022-05-31T08:47:19.300043Z",
     "iopub.status.busy": "2022-05-31T08:47:19.299506Z",
     "iopub.status.idle": "2022-05-31T08:47:19.312088Z",
     "shell.execute_reply": "2022-05-31T08:47:19.311179Z"
    },
    "papermill": {
     "duration": 0.020644,
     "end_time": "2022-05-31T08:47:19.314225",
     "exception": false,
     "start_time": "2022-05-31T08:47:19.293581",
     "status": "completed"
    },
    "tags": []
   },
   "outputs": [],
   "source": [
    "cat_cols = ['B_30', 'B_38', 'D_114', 'D_116', 'D_117', 'D_120', 'D_126', 'D_63', 'D_64', 'D_66', 'D_68']\n",
    "for col in cat_cols:\n",
    "    if test_df[col].dtype == \"float64\":\n",
    "        dtype_dict[col] = \"int8\" # category to \n",
    "    else:\n",
    "        dtype_dict[col] = str"
   ]
  },
  {
   "cell_type": "code",
   "execution_count": 6,
   "id": "3f554bb2",
   "metadata": {
    "execution": {
     "iopub.execute_input": "2022-05-31T08:47:19.325542Z",
     "iopub.status.busy": "2022-05-31T08:47:19.324840Z",
     "iopub.status.idle": "2022-05-31T08:47:19.501193Z",
     "shell.execute_reply": "2022-05-31T08:47:19.499934Z"
    },
    "papermill": {
     "duration": 0.185559,
     "end_time": "2022-05-31T08:47:19.504216",
     "exception": false,
     "start_time": "2022-05-31T08:47:19.318657",
     "status": "completed"
    },
    "tags": []
   },
   "outputs": [],
   "source": [
    "for col in test_df.columns:\n",
    "    \n",
    "    if test_df[col].dtype == \"float64\":\n",
    "        dtype_dict[col] = \"float32\""
   ]
  },
  {
   "cell_type": "code",
   "execution_count": 7,
   "id": "3ae184e8",
   "metadata": {
    "execution": {
     "iopub.execute_input": "2022-05-31T08:47:19.514980Z",
     "iopub.status.busy": "2022-05-31T08:47:19.514419Z",
     "iopub.status.idle": "2022-05-31T08:47:19.529710Z",
     "shell.execute_reply": "2022-05-31T08:47:19.528602Z"
    },
    "papermill": {
     "duration": 0.023959,
     "end_time": "2022-05-31T08:47:19.532517",
     "exception": false,
     "start_time": "2022-05-31T08:47:19.508558",
     "status": "completed"
    },
    "tags": []
   },
   "outputs": [],
   "source": [
    "test_df = pd.read_csv('../input/amex-default-prediction/test_data.csv', chunksize=100000)"
   ]
  },
  {
   "cell_type": "code",
   "execution_count": 8,
   "id": "a2365483",
   "metadata": {
    "execution": {
     "iopub.execute_input": "2022-05-31T08:47:19.543260Z",
     "iopub.status.busy": "2022-05-31T08:47:19.542721Z",
     "iopub.status.idle": "2022-05-31T09:05:14.987670Z",
     "shell.execute_reply": "2022-05-31T09:05:14.986172Z"
    },
    "papermill": {
     "duration": 1075.455658,
     "end_time": "2022-05-31T09:05:14.992633",
     "exception": false,
     "start_time": "2022-05-31T08:47:19.536975",
     "status": "completed"
    },
    "tags": []
   },
   "outputs": [],
   "source": [
    "for index, row in enumerate(test_df):\n",
    "    row = row.astype(dtype_dict)\n",
    "    row['customer_ID'] = row['customer_ID'].astype('|S')\n",
    "    row['S_2'] = row['S_2'].astype('datetime64[ns]')\n",
    "    row.to_parquet(f'test_file_{index+1}.pqt', index=False)\n",
    "    del(row)\n",
    "    gc.collect()"
   ]
  },
  {
   "cell_type": "code",
   "execution_count": 9,
   "id": "1b0684ac",
   "metadata": {
    "execution": {
     "iopub.execute_input": "2022-05-31T09:05:15.005892Z",
     "iopub.status.busy": "2022-05-31T09:05:15.004905Z",
     "iopub.status.idle": "2022-05-31T09:05:15.143825Z",
     "shell.execute_reply": "2022-05-31T09:05:15.142814Z"
    },
    "papermill": {
     "duration": 0.147216,
     "end_time": "2022-05-31T09:05:15.146820",
     "exception": false,
     "start_time": "2022-05-31T09:05:14.999604",
     "status": "completed"
    },
    "tags": []
   },
   "outputs": [
    {
     "data": {
      "text/plain": [
       "21"
      ]
     },
     "execution_count": 9,
     "metadata": {},
     "output_type": "execute_result"
    }
   ],
   "source": [
    "del(test_df)\n",
    "gc.collect()"
   ]
  },
  {
   "cell_type": "code",
   "execution_count": 10,
   "id": "4664b53d",
   "metadata": {
    "execution": {
     "iopub.execute_input": "2022-05-31T09:05:15.156272Z",
     "iopub.status.busy": "2022-05-31T09:05:15.155649Z",
     "iopub.status.idle": "2022-05-31T09:05:15.290527Z",
     "shell.execute_reply": "2022-05-31T09:05:15.289623Z"
    },
    "papermill": {
     "duration": 0.14489,
     "end_time": "2022-05-31T09:05:15.295749",
     "exception": false,
     "start_time": "2022-05-31T09:05:15.150859",
     "status": "completed"
    },
    "tags": []
   },
   "outputs": [
    {
     "data": {
      "text/plain": [
       "21"
      ]
     },
     "execution_count": 10,
     "metadata": {},
     "output_type": "execute_result"
    }
   ],
   "source": [
    "gc.collect()"
   ]
  }
 ],
 "metadata": {
  "kernelspec": {
   "display_name": "Python 3",
   "language": "python",
   "name": "python3"
  },
  "language_info": {
   "codemirror_mode": {
    "name": "ipython",
    "version": 3
   },
   "file_extension": ".py",
   "mimetype": "text/x-python",
   "name": "python",
   "nbconvert_exporter": "python",
   "pygments_lexer": "ipython3",
   "version": "3.7.12"
  },
  "papermill": {
   "default_parameters": {},
   "duration": 1087.789179,
   "end_time": "2022-05-31T09:05:16.132175",
   "environment_variables": {},
   "exception": null,
   "input_path": "__notebook__.ipynb",
   "output_path": "__notebook__.ipynb",
   "parameters": {},
   "start_time": "2022-05-31T08:47:08.342996",
   "version": "2.3.4"
  }
 },
 "nbformat": 4,
 "nbformat_minor": 5
}
